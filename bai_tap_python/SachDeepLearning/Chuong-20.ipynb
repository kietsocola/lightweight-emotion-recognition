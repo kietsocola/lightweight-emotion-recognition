{
 "cells": [
  {
   "cell_type": "markdown",
   "id": "cc5e8c1b-8219-4faa-99f7-e072e71f3784",
   "metadata": {},
   "source": [
    "# Chương 20 Reduce Overfitting with Dropout Regularization"
   ]
  },
  {
   "cell_type": "markdown",
   "id": "9c880aa4-49c8-4883-8eee-aa51047ae2c2",
   "metadata": {},
   "source": [
    "## Dropout Regularization in Keras"
   ]
  },
  {
   "cell_type": "code",
   "execution_count": 2,
   "id": "d2c6794f-5fae-4ad8-8def-b00bee2eed21",
   "metadata": {},
   "outputs": [
    {
     "name": "stdout",
     "output_type": "stream",
     "text": [
      "WARNING:tensorflow:5 out of the last 5 calls to <function TensorFlowTrainer.make_predict_function.<locals>.one_step_on_data_distributed at 0x0000025FE6EC2C00> triggered tf.function retracing. Tracing is expensive and the excessive number of tracings could be due to (1) creating @tf.function repeatedly in a loop, (2) passing tensors with different shapes, (3) passing Python objects instead of tensors. For (1), please define your @tf.function outside of the loop. For (2), @tf.function has reduce_retracing=True option that can avoid unnecessary retracing. For (3), please refer to https://www.tensorflow.org/guide/function#controlling_retracing and https://www.tensorflow.org/api_docs/python/tf/function for  more details.\n",
      "WARNING:tensorflow:6 out of the last 6 calls to <function TensorFlowTrainer.make_predict_function.<locals>.one_step_on_data_distributed at 0x0000025FE6EC2C00> triggered tf.function retracing. Tracing is expensive and the excessive number of tracings could be due to (1) creating @tf.function repeatedly in a loop, (2) passing tensors with different shapes, (3) passing Python objects instead of tensors. For (1), please define your @tf.function outside of the loop. For (2), @tf.function has reduce_retracing=True option that can avoid unnecessary retracing. For (3), please refer to https://www.tensorflow.org/guide/function#controlling_retracing and https://www.tensorflow.org/api_docs/python/tf/function for  more details.\n",
      "Baseline: 88.90% (7.49%)\n"
     ]
    }
   ],
   "source": [
    "from pandas import read_csv\n",
    "from tensorflow.keras.models import Sequential\n",
    "from tensorflow.keras.layers import Dense, Input\n",
    "from tensorflow.keras.optimizers import SGD\n",
    "from scikeras.wrappers import KerasClassifier\n",
    "from sklearn.model_selection import cross_val_score\n",
    "from sklearn.preprocessing import LabelEncoder\n",
    "from sklearn.model_selection import StratifiedKFold\n",
    "from sklearn.preprocessing import StandardScaler\n",
    "from sklearn.pipeline import Pipeline\n",
    "\n",
    "# Load dataset\n",
    "dataframe = read_csv(\"sonar.csv\", header=None)\n",
    "dataset = dataframe.values\n",
    "\n",
    "# Split into input (X) and output (Y) variables\n",
    "X = dataset[:, 0:60].astype(float)\n",
    "Y = dataset[:, 60]\n",
    "\n",
    "# Encode class values as integers\n",
    "encoder = LabelEncoder()\n",
    "encoder.fit(Y)\n",
    "encoded_Y = encoder.transform(Y)\n",
    "\n",
    "# Baseline model creation function\n",
    "def create_baseline():\n",
    "    # Create the model\n",
    "    model = Sequential()\n",
    "    model.add(Input(shape=(60,)))  # Explicitly use Input layer\n",
    "    model.add(Dense(60, activation='relu'))\n",
    "    model.add(Dense(30, activation='relu'))\n",
    "    model.add(Dense(1, activation='sigmoid'))\n",
    "    \n",
    "    # Compile model\n",
    "    sgd = SGD(learning_rate=0.01, momentum=0.8)\n",
    "    model.compile(loss='binary_crossentropy', optimizer=sgd, metrics=['accuracy'])\n",
    "    \n",
    "    return model\n",
    "\n",
    "# Create the pipeline with standardization and model\n",
    "estimators = []\n",
    "estimators.append(('standardize', StandardScaler()))  # Standardize data\n",
    "estimators.append(('mlp', KerasClassifier(model=create_baseline, epochs=300, batch_size=16, verbose=0)))  # MLP model\n",
    "pipeline = Pipeline(estimators)\n",
    "\n",
    "# Use StratifiedKFold for cross-validation\n",
    "kfold = StratifiedKFold(n_splits=10, shuffle=True, random_state=42)\n",
    "\n",
    "# Evaluate the model using cross-validation\n",
    "results = cross_val_score(pipeline, X, encoded_Y, cv=kfold)\n",
    "\n",
    "# Print the results\n",
    "print(\"Baseline: %.2f%% (%.2f%%)\" % (results.mean()*100, results.std()*100))\n"
   ]
  },
  {
   "cell_type": "markdown",
   "id": "7135e8b2-0ea4-4b28-ad05-b43b34fc958b",
   "metadata": {},
   "source": [
    "## Using Dropout on the Visible Layer"
   ]
  },
  {
   "cell_type": "code",
   "execution_count": 3,
   "id": "b74a1558-b024-4c3f-8499-17184f690325",
   "metadata": {},
   "outputs": [
    {
     "name": "stdout",
     "output_type": "stream",
     "text": [
      "Visible: 84.12% (7.61%)\n"
     ]
    }
   ],
   "source": [
    "from pandas import read_csv\n",
    "from tensorflow.keras.models import Sequential\n",
    "from tensorflow.keras.layers import Dense, Dropout, Input\n",
    "from tensorflow.keras.constraints import MaxNorm\n",
    "from tensorflow.keras.optimizers import SGD\n",
    "from scikeras.wrappers import KerasClassifier\n",
    "from sklearn.model_selection import cross_val_score, StratifiedKFold\n",
    "from sklearn.preprocessing import LabelEncoder, StandardScaler\n",
    "from sklearn.pipeline import Pipeline\n",
    "\n",
    "# Load dataset\n",
    "dataframe = read_csv(\"sonar.csv\", header=None)\n",
    "dataset = dataframe.values\n",
    "\n",
    "# Split into input (X) and output (Y) variables\n",
    "X = dataset[:, 0:60].astype(float)\n",
    "Y = dataset[:, 60]\n",
    "\n",
    "# Encode class values as integers\n",
    "encoder = LabelEncoder()\n",
    "encoder.fit(Y)\n",
    "encoded_Y = encoder.transform(Y)\n",
    "\n",
    "# Dropout in the input layer with weight constraint\n",
    "def create_model():\n",
    "    model = Sequential()\n",
    "    model.add(Input(shape=(60,)))  # Sử dụng Input layer đúng cách\n",
    "    model.add(Dropout(0.2))\n",
    "    model.add(Dense(60, activation='relu', kernel_constraint=MaxNorm(3)))\n",
    "    model.add(Dense(30, activation='relu', kernel_constraint=MaxNorm(3)))\n",
    "    model.add(Dense(1, activation='sigmoid'))\n",
    "    \n",
    "    sgd = SGD(learning_rate=0.1, momentum=0.9)\n",
    "    model.compile(loss='binary_crossentropy', optimizer=sgd, metrics=['accuracy'])\n",
    "    return model\n",
    "\n",
    "# Tạo pipeline gồm chuẩn hóa + model\n",
    "estimators = [\n",
    "    ('standardize', StandardScaler()),\n",
    "    ('mlp', KerasClassifier(model=create_model, epochs=300, batch_size=16, verbose=0))\n",
    "]\n",
    "pipeline = Pipeline(estimators)\n",
    "\n",
    "# Sử dụng StratifiedKFold để đánh giá mô hình\n",
    "kfold = StratifiedKFold(n_splits=10, shuffle=True, random_state=42)\n",
    "results = cross_val_score(pipeline, X, encoded_Y, cv=kfold)\n",
    "\n",
    "# In kết quả\n",
    "print(\"Visible: %.2f%% (%.2f%%)\" % (results.mean() * 100, results.std() * 100))\n"
   ]
  },
  {
   "cell_type": "markdown",
   "id": "1497c78a-c340-48a6-a786-2f78abd9a776",
   "metadata": {},
   "source": [
    "## Using Dropout on Hidden Layers"
   ]
  },
  {
   "cell_type": "code",
   "execution_count": 5,
   "id": "0bb3d28f-58b1-43e0-a972-32c601717f93",
   "metadata": {},
   "outputs": [
    {
     "name": "stdout",
     "output_type": "stream",
     "text": [
      "Hidden: 85.62% (5.56%)\n"
     ]
    }
   ],
   "source": [
    "from pandas import read_csv\n",
    "from tensorflow.keras.models import Sequential\n",
    "from tensorflow.keras.layers import Dense, Dropout, Input\n",
    "from tensorflow.keras.constraints import MaxNorm\n",
    "from tensorflow.keras.optimizers import SGD\n",
    "from scikeras.wrappers import KerasClassifier\n",
    "from sklearn.model_selection import cross_val_score, StratifiedKFold\n",
    "from sklearn.preprocessing import LabelEncoder, StandardScaler\n",
    "from sklearn.pipeline import Pipeline\n",
    "\n",
    "# Load dataset\n",
    "dataframe = read_csv(\"sonar.csv\", header=None)\n",
    "dataset = dataframe.values\n",
    "\n",
    "# Split into input (X) and output (Y) variables\n",
    "X = dataset[:, 0:60].astype(float)\n",
    "Y = dataset[:, 60]\n",
    "\n",
    "# Encode class values as integers\n",
    "encoder = LabelEncoder()\n",
    "encoder.fit(Y)\n",
    "encoded_Y = encoder.transform(Y)\n",
    "\n",
    "# Dropout in hidden layers with weight constraint\n",
    "def create_model():\n",
    "    model = Sequential()\n",
    "    model.add(Input(shape=(60,)))  # Dùng Input layer thay vì input_shape trong Dense\n",
    "    model.add(Dense(60, activation='relu', kernel_constraint=MaxNorm(3)))\n",
    "    model.add(Dropout(0.2))\n",
    "    model.add(Dense(30, activation='relu', kernel_constraint=MaxNorm(3)))\n",
    "    model.add(Dropout(0.2))\n",
    "    model.add(Dense(1, activation='sigmoid'))\n",
    "\n",
    "    sgd = SGD(learning_rate=0.1, momentum=0.9)\n",
    "    model.compile(loss='binary_crossentropy', optimizer=sgd, metrics=['accuracy'])\n",
    "    return model\n",
    "\n",
    "# Create the pipeline\n",
    "estimators = [\n",
    "    ('standardize', StandardScaler()),\n",
    "    ('mlp', KerasClassifier(model=create_model, epochs=300, batch_size=16, verbose=0))\n",
    "]\n",
    "pipeline = Pipeline(estimators)\n",
    "\n",
    "# Evaluate model with stratified k-fold cross-validation\n",
    "kfold = StratifiedKFold(n_splits=10, shuffle=True, random_state=42)\n",
    "results = cross_val_score(pipeline, X, encoded_Y, cv=kfold)\n",
    "\n",
    "# Print results\n",
    "print(\"Hidden: %.2f%% (%.2f%%)\" % (results.mean() * 100, results.std() * 100))\n"
   ]
  },
  {
   "cell_type": "code",
   "execution_count": null,
   "id": "b3d3f59a-67bc-4af4-a059-48a5c6dcee7d",
   "metadata": {},
   "outputs": [],
   "source": []
  }
 ],
 "metadata": {
  "kernelspec": {
   "display_name": "Python [conda env:base] *",
   "language": "python",
   "name": "conda-base-py"
  },
  "language_info": {
   "codemirror_mode": {
    "name": "ipython",
    "version": 3
   },
   "file_extension": ".py",
   "mimetype": "text/x-python",
   "name": "python",
   "nbconvert_exporter": "python",
   "pygments_lexer": "ipython3",
   "version": "3.12.7"
  }
 },
 "nbformat": 4,
 "nbformat_minor": 5
}
