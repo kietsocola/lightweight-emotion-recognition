{
 "cells": [
  {
   "cell_type": "markdown",
   "id": "8e7538ea-b08a-4d59-b884-09cc9b6f6305",
   "metadata": {},
   "source": [
    "# Chương 8: Lựa chọn đặc trưng cho Machine Learning"
   ]
  },
  {
   "cell_type": "markdown",
   "id": "ef18189f-b2e9-424d-9632-01912415b536",
   "metadata": {},
   "source": [
    "## Trích xuất đặc trưng bằng kiểm định thống kê Chi-squared (Univariate Selection)"
   ]
  },
  {
   "cell_type": "code",
   "execution_count": 3,
   "id": "e7199fd0-709f-4f2e-b90b-0b3d433efe8d",
   "metadata": {},
   "outputs": [
    {
     "name": "stdout",
     "output_type": "stream",
     "text": [
      "[ 111.52  1411.887   17.605   53.108 2175.565  127.669    5.393  181.304]\n",
      "[[148.    0.   33.6  50. ]\n",
      " [ 85.    0.   26.6  31. ]\n",
      " [183.    0.   23.3  32. ]\n",
      " [ 89.   94.   28.1  21. ]\n",
      " [137.  168.   43.1  33. ]]\n"
     ]
    }
   ],
   "source": [
    "from pandas import read_csv\n",
    "from numpy import set_printoptions\n",
    "from sklearn.feature_selection import SelectKBest\n",
    "from sklearn.feature_selection import chi2\n",
    "# load data\n",
    "filename = r'd:\\Workspace\\nckh\\DO_AN_PPNCKH\\bai_tap_python\\SachMachingLearning\\pima-indians-diabetes.csv'\n",
    "names = ['preg', 'plas', 'pres', 'skin', 'test', 'mass', 'pedi', 'age', 'class']\n",
    "dataframe = read_csv(filename, names=names)\n",
    "array = dataframe.values\n",
    "X = array[:,0:8]\n",
    "Y = array[:,8]\n",
    "# feature extraction\n",
    "test = SelectKBest(score_func=chi2, k=4)\n",
    "fit = test.fit(X, Y)\n",
    "# summarize scores\n",
    "set_printoptions(precision=3)\n",
    "print(fit.scores_)\n",
    "features = fit.transform(X)\n",
    "# summarize selected features\n",
    "print(features[0:5,:])\n"
   ]
  },
  {
   "cell_type": "markdown",
   "id": "4a4daf24-8a82-4db3-8cca-2e8a858cdbe5",
   "metadata": {},
   "source": [
    "## Lựa chọn đặc trưng bằng phương pháp loại bỏ đệ quy (Recursive Feature Elimination - RFE)"
   ]
  },
  {
   "cell_type": "code",
   "execution_count": 7,
   "id": "3b2f274a-1a60-47cd-a8ed-61e0e4fddf22",
   "metadata": {},
   "outputs": [
    {
     "name": "stdout",
     "output_type": "stream",
     "text": [
      "Num Features: 3\n",
      "Selected Features: [ True False False False False  True  True False]\n",
      "Feature Ranking: [1 2 3 5 6 1 1 4]\n"
     ]
    }
   ],
   "source": [
    "from pandas import read_csv\n",
    "from sklearn.feature_selection import RFE\n",
    "from sklearn.linear_model import LogisticRegression\n",
    "filename = r'd:\\Workspace\\nckh\\DO_AN_PPNCKH\\bai_tap_python\\SachMachingLearning\\pima-indians-diabetes.csv'\n",
    "names = ['preg', 'plas', 'pres', 'skin', 'test', 'mass', 'pedi', 'age', 'class']\n",
    "dataframe = read_csv(filename, names=names)\n",
    "array = dataframe.values\n",
    "X = array[:, 0:8]\n",
    "Y = array[:, 8]\n",
    "model = LogisticRegression(solver='liblinear')  # Tránh cảnh báo lỗi solver\n",
    "rfe = RFE(estimator=model, n_features_to_select=3)  # Sửa lỗi\n",
    "fit = rfe.fit(X, Y)\n",
    "print(\"Num Features: %d\" % fit.n_features_)\n",
    "print(\"Selected Features: %s\" % fit.support_)\n",
    "print(\"Feature Ranking: %s\" % fit.ranking_)"
   ]
  },
  {
   "cell_type": "markdown",
   "id": "3756916a-f3ad-41f4-a4fc-9f6ba7655e81",
   "metadata": {},
   "source": [
    "## Trích xuất đặc trưng bằng phương pháp phân tích thành phần chính (Principal Component Analysis - PCA)"
   ]
  },
  {
   "cell_type": "code",
   "execution_count": 12,
   "id": "087f8e14-233c-49f8-ba25-725ac0f8e1d7",
   "metadata": {},
   "outputs": [
    {
     "name": "stdout",
     "output_type": "stream",
     "text": [
      "Explained Variance: [0.889 0.062 0.026]\n",
      "PCA Components:\n",
      " [[-2.022e-03  9.781e-02  1.609e-02  6.076e-02  9.931e-01  1.401e-02\n",
      "   5.372e-04 -3.565e-03]\n",
      " [ 2.265e-02  9.722e-01  1.419e-01 -5.786e-02 -9.463e-02  4.697e-02\n",
      "   8.168e-04  1.402e-01]\n",
      " [ 2.246e-02 -1.434e-01  9.225e-01  3.070e-01 -2.098e-02  1.324e-01\n",
      "   6.400e-04  1.255e-01]]\n"
     ]
    }
   ],
   "source": [
    "from pandas import read_csv\n",
    "from sklearn.decomposition import PCA\n",
    "filename = r'd:\\Workspace\\nckh\\DO_AN_PPNCKH\\bai_tap_python\\SachMachingLearning\\pima-indians-diabetes.csv'\n",
    "names = ['preg', 'plas', 'pres', 'skin', 'test', 'mass', 'pedi', 'age', 'class']\n",
    "dataframe = read_csv(filename, names=names)\n",
    "array = dataframe.values\n",
    "X = array[:, 0:8]\n",
    "Y = array[:, 8]\n",
    "pca = PCA(n_components=3)\n",
    "fit = pca.fit(X)\n",
    "print(\"Explained Variance:\", fit.explained_variance_ratio_)  # Sửa lỗi print\n",
    "print(\"PCA Components:\\n\", fit.components_)"
   ]
  },
  {
   "cell_type": "markdown",
   "id": "44eb82bc-91b2-4e17-a4ab-a229090d5c86",
   "metadata": {},
   "source": [
    "## Đánh giá tầm quan trọng của đặc trưng bằng Extra Trees Classifier (Feature Importance)"
   ]
  },
  {
   "cell_type": "code",
   "execution_count": 14,
   "id": "5deff225-a3f3-4ba5-b4c9-950546fcdb25",
   "metadata": {},
   "outputs": [
    {
     "name": "stdout",
     "output_type": "stream",
     "text": [
      "[0.11  0.234 0.098 0.08  0.077 0.139 0.119 0.142]\n"
     ]
    }
   ],
   "source": [
    "from pandas import read_csv\n",
    "from sklearn.ensemble import ExtraTreesClassifier\n",
    "# load data\n",
    "filename = r'd:\\Workspace\\nckh\\DO_AN_PPNCKH\\bai_tap_python\\SachMachingLearning\\pima-indians-diabetes.csv'\n",
    "names = ['preg', 'plas', 'pres', 'skin', 'test', 'mass', 'pedi', 'age', 'class']\n",
    "dataframe = read_csv(filename, names=names)\n",
    "array = dataframe.values\n",
    "X = array[:,0:8]\n",
    "Y = array[:,8]\n",
    "# feature extraction\n",
    "model = ExtraTreesClassifier()\n",
    "model.fit(X, Y)\n",
    "print(model.feature_importances_)"
   ]
  },
  {
   "cell_type": "markdown",
   "id": "29e27af0-7cb8-4f99-a134-7ad4b974ebe1",
   "metadata": {},
   "source": [
    "# Kết thúc"
   ]
  }
 ],
 "metadata": {
  "kernelspec": {
   "display_name": "Python [conda env:base] *",
   "language": "python",
   "name": "conda-base-py"
  },
  "language_info": {
   "codemirror_mode": {
    "name": "ipython",
    "version": 3
   },
   "file_extension": ".py",
   "mimetype": "text/x-python",
   "name": "python",
   "nbconvert_exporter": "python",
   "pygments_lexer": "ipython3",
   "version": "3.12.7"
  }
 },
 "nbformat": 4,
 "nbformat_minor": 5
}
