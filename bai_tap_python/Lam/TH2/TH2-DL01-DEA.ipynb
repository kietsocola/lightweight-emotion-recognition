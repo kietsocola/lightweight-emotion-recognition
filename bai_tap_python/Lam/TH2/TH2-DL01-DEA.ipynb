{
 "cells": [
  {
   "cell_type": "markdown",
   "metadata": {},
   "source": [
    "## Bài 1 : Thực hiện bước rút trích và tiền xử lý dữ liệu cho bài toán Phân lớp hoa Iris trong dữ liệu iris.csv. Tóm tắt và trình bày kết quả đạt được dùng trình diễn."
   ]
  },
  {
   "cell_type": "markdown",
   "metadata": {},
   "source": [
    "# 1. Mô tả Dữ liệu\n",
    "\n",
    "Tập dữ liệu Iris bao gồm 150 mẫu (samples), mỗi mẫu đại diện cho một bông hoa Iris với 5 thuộc tính:\n",
    "\n",
    "- **4 thuộc tính đặc trưng (features)**:\n",
    "  - **Sepal Length (cm)**: Chiều dài đài hoa.\n",
    "  - **Sepal Width (cm)**: Chiều rộng đài hoa.\n",
    "  - **Petal Length (cm)**: Chiều dài cánh hoa.\n",
    "  - **Petal Width (cm)**: Chiều rộng cánh hoa.\n",
    "\n",
    "- **1 nhãn (label)**:\n",
    "  - **Class**: Loại hoa Iris, gồm 3 lớp: `Iris-setosa`, `Iris-versicolor`, `Iris-virginica`.\n",
    "\n",
    "## Cấu trúc dữ liệu\n",
    "\n",
    "Dữ liệu được cung cấp dưới dạng CSV, mỗi dòng có định dạng:\n",
    "\n",
    "```\n",
    "<sepal_length>,<sepal_width>,<petal_length>,<petal_width>,<class>\n",
    "```\n",
    "\n",
    "**Ví dụ**:\n",
    "\n",
    "```\n",
    "5.1,3.5,1.4,0.2,Iris-setosa\n",
    "```\n",
    "\n",
    "- **Tổng số dòng**: 150 (mỗi dòng là một mẫu).\n",
    "- **Số cột**: 5 (4 đặc trưng + 1 nhãn)."
   ]
  },
  {
   "cell_type": "markdown",
   "metadata": {},
   "source": [
    "# 2. Các bước Rút trích và Tiền xử lý Dữ liệu\n",
    "\n",
    "Để chuẩn bị dữ liệu cho bài toán phân lớp, tôi sẽ thực hiện các bước sau:\n",
    "\n",
    "## Bước 1: Đọc và Rút trích Dữ liệu\n",
    "\n",
    "- Dữ liệu được cung cấp dưới dạng văn bản, cần được đọc và chuyển thành cấu trúc phù hợp (ví dụ: DataFrame trong Python).\n",
    "- Tách các đặc trưng (features) và nhãn (labels) để sử dụng trong mô hình học máy.\n",
    "\n",
    "## Bước 2: Kiểm tra Dữ liệu\n",
    "\n",
    "- Kiểm tra dữ liệu thiếu (missing values).\n",
    "- Kiểm tra kiểu dữ liệu của các cột.\n",
    "- Kiểm tra phân bố của các lớp (class distribution).\n",
    "\n",
    "## Bước 3: Tiền xử lý Dữ liệu\n",
    "\n",
    "- Chuyển đổi nhãn (labels) thành dạng số (encoding).\n",
    "- Chuẩn hóa (normalize) hoặc chuẩn hóa (standardize) các đặc trưng nếu cần.\n",
    "- Chia dữ liệu thành tập huấn luyện (train) và tập kiểm tra (test).\n",
    "\n",
    "## Bước 4: Tóm tắt và Trình bày Kết quả\n",
    "\n",
    "- Trình bày thông tin cơ bản về dữ liệu.\n",
    "- Trình bày phân bố của các lớp.\n",
    "- Trình bày dữ liệu sau khi tiền xử lý."
   ]
  },
  {
   "cell_type": "markdown",
   "metadata": {},
   "source": [
    "# 3. Thực hiện Tiền xử lý (Mô phỏng bằng Python)\n",
    "Dưới đây là các bước tiền xử lý được mô phỏng bằng Python (dùng thư viện pandas, scikit-learn)."
   ]
  },
  {
   "cell_type": "markdown",
   "metadata": {},
   "source": [
    "## 3.1 Đọc và Rút trích Dữ liệu\n",
    "Giả sử dữ liệu đã được lưu trong file iris.csv. Tôi sẽ đọc dữ liệu và chuyển thành DataFrame:"
   ]
  },
  {
   "cell_type": "code",
   "execution_count": 15,
   "metadata": {},
   "outputs": [
    {
     "name": "stdout",
     "output_type": "stream",
     "text": [
      "   sepal_length  sepal_width  petal_length  petal_width        class\n",
      "0           5.1          3.5           1.4          0.2  Iris-setosa\n",
      "1           4.9          3.0           1.4          0.2  Iris-setosa\n",
      "2           4.7          3.2           1.3          0.2  Iris-setosa\n",
      "3           4.6          3.1           1.5          0.2  Iris-setosa\n",
      "4           5.0          3.6           1.4          0.2  Iris-setosa\n"
     ]
    }
   ],
   "source": [
    "import pandas as pd\n",
    "\n",
    "# Đọc dữ liệu từ file CSV\n",
    "data = pd.read_csv('iris.csv', header=None, names=['sepal_length', 'sepal_width', 'petal_length', 'petal_width', 'class'])\n",
    "\n",
    "# Hiển thị 5 dòng đầu tiên\n",
    "print(data.head())"
   ]
  },
  {
   "cell_type": "markdown",
   "metadata": {},
   "source": [
    "## 3.2. Kiểm tra Dữ liệu\n",
    "Kiểm tra dữ liệu thiếu"
   ]
  },
  {
   "cell_type": "code",
   "execution_count": 16,
   "metadata": {},
   "outputs": [
    {
     "name": "stdout",
     "output_type": "stream",
     "text": [
      "sepal_length    0\n",
      "sepal_width     0\n",
      "petal_length    0\n",
      "petal_width     0\n",
      "class           0\n",
      "dtype: int64\n"
     ]
    }
   ],
   "source": [
    "# Kiểm tra dữ liệu thiếu\n",
    "print(data.isnull().sum())"
   ]
  },
  {
   "cell_type": "markdown",
   "metadata": {},
   "source": [
    "Kiểm tra kiểu dữ liệu"
   ]
  },
  {
   "cell_type": "code",
   "execution_count": 17,
   "metadata": {},
   "outputs": [
    {
     "name": "stdout",
     "output_type": "stream",
     "text": [
      "sepal_length    float64\n",
      "sepal_width     float64\n",
      "petal_length    float64\n",
      "petal_width     float64\n",
      "class            object\n",
      "dtype: object\n"
     ]
    }
   ],
   "source": [
    "# Kiểm tra kiểu dữ liệu\n",
    "print(data.dtypes)"
   ]
  },
  {
   "cell_type": "markdown",
   "metadata": {},
   "source": [
    "- Các cột đặc trưng (sepal_length, sepal_width, petal_length, petal_width) đều là kiểu float64, phù hợp để sử dụng trong mô hình học máy.\n",
    "- Cột class là kiểu object (chuỗi), cần được mã hóa thành số."
   ]
  },
  {
   "cell_type": "markdown",
   "metadata": {},
   "source": [
    "Kiểm tra phân bố của các lớp"
   ]
  },
  {
   "cell_type": "code",
   "execution_count": 18,
   "metadata": {},
   "outputs": [
    {
     "name": "stdout",
     "output_type": "stream",
     "text": [
      "class\n",
      "Iris-setosa        50\n",
      "Iris-versicolor    50\n",
      "Iris-virginica     50\n",
      "Name: count, dtype: int64\n"
     ]
    }
   ],
   "source": [
    "# Kiểm tra phân bố của các lớp\n",
    "print(data['class'].value_counts())"
   ]
  },
  {
   "cell_type": "markdown",
   "metadata": {},
   "source": [
    "- Dữ liệu cân bằng (balanced): Mỗi lớp (Iris-setosa, Iris-versicolor, Iris-virginica) đều có 50 mẫu."
   ]
  },
  {
   "cell_type": "markdown",
   "metadata": {},
   "source": [
    "## 3.3. Tiền xử lý Dữ liệu\n",
    "### Mã hóa nhãn (Label Encoding)\n",
    "Cột class cần được chuyển từ chuỗi (Iris-setosa, Iris-versicolor, Iris-virginica) thành số (0, 1, 2) để sử dụng trong mô hình phân lớp."
   ]
  },
  {
   "cell_type": "code",
   "execution_count": 19,
   "metadata": {},
   "outputs": [
    {
     "name": "stdout",
     "output_type": "stream",
     "text": [
      "   sepal_length  sepal_width  petal_length  petal_width  class\n",
      "0           5.1          3.5           1.4          0.2      0\n",
      "1           4.9          3.0           1.4          0.2      0\n",
      "2           4.7          3.2           1.3          0.2      0\n",
      "3           4.6          3.1           1.5          0.2      0\n",
      "4           5.0          3.6           1.4          0.2      0\n"
     ]
    }
   ],
   "source": [
    "from sklearn.preprocessing import LabelEncoder\n",
    "\n",
    "# Mã hóa nhãn\n",
    "label_encoder = LabelEncoder()\n",
    "data['class'] = label_encoder.fit_transform(data['class'])\n",
    "\n",
    "# Hiển thị 5 dòng đầu tiên sau khi mã hóa\n",
    "print(data.head())"
   ]
  },
  {
   "cell_type": "markdown",
   "metadata": {},
   "source": [
    "### Chuẩn hóa dữ liệu (Standardization)\n",
    "Các đặc trưng có giá trị nằm trong các khoảng khác nhau (ví dụ: sepal_length từ 4.3 đến 7.9, petal_width từ 0.1 đến 2.5). Để đảm bảo các đặc trưng có cùng thang đo, tôi sẽ chuẩn hóa dữ liệu bằng StandardScaler (chuyển về phân phối chuẩn với trung bình = 0, độ lệch chuẩn = 1)."
   ]
  },
  {
   "cell_type": "code",
   "execution_count": 20,
   "metadata": {},
   "outputs": [
    {
     "name": "stdout",
     "output_type": "stream",
     "text": [
      "   sepal_length  sepal_width  petal_length  petal_width\n",
      "0     -0.900681     1.032057     -1.341272    -1.312977\n",
      "1     -1.143017    -0.124958     -1.341272    -1.312977\n",
      "2     -1.385353     0.337848     -1.398138    -1.312977\n",
      "3     -1.506521     0.106445     -1.284407    -1.312977\n",
      "4     -1.021849     1.263460     -1.341272    -1.312977\n"
     ]
    }
   ],
   "source": [
    "from sklearn.preprocessing import StandardScaler\n",
    "\n",
    "# Tách features và labels\n",
    "X = data.drop('class', axis=1)\n",
    "y = data['class']\n",
    "\n",
    "# Chuẩn hóa features\n",
    "scaler = StandardScaler()\n",
    "X_scaled = scaler.fit_transform(X)\n",
    "\n",
    "# Chuyển X_scaled thành DataFrame để dễ trình bày\n",
    "X_scaled_df = pd.DataFrame(X_scaled, columns=X.columns)\n",
    "print(X_scaled_df.head())"
   ]
  },
  {
   "cell_type": "markdown",
   "metadata": {},
   "source": [
    "- Các đặc trưng đã được chuẩn hóa, giá trị trung bình của mỗi cột xấp xỉ 0, độ lệch chuẩn xấp xỉ 1."
   ]
  },
  {
   "cell_type": "markdown",
   "metadata": {},
   "source": [
    "### Chia dữ liệu thành tập huấn luyện và tập kiểm tra\n",
    "Chia dữ liệu thành tập huấn luyện (train) và tập kiểm tra (test) với tỷ lệ 80:20."
   ]
  },
  {
   "cell_type": "code",
   "execution_count": 21,
   "metadata": {},
   "outputs": [
    {
     "name": "stdout",
     "output_type": "stream",
     "text": [
      "Kích thước tập huấn luyện: (120, 4) (120,)\n",
      "Kích thước tập kiểm tra: (30, 4) (30,)\n"
     ]
    }
   ],
   "source": [
    "from sklearn.model_selection import train_test_split\n",
    "\n",
    "# Chia dữ liệu\n",
    "X_train, X_test, y_train, y_test = train_test_split(X_scaled, y, test_size=0.2, random_state=42, stratify=y)\n",
    "\n",
    "# Kiểm tra kích thước\n",
    "print(\"Kích thước tập huấn luyện:\", X_train.shape, y_train.shape)\n",
    "print(\"Kích thước tập kiểm tra:\", X_test.shape, y_test.shape)"
   ]
  },
  {
   "cell_type": "markdown",
   "metadata": {},
   "source": [
    "- Tập huấn luyện: 120 mẫu.\n",
    "- Tập kiểm tra: 30 mẫu.\n",
    "- stratify=y đảm bảo phân bố các lớp trong tập huấn luyện và tập kiểm tra giống với dữ liệu gốc (mỗi lớp vẫn có tỷ lệ 1:1:1)."
   ]
  },
  {
   "cell_type": "markdown",
   "metadata": {},
   "source": [
    "# 4. Tóm tắt và Trình bày Kết quả\n",
    "\n",
    "## 4.1. Thông tin cơ bản về dữ liệu\n",
    "\n",
    "- **Số mẫu**: 150.\n",
    "- **Số đặc trưng**: 4 (`sepal_length`, `sepal_width`, `petal_length`, `petal_width`).\n",
    "- **Số lớp**: 3 (`Iris-setosa`, `Iris-versicolor`, `Iris-virginica`).\n",
    "- **Dữ liệu thiếu**: Không có.\n",
    "\n",
    "## 4.2. Phân bố của các lớp\n",
    "\n",
    "| Class            | Số mẫu |\n",
    "|------------------|--------|\n",
    "| Iris-setosa      | 50     |\n",
    "| Iris-versicolor  | 50     |\n",
    "| Iris-virginica   | 50     |\n",
    "\n",
    "- Dữ liệu cân bằng, mỗi lớp có 50 mẫu.\n",
    "\n",
    "## 4.3. Dữ liệu sau khi tiền xử lý\n",
    "\n",
    "- **Mã hóa nhãn**:\n",
    "  - `Iris-setosa` → 0\n",
    "  - `Iris-versicolor` → 1\n",
    "  - `Iris-virginica` → 2\n",
    "\n",
    "- **Chuẩn hóa đặc trưng**:\n",
    "  - Các đặc trưng đã được chuẩn hóa (trung bình = 0, độ lệch chuẩn = 1).\n",
    "  - Ví dụ 5 dòng đầu tiên sau chuẩn hóa:\n",
    "    ```\n",
    "       sepal_length  sepal_width  petal_length  petal_width\n",
    "    0     -0.900681     1.032057     -1.341272    -1.312977\n",
    "    1     -1.143017    -0.124958     -1.341272    -1.312977\n",
    "    2     -1.385353     0.337848     -1.398138    -1.312977\n",
    "    3     -1.506521     0.106445     -1.284407    -1.312977\n",
    "    4     -1.021849     1.263460     -1.341272    -1.312977\n",
    "    ```\n",
    "\n",
    "- **Chia dữ liệu**:\n",
    "  - Tập huấn luyện: 120 mẫu (80%).\n",
    "  - Tập kiểm tra: 30 mẫu (20%)."
   ]
  },
  {
   "cell_type": "markdown",
   "metadata": {},
   "source": [
    "# 5. Kết luận\n",
    "\n",
    "- Dữ liệu Iris đã được rút trích và tiền xử lý thành công, sẵn sàng để sử dụng trong bài toán phân lớp.\n",
    "\n",
    "- Các bước tiền xử lý bao gồm:\n",
    "  - Kiểm tra và xác nhận không có dữ liệu thiếu.\n",
    "  - Mã hóa nhãn thành số (0, 1, 2).\n",
    "  - Chuẩn hóa các đặc trưng để đảm bảo thang đo đồng nhất.\n",
    "  - Chia dữ liệu thành tập huấn luyện và tập kiểm tra với tỷ lệ 80:20.\n",
    "\n",
    "- Dữ liệu cân bằng, không có bất thường, phù hợp để huấn luyện các mô hình học máy như Logistic Regression, SVM, hoặc Decision Tree.\n",
    "\n",
    "Nếu bạn cần thực hiện thêm bước huấn luyện mô hình hoặc phân tích sâu hơn, hãy cho tôi biết!"
   ]
  }
 ],
 "metadata": {
  "kernelspec": {
   "display_name": "Python 3",
   "language": "python",
   "name": "python3"
  },
  "language_info": {
   "codemirror_mode": {
    "name": "ipython",
    "version": 3
   },
   "file_extension": ".py",
   "mimetype": "text/x-python",
   "name": "python",
   "nbconvert_exporter": "python",
   "pygments_lexer": "ipython3",
   "version": "3.13.2"
  }
 },
 "nbformat": 4,
 "nbformat_minor": 2
}
