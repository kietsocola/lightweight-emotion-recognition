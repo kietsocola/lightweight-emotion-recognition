{
 "cells": [
  {
   "cell_type": "markdown",
   "id": "3dea0f4b",
   "metadata": {},
   "source": [
    "# Using Autograd in TensorFlow toSolve a Regression Problem"
   ]
  },
  {
   "cell_type": "markdown",
   "id": "75a6cdb8",
   "metadata": {},
   "source": [
    "## Listing 3.1: A constant matrix defined in TensorFlow"
   ]
  },
  {
   "cell_type": "code",
   "execution_count": 1,
   "id": "9a5f7d80",
   "metadata": {},
   "outputs": [
    {
     "name": "stdout",
     "output_type": "stream",
     "text": [
      "tf.Tensor([1 2 3], shape=(3,), dtype=int32)\n",
      "(3,)\n",
      "<dtype: 'int32'>\n"
     ]
    }
   ],
   "source": [
    "import tensorflow as tf\n",
    "x = tf.constant([1, 2, 3])\n",
    "print(x)\n",
    "print(x.shape)\n",
    "print(x.dtype)"
   ]
  },
  {
   "cell_type": "markdown",
   "id": "1362fd70",
   "metadata": {},
   "source": [
    "## Listing 3.2: A variable defined in TensorFlow"
   ]
  },
  {
   "cell_type": "code",
   "execution_count": 2,
   "id": "209e9e80",
   "metadata": {},
   "outputs": [
    {
     "name": "stdout",
     "output_type": "stream",
     "text": [
      "<tf.Variable 'Variable:0' shape=(3,) dtype=int32, numpy=array([1, 2, 3], dtype=int32)>\n",
      "(3,)\n",
      "<dtype: 'int32'>\n"
     ]
    }
   ],
   "source": [
    "import tensorflow as tf\n",
    "x = tf.Variable([1, 2, 3])\n",
    "print(x)\n",
    "print(x.shape)\n",
    "print(x.dtype)"
   ]
  },
  {
   "cell_type": "markdown",
   "id": "2cee2513",
   "metadata": {},
   "source": [
    "## Listing 3.3: Getting gradient in TensorFlow"
   ]
  },
  {
   "cell_type": "code",
   "execution_count": 3,
   "id": "dad3879d",
   "metadata": {},
   "outputs": [
    {
     "name": "stdout",
     "output_type": "stream",
     "text": [
      "tf.Tensor(7.2, shape=(), dtype=float32)\n"
     ]
    }
   ],
   "source": [
    "import tensorflow as tf\n",
    "x = tf.Variable(3.6)\n",
    "with tf.GradientTape() as tape:\n",
    "    y = x*x\n",
    "dy = tape.gradient(y, x)\n",
    "print(dy)"
   ]
  },
  {
   "cell_type": "markdown",
   "id": "f6c55186",
   "metadata": {},
   "source": [
    "## Listing 3.4: Defining a polynomial in NumPy"
   ]
  },
  {
   "cell_type": "code",
   "execution_count": 4,
   "id": "44d65fa2",
   "metadata": {},
   "outputs": [
    {
     "name": "stdout",
     "output_type": "stream",
     "text": [
      "   2\n",
      "1 x + 2 x + 3\n"
     ]
    }
   ],
   "source": [
    "import numpy as np\n",
    "polynomial = np.poly1d([1, 2, 3])\n",
    "print(polynomial)"
   ]
  },
  {
   "cell_type": "markdown",
   "id": "085c5343",
   "metadata": {},
   "source": [
    "## Listing 3.5: Using a polynomial"
   ]
  },
  {
   "cell_type": "code",
   "execution_count": 5,
   "id": "8461226c",
   "metadata": {},
   "outputs": [
    {
     "name": "stdout",
     "output_type": "stream",
     "text": [
      "8.25\n"
     ]
    }
   ],
   "source": [
    "print(polynomial(1.5))"
   ]
  },
  {
   "cell_type": "markdown",
   "id": "cb47b304",
   "metadata": {},
   "source": [
    "## Listing 3.6: Making samples from a polynomial"
   ]
  },
  {
   "cell_type": "code",
   "execution_count": 6,
   "id": "864d2ff9",
   "metadata": {},
   "outputs": [],
   "source": [
    "N = 20 # number of samples\n",
    "# Generate random samples between -10 to +10\n",
    "X = np.random.uniform(-10, 10, size=(N,1))\n",
    "Y = polynomial(X)"
   ]
  },
  {
   "cell_type": "markdown",
   "id": "d185b792",
   "metadata": {},
   "source": [
    "## Listing 3.7: Regression on samples to discover the polynomial"
   ]
  },
  {
   "cell_type": "code",
   "execution_count": 7,
   "id": "b2e343de",
   "metadata": {},
   "outputs": [
    {
     "name": "stdout",
     "output_type": "stream",
     "text": [
      "<tf.Variable 'Variable:0' shape=(3, 1) dtype=float32, numpy=\n",
      "array([[ 0.67356646],\n",
      "       [-1.2872431 ],\n",
      "       [-0.20029843]], dtype=float32)>\n",
      "<tf.Variable 'Variable:0' shape=(3, 1) dtype=float32, numpy=\n",
      "array([[1.0067259],\n",
      "       [1.9912688],\n",
      "       [2.6677094]], dtype=float32)>\n"
     ]
    }
   ],
   "source": [
    "import tensorflow as tf\n",
    "# Assume samples X and Y are prepared elsewhere\n",
    "XX = np.hstack([X*X, X, np.ones_like(X)])\n",
    "w = tf.Variable(tf.random.normal((3,1))) # the 3 coefficients\n",
    "x = tf.constant(XX, dtype=tf.float32) # input sample\n",
    "y = tf.constant(Y, dtype=tf.float32) # output sample\n",
    "optimizer = tf.keras.optimizers.Nadam(learning_rate=0.01)\n",
    "print(w)\n",
    "for _ in range(1000):\n",
    "    with tf.GradientTape() as tape:\n",
    "        y_pred = x @ w\n",
    "        mse = tf.reduce_sum(tf.square(y - y_pred))\n",
    "    grad = tape.gradient(mse, w)\n",
    "    optimizer.apply_gradients([(grad, w)])\n",
    "print(w)"
   ]
  },
  {
   "cell_type": "markdown",
   "id": "b2ec87c0",
   "metadata": {},
   "source": [
    "## Listing 3.8: Regression to discover a polynomial using TensorFlow"
   ]
  },
  {
   "cell_type": "code",
   "execution_count": 8,
   "id": "e34a40d8",
   "metadata": {},
   "outputs": [
    {
     "name": "stdout",
     "output_type": "stream",
     "text": [
      "<tf.Variable 'Variable:0' shape=(3, 1) dtype=float32, numpy=\n",
      "array([[ 0.689684  ],\n",
      "       [-1.7546302 ],\n",
      "       [ 0.06169017]], dtype=float32)>\n",
      "<tf.Variable 'Variable:0' shape=(3, 1) dtype=float32, numpy=\n",
      "array([[1.0047417],\n",
      "       [1.9750314],\n",
      "       [2.7365835]], dtype=float32)>\n"
     ]
    }
   ],
   "source": [
    "import numpy as np\n",
    "import tensorflow as tf\n",
    "N = 20 # number of samples\n",
    "# Generate random samples between -10 to +10\n",
    "polynomial = np.poly1d([1, 2, 3])\n",
    "X = np.random.uniform(-10, 10, size=(N,1))\n",
    "Y = polynomial(X)\n",
    "# Prepare input as an array of shape (N,3)\n",
    "XX = np.hstack([X*X, X, np.ones_like(X)])\n",
    "# Prepare TensorFlow objects\n",
    "w = tf.Variable(tf.random.normal((3,1))) # the 3 coefficients\n",
    "x = tf.constant(XX, dtype=tf.float32) # input sample\n",
    "y = tf.constant(Y, dtype=tf.float32) # output sample\n",
    "optimizer = tf.keras.optimizers.Nadam(learning_rate=0.01)\n",
    "print(w)\n",
    "# Run optimizer\n",
    "for _ in range(1000):\n",
    "    with tf.GradientTape() as tape:\n",
    "        y_pred = x @ w\n",
    "        mse = tf.reduce_sum(tf.square(y - y_pred))\n",
    "    grad = tape.gradient(mse, w)\n",
    "    optimizer.apply_gradients([(grad, w)])\n",
    "print(w)"
   ]
  },
  {
   "cell_type": "markdown",
   "id": "14844396",
   "metadata": {},
   "source": [
    "## Listing 3.9: Solving a math puzzle using TensorFlow"
   ]
  },
  {
   "cell_type": "code",
   "execution_count": 9,
   "id": "f24f49c9",
   "metadata": {},
   "outputs": [
    {
     "name": "stdout",
     "output_type": "stream",
     "text": [
      "<tf.Variable 'Variable:0' shape=() dtype=float32, numpy=3.500009298324585>\n",
      "<tf.Variable 'Variable:0' shape=() dtype=float32, numpy=4.499995708465576>\n",
      "<tf.Variable 'Variable:0' shape=() dtype=float32, numpy=9.499987602233887>\n",
      "<tf.Variable 'Variable:0' shape=() dtype=float32, numpy=3.4999959468841553>\n"
     ]
    }
   ],
   "source": [
    "import tensorflow as tf\n",
    "import random\n",
    "A = tf.Variable(random.random())\n",
    "B = tf.Variable(random.random())\n",
    "C = tf.Variable(random.random())\n",
    "D = tf.Variable(random.random())\n",
    "# Gradient descent loop\n",
    "EPOCHS = 1000\n",
    "optimizer = tf.keras.optimizers.Nadam(learning_rate=0.1)\n",
    "for _ in range(EPOCHS):\n",
    "    with tf.GradientTape() as tape:\n",
    "        y1 = A + B - 8\n",
    "        y2 = C - D - 6\n",
    "        y3 = A + C - 13\n",
    "        y4 = B + D - 8\n",
    "        sqerr = y1*y1 + y2*y2 + y3*y3 + y4*y4\n",
    "    gradA, gradB, gradC, gradD = tape.gradient(sqerr, [A, B, C, D])\n",
    "    optimizer.apply_gradients([(gradA, A), (gradB, B), (gradC, C), (gradD, D)])\n",
    "print(A)\n",
    "print(B)\n",
    "print(C)\n",
    "print(D)"
   ]
  }
 ],
 "metadata": {
  "kernelspec": {
   "display_name": "Python 3",
   "language": "python",
   "name": "python3"
  },
  "language_info": {
   "codemirror_mode": {
    "name": "ipython",
    "version": 3
   },
   "file_extension": ".py",
   "mimetype": "text/x-python",
   "name": "python",
   "nbconvert_exporter": "python",
   "pygments_lexer": "ipython3",
   "version": "3.12.3"
  }
 },
 "nbformat": 4,
 "nbformat_minor": 5
}
