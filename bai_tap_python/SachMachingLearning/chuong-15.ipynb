{
 "cells": [
  {
   "cell_type": "markdown",
   "id": "32b03810-02f6-4a5d-9ff0-83f85ec09e05",
   "metadata": {},
   "source": [
    "# Chương 15: Cải thiện Hiệu suất với Các Mô Hình Hợp Thành (Ensembles)"
   ]
  },
  {
   "cell_type": "markdown",
   "id": "87ac1af5-2d49-4e2f-b8a3-b2f08fe3e353",
   "metadata": {},
   "source": [
    "### Cây quyết định gộp (Bagged Decision Trees)"
   ]
  },
  {
   "cell_type": "code",
   "execution_count": 24,
   "id": "8fbc2f4b-1a62-41ab-a6c8-c32f24f1bfe5",
   "metadata": {},
   "outputs": [
    {
     "name": "stdout",
     "output_type": "stream",
     "text": [
      "0.7578263841421736\n"
     ]
    }
   ],
   "source": [
    "# Bagged Decision Trees for Classification\n",
    "from pandas import read_csv\n",
    "from sklearn.model_selection import KFold\n",
    "from sklearn.model_selection import cross_val_score\n",
    "from sklearn.ensemble import BaggingClassifier\n",
    "from sklearn.tree import DecisionTreeClassifier\n",
    "\n",
    "# load data\n",
    "filename = 'pima-indians-diabetes.data.csv'\n",
    "names = ['preg', 'plas', 'pres', 'skin', 'test', 'mass', 'pedi', 'age', 'class']\n",
    "dataframe = read_csv(filename, names=names)\n",
    "array = dataframe.values\n",
    "X = array[:,0:8]\n",
    "Y = array[:,8]\n",
    "\n",
    "# define seed for reproducibility\n",
    "seed = 7\n",
    "\n",
    "# define cross-validation method with shuffle=True\n",
    "kfold = KFold(n_splits=10, shuffle=True, random_state=seed)\n",
    "\n",
    "# define the base model (Decision Tree)\n",
    "cart = DecisionTreeClassifier()\n",
    "\n",
    "# number of trees in the bagging ensemble\n",
    "num_trees = 100\n",
    "\n",
    "# create the Bagging model using the base model\n",
    "model = BaggingClassifier(estimator=cart, n_estimators=num_trees, random_state=seed)\n",
    "\n",
    "# evaluate the model using cross-validation\n",
    "results = cross_val_score(model, X, Y, cv=kfold)\n",
    "\n",
    "# print the mean accuracy of the cross-validation\n",
    "print(results.mean())"
   ]
  },
  {
   "cell_type": "markdown",
   "id": "f12f5e8d-2200-46c3-8ef0-3b951f2bc2ad",
   "metadata": {},
   "source": [
    "### Rừng ngẫu nhiên (Random Forest)"
   ]
  },
  {
   "cell_type": "code",
   "execution_count": 26,
   "id": "6dc50210-4175-434e-9fa8-32061a511585",
   "metadata": {},
   "outputs": [
    {
     "name": "stdout",
     "output_type": "stream",
     "text": [
      "0.7656185919343814\n"
     ]
    }
   ],
   "source": [
    "# Random Forest Classification\n",
    "from pandas import read_csv\n",
    "from sklearn.model_selection import KFold\n",
    "from sklearn.model_selection import cross_val_score\n",
    "from sklearn.ensemble import RandomForestClassifier\n",
    "\n",
    "# load data\n",
    "filename = 'pima-indians-diabetes.data.csv'\n",
    "names = ['preg', 'plas', 'pres', 'skin', 'test', 'mass', 'pedi', 'age', 'class']\n",
    "dataframe = read_csv(filename, names=names)\n",
    "array = dataframe.values\n",
    "X = array[:,0:8]\n",
    "Y = array[:,8]\n",
    "\n",
    "# define the number of trees and maximum features\n",
    "num_trees = 100\n",
    "max_features = 3\n",
    "\n",
    "# define cross-validation method with shuffle=True (for random state to take effect)\n",
    "kfold = KFold(n_splits=10, shuffle=True, random_state=7)\n",
    "\n",
    "# create the Random Forest model\n",
    "model = RandomForestClassifier(n_estimators=num_trees, max_features=max_features)\n",
    "\n",
    "# evaluate the model using cross-validation\n",
    "results = cross_val_score(model, X, Y, cv=kfold)\n",
    "\n",
    "# print the mean accuracy of the cross-validation\n",
    "print(results.mean())\n"
   ]
  },
  {
   "cell_type": "markdown",
   "id": "3001d85e-d8bb-413f-9b62-8a7c5096b920",
   "metadata": {},
   "source": [
    "### Cây quyết định mở rộng (Extra Trees)"
   ]
  },
  {
   "cell_type": "code",
   "execution_count": 28,
   "id": "962da2cb-5f4f-40a6-b5b0-4e2aa0310d8a",
   "metadata": {},
   "outputs": [
    {
     "name": "stdout",
     "output_type": "stream",
     "text": [
      "0.7551777170198224\n"
     ]
    }
   ],
   "source": [
    "# Extra Trees Classification\n",
    "from pandas import read_csv\n",
    "from sklearn.model_selection import KFold\n",
    "from sklearn.model_selection import cross_val_score\n",
    "from sklearn.ensemble import ExtraTreesClassifier\n",
    "\n",
    "# load data\n",
    "filename = 'pima-indians-diabetes.data.csv'\n",
    "names = ['preg', 'plas', 'pres', 'skin', 'test', 'mass', 'pedi', 'age', 'class']\n",
    "dataframe = read_csv(filename, names=names)\n",
    "array = dataframe.values\n",
    "X = array[:, 0:8]\n",
    "Y = array[:, 8]\n",
    "\n",
    "# define number of trees and maximum features\n",
    "num_trees = 100\n",
    "max_features = 7\n",
    "\n",
    "# define cross-validation method with shuffle=True (for random state to take effect)\n",
    "kfold = KFold(n_splits=10, shuffle=True, random_state=7)\n",
    "\n",
    "# create the Extra Trees model\n",
    "model = ExtraTreesClassifier(n_estimators=num_trees, max_features=max_features)\n",
    "\n",
    "# evaluate the model using cross-validation\n",
    "results = cross_val_score(model, X, Y, cv=kfold)\n",
    "\n",
    "# print the mean accuracy of the cross-validation\n",
    "print(results.mean())\n"
   ]
  },
  {
   "cell_type": "markdown",
   "id": "1d50d164-2a7c-422f-8f7f-3c26b6b9f40e",
   "metadata": {},
   "source": [
    "### AdaBoost"
   ]
  },
  {
   "cell_type": "code",
   "execution_count": 32,
   "id": "4dabda88-a92b-45b9-8ec1-73f27bb87f04",
   "metadata": {},
   "outputs": [
    {
     "name": "stdout",
     "output_type": "stream",
     "text": [
      "0.7552460697197538\n"
     ]
    }
   ],
   "source": [
    "# AdaBoost Classification\n",
    "from pandas import read_csv\n",
    "from sklearn.model_selection import KFold\n",
    "from sklearn.model_selection import cross_val_score\n",
    "from sklearn.ensemble import AdaBoostClassifier\n",
    "\n",
    "# load data\n",
    "filename = 'pima-indians-diabetes.data.csv'\n",
    "names = ['preg', 'plas', 'pres', 'skin', 'test', 'mass', 'pedi', 'age', 'class']\n",
    "dataframe = read_csv(filename, names=names)\n",
    "array = dataframe.values\n",
    "X = array[:, 0:8]\n",
    "Y = array[:, 8]\n",
    "\n",
    "# define number of trees and seed for random state\n",
    "num_trees = 30\n",
    "seed = 7\n",
    "\n",
    "# define cross-validation method with shuffle=True (to ensure random_state takes effect)\n",
    "kfold = KFold(n_splits=10, shuffle=True, random_state=seed)\n",
    "\n",
    "# create the AdaBoost model with 'SAMME' algorithm\n",
    "model = AdaBoostClassifier(n_estimators=num_trees, random_state=seed, algorithm='SAMME')\n",
    "\n",
    "# evaluate the model using cross-validation\n",
    "results = cross_val_score(model, X, Y, cv=kfold)\n",
    "\n",
    "# print the mean accuracy of the cross-validation\n",
    "print(results.mean())\n"
   ]
  },
  {
   "cell_type": "markdown",
   "id": "87e712a7-dfe8-4e9e-87a0-c5a800d6e6c4",
   "metadata": {},
   "source": [
    "### Stochastic Gradient Boosting"
   ]
  },
  {
   "cell_type": "code",
   "execution_count": 34,
   "id": "6ceaf521-861a-47d7-a9f4-177ed6cee723",
   "metadata": {},
   "outputs": [
    {
     "name": "stdout",
     "output_type": "stream",
     "text": [
      "0.7578947368421053\n"
     ]
    }
   ],
   "source": [
    "# Stochastic Gradient Boosting Classification\n",
    "from pandas import read_csv\n",
    "from sklearn.model_selection import KFold\n",
    "from sklearn.model_selection import cross_val_score\n",
    "from sklearn.ensemble import GradientBoostingClassifier\n",
    "\n",
    "# load data\n",
    "filename = 'pima-indians-diabetes.data.csv'\n",
    "names = ['preg', 'plas', 'pres', 'skin', 'test', 'mass', 'pedi', 'age', 'class']\n",
    "dataframe = read_csv(filename, names=names)\n",
    "array = dataframe.values\n",
    "X = array[:, 0:8]  # features\n",
    "Y = array[:, 8]    # target\n",
    "\n",
    "# set random seed for reproducibility\n",
    "seed = 7\n",
    "num_trees = 100\n",
    "\n",
    "# define cross-validation method with shuffle=True (to ensure random_state takes effect)\n",
    "kfold = KFold(n_splits=10, shuffle=True, random_state=seed)\n",
    "\n",
    "# create the Gradient Boosting model\n",
    "model = GradientBoostingClassifier(n_estimators=num_trees, random_state=seed)\n",
    "\n",
    "# evaluate the model using cross-validation\n",
    "results = cross_val_score(model, X, Y, cv=kfold)\n",
    "\n",
    "# print the mean accuracy of the cross-validation\n",
    "print(results.mean())\n"
   ]
  },
  {
   "cell_type": "markdown",
   "id": "5b7e07cc-e94c-49fa-accd-b5286beb337f",
   "metadata": {},
   "source": [
    "### Mô Hình Voting"
   ]
  },
  {
   "cell_type": "code",
   "execution_count": null,
   "id": "f1955fdd-924a-4c9b-8de8-dde95bd4a0e3",
   "metadata": {},
   "outputs": [],
   "source": [
    "# Voting Ensemble for Classification\n",
    "from pandas import read_csv\n",
    "from sklearn.model_selection import KFold\n",
    "from sklearn.model_selection import cross_val_score\n",
    "from sklearn.linear_model import LogisticRegression\n",
    "from sklearn.tree import DecisionTreeClassifier\n",
    "from sklearn.svm import SVC\n",
    "from sklearn.ensemble import VotingClassifier\n",
    "\n",
    "# load data\n",
    "filename = 'pima-indians-diabetes.data.csv'\n",
    "names = ['preg', 'plas', 'pres', 'skin', 'test', 'mass', 'pedi', 'age', 'class']\n",
    "dataframe = read_csv(filename, names=names)\n",
    "array = dataframe.values\n",
    "X = array[:, 0:8]  # features\n",
    "Y = array[:, 8]    # target\n",
    "\n",
    "# define cross-validation method with shuffle=True (to ensure random_state takes effect)\n",
    "kfold = KFold(n_splits=10, shuffle=True, random_state=7)\n",
    "\n",
    "# create the sub models\n",
    "estimators = []\n",
    "model1 = LogisticRegression(max_iter=1000, random_state=7)\n",
    "estimators.append(('logistic', model1))\n",
    "model2 = DecisionTreeClassifier(random_state=7)\n",
    "estimators.append(('cart', model2))\n",
    "model3 = SVC(kernel='linear', random_state=7)\n",
    "estimators.append(('svm', model3))\n",
    "\n",
    "# create the ensemble model\n",
    "ensemble = VotingClassifier(estimators, voting='hard')\n",
    "\n",
    "# evaluate the model using cross-validation\n",
    "results = cross_val_score(ensemble, X, Y, cv=kfold)\n",
    "\n",
    "# print the mean accuracy of the cross-validation\n",
    "print(results.mean())"
   ]
  },
  {
   "cell_type": "markdown",
   "id": "2126efb1-b4a0-4cfd-8844-8239a66a95a8",
   "metadata": {},
   "source": [
    "# Kết thúc"
   ]
  }
 ],
 "metadata": {
  "kernelspec": {
   "display_name": "Python [conda env:base] *",
   "language": "python",
   "name": "conda-base-py"
  },
  "language_info": {
   "codemirror_mode": {
    "name": "ipython",
    "version": 3
   },
   "file_extension": ".py",
   "mimetype": "text/x-python",
   "name": "python",
   "nbconvert_exporter": "python",
   "pygments_lexer": "ipython3",
   "version": "3.12.7"
  }
 },
 "nbformat": 4,
 "nbformat_minor": 5
}
