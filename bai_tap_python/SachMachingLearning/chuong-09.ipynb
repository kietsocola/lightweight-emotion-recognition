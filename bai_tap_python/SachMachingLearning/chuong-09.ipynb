{
 "cells": [
  {
   "cell_type": "markdown",
   "id": "8e7538ea-b08a-4d59-b884-09cc9b6f6305",
   "metadata": {},
   "source": [
    "# Chương 9: Đánh giá hiệu suất của thuật toán Machine Learning bằng phương pháp resampling"
   ]
  },
  {
   "cell_type": "markdown",
   "id": "ef18189f-b2e9-424d-9632-01912415b536",
   "metadata": {},
   "source": [
    "## Đánh giá với tập Train/Test cố định (Train/Test Split)"
   ]
  },
  {
   "cell_type": "code",
   "execution_count": 13,
   "id": "e7199fd0-709f-4f2e-b90b-0b3d433efe8d",
   "metadata": {},
   "outputs": [
    {
     "name": "stdout",
     "output_type": "stream",
     "text": [
      "Accuracy: 78.346%\n"
     ]
    }
   ],
   "source": [
    "from pandas import read_csv\n",
    "from sklearn.model_selection import train_test_split\n",
    "from sklearn.linear_model import LogisticRegression\n",
    "from sklearn.preprocessing import StandardScaler\n",
    "filename = r'd:\\Workspace\\nckh\\DO_AN_PPNCKH\\bai_tap_python\\SachMachingLearning\\pima-indians-diabetes.csv'\n",
    "names = ['preg', 'plas', 'pres', 'skin', 'test', 'mass', 'pedi', 'age', 'class']\n",
    "dataframe = read_csv(filename, names=names)\n",
    "array = dataframe.values\n",
    "X = array[:, 0:8]\n",
    "Y = array[:, 8]\n",
    "test_size = 0.33\n",
    "seed = 7\n",
    "X_train, X_test, Y_train, Y_test = train_test_split(X, Y, test_size=test_size, random_state=seed)\n",
    "scaler = StandardScaler()\n",
    "X_train = scaler.fit_transform(X_train)\n",
    "X_test = scaler.transform(X_test)\n",
    "model = LogisticRegression(max_iter=500)  # Tăng số vòng lặp\n",
    "model.fit(X_train, Y_train)\n",
    "result = model.score(X_test, Y_test)\n",
    "print(\"Accuracy: %.3f%%\" % (result * 100.0))  # Sửa lỗi print"
   ]
  },
  {
   "cell_type": "markdown",
   "id": "4a4daf24-8a82-4db3-8cca-2e8a858cdbe5",
   "metadata": {},
   "source": [
    "## Đánh giá bằng Cross Validation chia k-fold (K-fold Cross Validation)"
   ]
  },
  {
   "cell_type": "code",
   "execution_count": 16,
   "id": "3b2f274a-1a60-47cd-a8ed-61e0e4fddf22",
   "metadata": {},
   "outputs": [
    {
     "name": "stdout",
     "output_type": "stream",
     "text": [
      "Accuracy: 77.216% (4.968%)\n"
     ]
    }
   ],
   "source": [
    "from pandas import read_csv\n",
    "from sklearn.model_selection import KFold, cross_val_score\n",
    "from sklearn.linear_model import LogisticRegression\n",
    "filename = r'd:\\Workspace\\nckh\\DO_AN_PPNCKH\\bai_tap_python\\SachMachingLearning\\pima-indians-diabetes.csv'\n",
    "names = ['preg', 'plas', 'pres', 'skin', 'test', 'mass', 'pedi', 'age', 'class']\n",
    "dataframe = read_csv(filename, names=names)\n",
    "array = dataframe.values\n",
    "X = array[:, 0:8]\n",
    "Y = array[:, 8]\n",
    "num_folds = 10\n",
    "seed = 7\n",
    "kfold = KFold(n_splits=num_folds, shuffle=True, random_state=seed)  # Sửa lỗi random_state\n",
    "model = LogisticRegression(max_iter=500)  # Tăng số vòng lặp để tránh lỗi hội tụ\n",
    "results = cross_val_score(model, X, Y, cv=kfold)\n",
    "print(\"Accuracy: %.3f%% (%.3f%%)\" % (results.mean() * 100.0, results.std() * 100.0))  # Sửa lỗi print"
   ]
  },
  {
   "cell_type": "markdown",
   "id": "3756916a-f3ad-41f4-a4fc-9f6ba7655e81",
   "metadata": {},
   "source": [
    "## Đánh giá bằng Leave-One-Out Cross Validation (LOOCV)"
   ]
  },
  {
   "cell_type": "code",
   "execution_count": 19,
   "id": "087f8e14-233c-49f8-ba25-725ac0f8e1d7",
   "metadata": {},
   "outputs": [
    {
     "name": "stdout",
     "output_type": "stream",
     "text": [
      "Accuracy: 77.604% (41.689%)\n"
     ]
    }
   ],
   "source": [
    "from pandas import read_csv\n",
    "from sklearn.model_selection import LeaveOneOut, cross_val_score\n",
    "from sklearn.linear_model import LogisticRegression\n",
    "filename = r'd:\\Workspace\\nckh\\DO_AN_PPNCKH\\bai_tap_python\\SachMachingLearning\\pima-indians-diabetes.csv'\n",
    "names = ['preg', 'plas', 'pres', 'skin', 'test', 'mass', 'pedi', 'age', 'class']\n",
    "dataframe = read_csv(filename, names=names)\n",
    "array = dataframe.values\n",
    "X = array[:, 0:8]\n",
    "Y = array[:, 8]\n",
    "loocv = LeaveOneOut()\n",
    "model = LogisticRegression(max_iter=500)  # Tăng số vòng lặp để tránh lỗi hội tụ\n",
    "results = cross_val_score(model, X, Y, cv=loocv)\n",
    "print(\"Accuracy: %.3f%% (%.3f%%)\" % (results.mean() * 100.0, results.std() * 100.0))  # Sửa lỗi print"
   ]
  },
  {
   "cell_type": "markdown",
   "id": "44eb82bc-91b2-4e17-a4ab-a229090d5c86",
   "metadata": {},
   "source": [
    "## Đánh giá bằng chia ngẫu nhiên lặp lại nhiều lần (Repeated Random Test-Train Splits)"
   ]
  },
  {
   "cell_type": "code",
   "execution_count": 21,
   "id": "5deff225-a3f3-4ba5-b4c9-950546fcdb25",
   "metadata": {},
   "outputs": [
    {
     "name": "stdout",
     "output_type": "stream",
     "text": [
      "Accuracy: 76.535% (2.235%)\n"
     ]
    }
   ],
   "source": [
    "from pandas import read_csv\n",
    "from sklearn.model_selection import ShuffleSplit, cross_val_score\n",
    "from sklearn.linear_model import LogisticRegression\n",
    "filename = r'd:\\Workspace\\nckh\\DO_AN_PPNCKH\\bai_tap_python\\SachMachingLearning\\pima-indians-diabetes.csv'\n",
    "names = ['preg', 'plas', 'pres', 'skin', 'test', 'mass', 'pedi', 'age', 'class']\n",
    "dataframe = read_csv(filename, names=names)\n",
    "array = dataframe.values\n",
    "X = array[:, 0:8]\n",
    "Y = array[:, 8]\n",
    "n_splits = 10\n",
    "test_size = 0.33\n",
    "seed = 7\n",
    "kfold = ShuffleSplit(n_splits=n_splits, test_size=test_size, random_state=seed)\n",
    "model = LogisticRegression(max_iter=500)  # Tăng số vòng lặp để tránh lỗi hội tụ\n",
    "results = cross_val_score(model, X, Y, cv=kfold)\n",
    "print(\"Accuracy: %.3f%% (%.3f%%)\" % (results.mean() * 100.0, results.std() * 100.0))  # Sửa lỗi print"
   ]
  },
  {
   "cell_type": "markdown",
   "id": "29e27af0-7cb8-4f99-a134-7ad4b974ebe1",
   "metadata": {},
   "source": [
    "# Kết thúc"
   ]
  }
 ],
 "metadata": {
  "kernelspec": {
   "display_name": "Python [conda env:base] *",
   "language": "python",
   "name": "conda-base-py"
  },
  "language_info": {
   "codemirror_mode": {
    "name": "ipython",
    "version": 3
   },
   "file_extension": ".py",
   "mimetype": "text/x-python",
   "name": "python",
   "nbconvert_exporter": "python",
   "pygments_lexer": "ipython3",
   "version": "3.12.7"
  }
 },
 "nbformat": 4,
 "nbformat_minor": 5
}
