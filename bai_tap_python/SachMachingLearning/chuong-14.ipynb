{
 "cells": [
  {
   "cell_type": "markdown",
   "id": "32b03810-02f6-4a5d-9ff0-83f85ec09e05",
   "metadata": {},
   "source": [
    "# Chương 14: Tự động hóa Quy trình Học Máy"
   ]
  },
  {
   "cell_type": "markdown",
   "id": "87ac1af5-2d49-4e2f-b8a3-b2f08fe3e353",
   "metadata": {},
   "source": [
    "### Pipeline Chuẩn Bị Dữ Liệu và Mô Hình"
   ]
  },
  {
   "cell_type": "code",
   "execution_count": 5,
   "id": "f4bb3787-4b9a-49a1-91d7-fad7c3508347",
   "metadata": {},
   "outputs": [
    {
     "name": "stdout",
     "output_type": "stream",
     "text": [
      "0.7669685577580315\n"
     ]
    }
   ],
   "source": [
    "# Create a pipeline that standardizes the data then creates a model\n",
    "from pandas import read_csv\n",
    "from sklearn.model_selection import KFold\n",
    "from sklearn.model_selection import cross_val_score\n",
    "from sklearn.preprocessing import StandardScaler\n",
    "from sklearn.pipeline import Pipeline\n",
    "from sklearn.discriminant_analysis import LinearDiscriminantAnalysis\n",
    "\n",
    "# load data\n",
    "filename = 'pima-indians-diabetes.data.csv'\n",
    "names = ['preg', 'plas', 'pres', 'skin', 'test', 'mass', 'pedi', 'age', 'class']\n",
    "dataframe = read_csv(filename, names=names)\n",
    "array = dataframe.values\n",
    "X = array[:, 0:8]\n",
    "Y = array[:, 8]\n",
    "\n",
    "# create pipeline\n",
    "estimators = []\n",
    "estimators.append(('standardize', StandardScaler()))\n",
    "estimators.append(('lda', LinearDiscriminantAnalysis()))\n",
    "model = Pipeline(estimators)\n",
    "\n",
    "# evaluate pipeline\n",
    "kfold = KFold(n_splits=10, random_state=7, shuffle=True)  # Ensure shuffle is enabled\n",
    "results = cross_val_score(model, X, Y, cv=kfold)\n",
    "print(results.mean())  # Make sure to close the parentheses"
   ]
  },
  {
   "cell_type": "markdown",
   "id": "f12f5e8d-2200-46c3-8ef0-3b951f2bc2ad",
   "metadata": {},
   "source": [
    "### Pipeline Trích Xuất Đặc Trưng và Mô Hình"
   ]
  },
  {
   "cell_type": "code",
   "execution_count": 7,
   "id": "6dc50210-4175-434e-9fa8-32061a511585",
   "metadata": {},
   "outputs": [
    {
     "name": "stdout",
     "output_type": "stream",
     "text": [
      "0.7721633629528366\n"
     ]
    }
   ],
   "source": [
    "# Create a pipeline that extracts features from the data then creates a model\n",
    "from pandas import read_csv\n",
    "from sklearn.model_selection import KFold\n",
    "from sklearn.model_selection import cross_val_score\n",
    "from sklearn.pipeline import Pipeline\n",
    "from sklearn.pipeline import FeatureUnion\n",
    "from sklearn.linear_model import LogisticRegression\n",
    "from sklearn.decomposition import PCA\n",
    "from sklearn.feature_selection import SelectKBest\n",
    "\n",
    "# load data\n",
    "filename = 'pima-indians-diabetes.data.csv'\n",
    "names = ['preg', 'plas', 'pres', 'skin', 'test', 'mass', 'pedi', 'age', 'class']\n",
    "dataframe = read_csv(filename, names=names)\n",
    "array = dataframe.values\n",
    "X = array[:, 0:8]\n",
    "Y = array[:, 8]\n",
    "\n",
    "# create feature union\n",
    "features = []\n",
    "features.append(('pca', PCA(n_components=3)))\n",
    "features.append(('select_best', SelectKBest(k=6)))\n",
    "feature_union = FeatureUnion(features)\n",
    "\n",
    "# create pipeline\n",
    "estimators = []\n",
    "estimators.append(('feature_union', feature_union))\n",
    "estimators.append(('logistic', LogisticRegression(max_iter=200)))  # Increase max_iter to avoid convergence warnings\n",
    "model = Pipeline(estimators)\n",
    "\n",
    "# evaluate pipeline\n",
    "kfold = KFold(n_splits=10, random_state=7, shuffle=True)  # Ensure shuffle is enabled\n",
    "results = cross_val_score(model, X, Y, cv=kfold)\n",
    "print(results.mean())  # Ensure to close parentheses"
   ]
  },
  {
   "cell_type": "markdown",
   "id": "2126efb1-b4a0-4cfd-8844-8239a66a95a8",
   "metadata": {},
   "source": [
    "# Kết thúc"
   ]
  }
 ],
 "metadata": {
  "kernelspec": {
   "display_name": "Python [conda env:base] *",
   "language": "python",
   "name": "conda-base-py"
  },
  "language_info": {
   "codemirror_mode": {
    "name": "ipython",
    "version": 3
   },
   "file_extension": ".py",
   "mimetype": "text/x-python",
   "name": "python",
   "nbconvert_exporter": "python",
   "pygments_lexer": "ipython3",
   "version": "3.12.7"
  }
 },
 "nbformat": 4,
 "nbformat_minor": 5
}
