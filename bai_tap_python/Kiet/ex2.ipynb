{
 "cells": [
  {
   "cell_type": "markdown",
   "id": "1e6699e5-5df4-445b-ab20-d355f7a36bf1",
   "metadata": {},
   "source": [
    "# exercise02\n",
    "## Đề bài: nhập chuỗi s là chuỗi biểu diễn ký tự số trong tiếng Anh (one, two, three, four, five)\n",
    "## Kiểm tra tính hợp lệ và chuyển thành chuỗi và số trong tiếng Việt"
   ]
  },
  {
   "cell_type": "markdown",
   "id": "4259fcf4-d02d-4024-981f-d80a1b41e648",
   "metadata": {},
   "source": [
    "### Định nghĩa các mảng"
   ]
  },
  {
   "cell_type": "code",
   "execution_count": 9,
   "id": "90127ad2-c105-41c5-8829-363ac83199be",
   "metadata": {},
   "outputs": [],
   "source": [
    "en = [\"zero\", \"one\", \"two\", \"three\", \"four\", \"five\"]\n",
    "vi = [\"khong\", \"mot\", \"hai\", \"ba\", \"bon\", \"nam\", \"sau\", \"bay\", \"tam\", \"chin\"]\n",
    "num = [0, 1, 2, 3, 4, 5, 6, 7, 8, 9]"
   ]
  },
  {
   "cell_type": "markdown",
   "id": "39cb534b-988e-490a-b501-4ebc7c66e802",
   "metadata": {},
   "source": [
    "### Nhập chuỗi và xử lý"
   ]
  },
  {
   "cell_type": "code",
   "execution_count": 11,
   "id": "545c50fe-b54f-4aff-91f4-61e26669d758",
   "metadata": {},
   "outputs": [
    {
     "name": "stdin",
     "output_type": "stream",
     "text": [
      "Moi ban nhap chuoi ky so s:  one\n"
     ]
    },
    {
     "name": "stdout",
     "output_type": "stream",
     "text": [
      "Chuoi vua nhap hop le!\n",
      "\"one\" bieu dien cho \"1\" va ung voi tieng Viet \"mot\"\n"
     ]
    }
   ],
   "source": [
    "s = input(\"Moi ban nhap chuoi ky so s: \")\n",
    "if s.lower() not in en:\n",
    "    print(\"Chuoi vua nhap khong hop le!\")\n",
    "else:\n",
    "    print(\"Chuoi vua nhap hop le!\")\n",
    "    p = en.index(s.lower())\n",
    "    print(f'\"{s}\" bieu dien cho \"{num[p]}\" va ung voi tieng Viet \"{vi[p]}\"')"
   ]
  }
 ],
 "metadata": {
  "kernelspec": {
   "display_name": "Python [conda env:base] *",
   "language": "python",
   "name": "conda-base-py"
  },
  "language_info": {
   "codemirror_mode": {
    "name": "ipython",
    "version": 3
   },
   "file_extension": ".py",
   "mimetype": "text/x-python",
   "name": "python",
   "nbconvert_exporter": "python",
   "pygments_lexer": "ipython3",
   "version": "3.12.7"
  }
 },
 "nbformat": 4,
 "nbformat_minor": 5
}
