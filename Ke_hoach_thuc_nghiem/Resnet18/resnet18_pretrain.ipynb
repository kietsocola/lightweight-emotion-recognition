{
 "cells": [
  {
   "cell_type": "markdown",
   "id": "748258bd",
   "metadata": {},
   "source": [
    "# TẠO ẢNH TỪ CSV"
   ]
  },
  {
   "cell_type": "code",
   "execution_count": null,
   "id": "a7df2fe6",
   "metadata": {},
   "outputs": [
    {
     "name": "stdout",
     "output_type": "stream",
     "text": [
      "✅ Hoàn tất tạo ảnh từ CSV, resize ảnh lên 224x224 và làm nét ảnh!\n"
     ]
    }
   ],
   "source": [
    "import pandas as pd\n",
    "import numpy as np\n",
    "import os\n",
    "from PIL import Image, ImageFilter\n",
    "\n",
    "# ⚙️ Cấu hình\n",
    "csv_path = 'fer2013.csv'\n",
    "output_dir = 'FER2013_Images'\n",
    "\n",
    "# Nhãn tương ứng với emotion\n",
    "emotion_labels = {\n",
    "    0: 'Angry',\n",
    "    1: 'Disgust',\n",
    "    2: 'Fear',\n",
    "    3: 'Happy',\n",
    "    4: 'Sad',\n",
    "    5: 'Surprise',\n",
    "    6: 'Neutral'\n",
    "}\n",
    "\n",
    "# 📥 Đọc file CSV\n",
    "df = pd.read_csv(csv_path)\n",
    "\n",
    "# 📂 Tạo thư mục output nếu chưa có\n",
    "for usage in df['Usage'].unique():\n",
    "    for label in emotion_labels.values():\n",
    "        os.makedirs(os.path.join(output_dir, usage, label), exist_ok=True)\n",
    "\n",
    "# 🔄 Duyệt từng dòng và lưu ảnh\n",
    "for i, row in df.iterrows():\n",
    "    emotion = int(row['emotion'])\n",
    "    pixels = list(map(int, row['pixels'].split()))\n",
    "    usage = row['Usage']  # Training, PublicTest, PrivateTest\n",
    "\n",
    "    # Chuyển thành ảnh 48x48\n",
    "    image = np.array(pixels, dtype=np.uint8).reshape(48, 48)\n",
    "    img = Image.fromarray(image)\n",
    "    img = img.convert(\"RGB\")  # để dùng ResNet cần ảnh RGB\n",
    "\n",
    "    # Resize ảnh lên 224x224\n",
    "    img_resized = img.resize((224, 224), resample=Image.BICUBIC)\n",
    "\n",
    "    # Làm nét ảnh (Sharpening)\n",
    "    sharpener = ImageFilter.UnsharpMask(radius=2, percent=150, threshold=3)\n",
    "    img_sharpened = img_resized.filter(sharpener)\n",
    "\n",
    "    # Tên file ảnh\n",
    "    label_name = emotion_labels[emotion]\n",
    "    file_name = f\"{i}.jpg\"\n",
    "    save_path = os.path.join(output_dir, usage, label_name, file_name)\n",
    "\n",
    "    img_sharpened.save(save_path)\n",
    "\n",
    "print(\"✅ Hoàn tất tạo ảnh từ CSV, resize ảnh lên 224x224 và làm nét ảnh!\")\n"
   ]
  },
  {
   "cell_type": "code",
   "execution_count": 20,
   "id": "875710cd",
   "metadata": {},
   "outputs": [
    {
     "name": "stdout",
     "output_type": "stream",
     "text": [
      "\n",
      "[Usage: AllData]\n",
      "Angry: 4953 ảnh\n",
      "Disgust: 547 ảnh\n",
      "Fear: 5121 ảnh\n",
      "Happy: 8989 ảnh\n",
      "Sad: 6077 ảnh\n",
      "Surprise: 4002 ảnh\n",
      "Neutral: 6198 ảnh\n",
      "\n",
      "[Usage: PrivateTest]\n",
      "Angry: 491 ảnh\n",
      "Disgust: 55 ảnh\n",
      "Fear: 528 ảnh\n",
      "Happy: 879 ảnh\n",
      "Sad: 594 ảnh\n",
      "Surprise: 416 ảnh\n",
      "Neutral: 626 ảnh\n",
      "\n",
      "[Usage: PublicTest]\n",
      "Angry: 467 ảnh\n",
      "Disgust: 56 ảnh\n",
      "Fear: 496 ảnh\n",
      "Happy: 895 ảnh\n",
      "Sad: 653 ảnh\n",
      "Surprise: 415 ảnh\n",
      "Neutral: 607 ảnh\n",
      "\n",
      "[Usage: Training]\n",
      "Angry: 3995 ảnh\n",
      "Disgust: 436 ảnh\n",
      "Fear: 4097 ảnh\n",
      "Happy: 7215 ảnh\n",
      "Sad: 4830 ảnh\n",
      "Surprise: 3171 ảnh\n",
      "Neutral: 4965 ảnh\n"
     ]
    }
   ],
   "source": [
    "import os\n",
    "\n",
    "# Cấu hình\n",
    "output_dir = 'FER2013_Images'\n",
    "\n",
    "# Nhãn tương ứng với emotion\n",
    "emotion_labels = {\n",
    "    0: 'Angry',\n",
    "    1: 'Disgust',\n",
    "    2: 'Fear',\n",
    "    3: 'Happy',\n",
    "    4: 'Sad',\n",
    "    5: 'Surprise',\n",
    "    6: 'Neutral'\n",
    "}\n",
    "\n",
    "# 📂 Đếm số ảnh theo từng Usage (Training, PublicTest, PrivateTest) và từng emotion\n",
    "image_counts = {}\n",
    "\n",
    "for usage in os.listdir(output_dir):  # Duyệt qua các thư mục (Training, PublicTest, PrivateTest)\n",
    "    if os.path.isdir(os.path.join(output_dir, usage)):  # Kiểm tra nếu là thư mục\n",
    "        image_counts[usage] = {}\n",
    "        for label in emotion_labels.values():  # Duyệt qua từng emotion\n",
    "            folder_path = os.path.join(output_dir, usage, label)\n",
    "            if os.path.exists(folder_path):  # Kiểm tra nếu thư mục tồn tại\n",
    "                image_counts[usage][label] = len([f for f in os.listdir(folder_path) if os.path.isfile(os.path.join(folder_path, f))])\n",
    "            else:\n",
    "                image_counts[usage][label] = 0\n",
    "\n",
    "# In kết quả đếm số ảnh\n",
    "for usage, labels in image_counts.items():\n",
    "    print(f\"\\n[Usage: {usage}]\")\n",
    "    for label, count in labels.items():\n",
    "        print(f\"{label}: {count} ảnh\")\n",
    "\n"
   ]
  },
  {
   "cell_type": "markdown",
   "id": "37224e20",
   "metadata": {},
   "source": [
    "# HIỆN THÔNG TIN THƯ MUC"
   ]
  },
  {
   "cell_type": "code",
   "execution_count": 14,
   "id": "7be6eaa2",
   "metadata": {},
   "outputs": [
    {
     "name": "stdout",
     "output_type": "stream",
     "text": [
      "📁 FER2013_Images/\n",
      "    📁 AllData/\n",
      "        📁 Angry/\n",
      "        📁 Disgust/\n",
      "        📁 Fear/\n",
      "        📁 Happy/\n",
      "        📁 Neutral/\n",
      "        📁 Sad/\n",
      "        📁 Surprise/\n",
      "    📁 PrivateTest/\n",
      "        📁 Angry/\n",
      "        📁 Disgust/\n",
      "        📁 Fear/\n",
      "        📁 Happy/\n",
      "        📁 Neutral/\n",
      "        📁 Sad/\n",
      "        📁 Surprise/\n",
      "    📁 PublicTest/\n",
      "        📁 Angry/\n",
      "        📁 Disgust/\n",
      "        📁 Fear/\n",
      "        📁 Happy/\n",
      "        📁 Neutral/\n",
      "        📁 Sad/\n",
      "        📁 Surprise/\n",
      "    📁 Training/\n",
      "        📁 Angry/\n",
      "        📁 Disgust/\n",
      "        📁 Fear/\n",
      "        📁 Happy/\n",
      "        📁 Neutral/\n",
      "        📁 Sad/\n",
      "        📁 Surprise/\n"
     ]
    }
   ],
   "source": [
    "import os\n",
    "\n",
    "def print_folder_tree(start_path):\n",
    "    for root, dirs, _ in os.walk(start_path):\n",
    "        level = root.replace(start_path, \"\").count(os.sep)\n",
    "        indent = \" \" * 4 * level\n",
    "        print(f\"{indent}📁 {os.path.basename(root)}/\")\n",
    "\n",
    "# Gọi hàm\n",
    "print_folder_tree(\"FER2013_Images\")\n"
   ]
  },
  {
   "cell_type": "markdown",
   "id": "d9ea8e7b",
   "metadata": {},
   "source": [
    "# NHẬN DIỆN  MỘT ẢNH"
   ]
  },
  {
   "cell_type": "code",
   "execution_count": 22,
   "id": "673370c0",
   "metadata": {},
   "outputs": [],
   "source": [
    "import torch\n",
    "from torchvision import models, transforms\n",
    "from PIL import Image\n",
    "\n"
   ]
  },
  {
   "cell_type": "code",
   "execution_count": 23,
   "id": "cd9ee9c9",
   "metadata": {},
   "outputs": [],
   "source": [
    "model = models.resnet18(pretrained=True)\n",
    "model.fc = torch.nn.Linear(model.fc.in_features, 7)  # FER2013 có 7 lớp\n",
    "\n",
    "# Nếu bạn có model đã fine-tune trên FER2013, load lại\n",
    "# model.load_state_dict(torch.load(\"model_fer18.pth\", map_location='cpu'))\n",
    "\n",
    "model.eval()\n",
    "device = torch.device(\"cuda\" if torch.cuda.is_available() else \"cpu\")\n",
    "model = model.to(device)\n"
   ]
  },
  {
   "cell_type": "code",
   "execution_count": 24,
   "id": "cf329a8e",
   "metadata": {},
   "outputs": [],
   "source": [
    "transform = transforms.Compose([\n",
    "    transforms.Resize((224, 224)),\n",
    "    transforms.ToTensor(),\n",
    "    transforms.Normalize(mean=[0.485, 0.456, 0.406],\n",
    "                         std=[0.229, 0.224, 0.225])\n",
    "])\n",
    "\n"
   ]
  },
  {
   "cell_type": "code",
   "execution_count": 60,
   "id": "c21bd262",
   "metadata": {},
   "outputs": [
    {
     "name": "stdout",
     "output_type": "stream",
     "text": [
      "Ảnh: FER2013_Images/Training/Neutral/1688.jpg\n",
      "Dự đoán: Surprise\n"
     ]
    }
   ],
   "source": [
    "# Đường dẫn ảnh cần dự đoán\n",
    "image_path = \"FER2013_Images/Training/Neutral/1688.jpg\"  # thay bằng ảnh thực tế\n",
    "\n",
    "# Mở ảnh và tiền xử lý\n",
    "image = Image.open(image_path).convert(\"RGB\")\n",
    "input_tensor = transform(image).unsqueeze(0).to(device)  # thêm batch dimension\n",
    "\n",
    "# Dự đoán\n",
    "with torch.no_grad():\n",
    "    output = model(input_tensor)\n",
    "    predicted_class = torch.argmax(output, dim=1).item()\n",
    "\n",
    "class_names = ['Angry', 'Disgust', 'Fear', 'Happy', 'Neutral', 'Sad', 'Surprise']\n",
    "print(f\"Ảnh: {image_path}\")\n",
    "print(f\"Dự đoán: {class_names[predicted_class]}\")\n"
   ]
  },
  {
   "cell_type": "markdown",
   "id": "713db4a1",
   "metadata": {},
   "source": [
    "# ĐÁNH GIÁ MÔ  HÌNH QUA MA TRẬN NHẦM LẪN  , TỈ LỆ ACCURACY "
   ]
  },
  {
   "cell_type": "code",
   "execution_count": 15,
   "id": "3d4d64fa",
   "metadata": {},
   "outputs": [],
   "source": [
    "import torch\n",
    "import torch.nn as nn\n",
    "import torchvision\n",
    "from torchvision import transforms, datasets, models\n",
    "from torch.utils.data import DataLoader, random_split\n",
    "from sklearn.metrics import confusion_matrix, classification_report\n",
    "import matplotlib.pyplot as plt\n",
    "import seaborn as sns\n",
    "import numpy as np\n"
   ]
  },
  {
   "cell_type": "code",
   "execution_count": 16,
   "id": "b933ba2f",
   "metadata": {},
   "outputs": [],
   "source": [
    "# Cấu hình device\n",
    "device = torch.device(\"cuda\" if torch.cuda.is_available() else \"cpu\")\n",
    "\n",
    "# Các biến\n",
    "data_dir = \"FER2013_Images/AllData\"\n",
    "batch_size = 32\n",
    "image_size = 224  # ResNet18 yêu cầu ảnh kích thước tối thiểu 224x224\n",
    "\n",
    "# Transform: resize + chuyển tensor + normalize theo ImageNet\n",
    "transform = transforms.Compose([\n",
    "    transforms.Resize((image_size, image_size)),\n",
    "    transforms.ToTensor(),\n",
    "    transforms.Normalize([0.485, 0.456, 0.406],  # Mean for ImageNet\n",
    "                         [0.229, 0.224, 0.225])  # Std for ImageNet\n",
    "])\n",
    "\n",
    "# Tải toàn bộ dữ liệu\n",
    "full_dataset = datasets.ImageFolder(data_dir, transform=transform)\n",
    "\n",
    "# Chia tập thành train và test (ví dụ: 80% train, 20% test)\n",
    "train_size = int(0.8 * len(full_dataset))\n",
    "test_size = len(full_dataset) - train_size\n",
    "train_dataset, test_dataset = random_split(full_dataset, [train_size, test_size])\n",
    "\n",
    "# DataLoader\n",
    "train_loader = DataLoader(train_dataset, batch_size=batch_size, shuffle=True)\n",
    "test_loader = DataLoader(test_dataset, batch_size=batch_size, shuffle=False)\n",
    "\n",
    "# Nhãn\n",
    "class_names = full_dataset.classes\n"
   ]
  },
  {
   "cell_type": "code",
   "execution_count": 17,
   "id": "0970f376",
   "metadata": {},
   "outputs": [
    {
     "name": "stderr",
     "output_type": "stream",
     "text": [
      "c:\\Users\\ADMIN\\Documents\\Đồ án PPNCKH\\.venv\\Lib\\site-packages\\torchvision\\models\\_utils.py:208: UserWarning: The parameter 'pretrained' is deprecated since 0.13 and may be removed in the future, please use 'weights' instead.\n",
      "  warnings.warn(\n",
      "c:\\Users\\ADMIN\\Documents\\Đồ án PPNCKH\\.venv\\Lib\\site-packages\\torchvision\\models\\_utils.py:223: UserWarning: Arguments other than a weight enum or `None` for 'weights' are deprecated since 0.13 and may be removed in the future. The current behavior is equivalent to passing `weights=ResNet18_Weights.IMAGENET1K_V1`. You can also use `weights=ResNet18_Weights.DEFAULT` to get the most up-to-date weights.\n",
      "  warnings.warn(msg)\n"
     ]
    }
   ],
   "source": [
    "# Load mô hình ResNet18 pre-trained trên ImageNet\n",
    "model = models.resnet18(pretrained=True)\n",
    "\n",
    "# Thay đổi lớp cuối cùng để phù hợp với số lớp cảm xúc (7 lớp)\n",
    "num_ftrs = model.fc.in_features\n",
    "model.fc = nn.Linear(num_ftrs, len(class_names))\n",
    "\n",
    "# Đưa mô hình lên GPU nếu có\n",
    "model = model.to(device)\n"
   ]
  },
  {
   "cell_type": "code",
   "execution_count": 18,
   "id": "aff86083",
   "metadata": {},
   "outputs": [],
   "source": [
    "def evaluate(model, dataloader, criterion):\n",
    "    model.eval()\n",
    "    y_true = []\n",
    "    y_pred = []\n",
    "    running_loss = 0.0\n",
    "    correct = 0\n",
    "    total = 0\n",
    "\n",
    "    with torch.no_grad():\n",
    "        for images, labels in dataloader:\n",
    "            images, labels = images.to(device), labels.to(device)\n",
    "            outputs = model(images)\n",
    "            loss = criterion(outputs, labels)\n",
    "            running_loss += loss.item() * images.size(0)\n",
    "\n",
    "            _, preds = torch.max(outputs, 1)\n",
    "            y_true.extend(labels.cpu().numpy())\n",
    "            y_pred.extend(preds.cpu().numpy())\n",
    "            correct += (preds == labels).sum().item()\n",
    "            total += labels.size(0)\n",
    "\n",
    "    avg_loss = running_loss / total\n",
    "    accuracy = correct / total\n",
    "\n",
    "    return y_true, y_pred, avg_loss, accuracy\n"
   ]
  },
  {
   "cell_type": "code",
   "execution_count": 22,
   "id": "b13bc15d",
   "metadata": {},
   "outputs": [],
   "source": [
    "# Dùng loss cross-entropy\n",
    "criterion = nn.CrossEntropyLoss()\n",
    "\n",
    "# Đánh giá\n",
    "y_true, y_pred, avg_loss, acc = evaluate(model, test_loader, criterion)\n",
    "\n",
    "\n"
   ]
  },
  {
   "cell_type": "code",
   "execution_count": 23,
   "id": "c9624da9",
   "metadata": {},
   "outputs": [
    {
     "name": "stdout",
     "output_type": "stream",
     "text": [
      "Loss: 2.1621\n",
      "Accuracy: 0.1368\n",
      "\n",
      "Classification Report:\n",
      "              precision    recall  f1-score   support\n",
      "\n",
      "       Angry       0.14      0.86      0.23       992\n",
      "     Disgust       0.02      0.03      0.02       103\n",
      "        Fear       0.06      0.00      0.00      1048\n",
      "       Happy       0.19      0.07      0.10      1763\n",
      "     Neutral       0.00      0.00      0.00      1272\n",
      "         Sad       0.20      0.00      0.00      1196\n",
      "    Surprise       0.21      0.00      0.01       804\n",
      "\n",
      "    accuracy                           0.14      7178\n",
      "   macro avg       0.12      0.14      0.05      7178\n",
      "weighted avg       0.13      0.14      0.06      7178\n",
      "\n"
     ]
    },
    {
     "name": "stderr",
     "output_type": "stream",
     "text": [
      "c:\\Users\\ADMIN\\Documents\\Đồ án PPNCKH\\.venv\\Lib\\site-packages\\sklearn\\metrics\\_classification.py:1565: UndefinedMetricWarning: Precision is ill-defined and being set to 0.0 in labels with no predicted samples. Use `zero_division` parameter to control this behavior.\n",
      "  _warn_prf(average, modifier, f\"{metric.capitalize()} is\", len(result))\n",
      "c:\\Users\\ADMIN\\Documents\\Đồ án PPNCKH\\.venv\\Lib\\site-packages\\sklearn\\metrics\\_classification.py:1565: UndefinedMetricWarning: Precision is ill-defined and being set to 0.0 in labels with no predicted samples. Use `zero_division` parameter to control this behavior.\n",
      "  _warn_prf(average, modifier, f\"{metric.capitalize()} is\", len(result))\n",
      "c:\\Users\\ADMIN\\Documents\\Đồ án PPNCKH\\.venv\\Lib\\site-packages\\sklearn\\metrics\\_classification.py:1565: UndefinedMetricWarning: Precision is ill-defined and being set to 0.0 in labels with no predicted samples. Use `zero_division` parameter to control this behavior.\n",
      "  _warn_prf(average, modifier, f\"{metric.capitalize()} is\", len(result))\n"
     ]
    },
    {
     "data": {
      "image/png": "[encoded data removed]",
      "text/plain": [
       "<Figure size 1000x800 with 2 Axes>"
      ]
     },
     "metadata": {},
     "output_type": "display_data"
    }
   ],
   "source": [
    "# In kết quả\n",
    "print(f\"Loss: {avg_loss:.4f}\")\n",
    "print(f\"Accuracy: {acc:.4f}\")\n",
    "print(\"\\nClassification Report:\")\n",
    "print(classification_report(y_true, y_pred, target_names=class_names))\n",
    "\n",
    "# Ma trận nhầm lẫn dạng số\n",
    "conf_matrix = confusion_matrix(y_true, y_pred)\n",
    "\n",
    "# Chuẩn hóa theo hàng (tức theo nhãn thực tế)\n",
    "conf_matrix_norm = conf_matrix.astype('float') / conf_matrix.sum(axis=1)[:, np.newaxis]\n",
    "\n",
    "# Vẽ heatmap tỷ lệ\n",
    "plt.figure(figsize=(10, 8))\n",
    "sns.heatmap(conf_matrix_norm, annot=True, fmt='.2f', cmap=\"Blues\",\n",
    "            xticklabels=class_names, yticklabels=class_names)\n",
    "\n",
    "plt.xlabel(\"Dự đoán\")\n",
    "plt.ylabel(\"Thực tế\")\n",
    "plt.title(\"Ma trận nhầm lẫn (tỷ lệ phần trăm)\")\n",
    "plt.show()"
   ]
  }
 ],
 "metadata": {
  "kernelspec": {
   "display_name": ".venv",
   "language": "python",
   "name": "python3"
  },
  "language_info": {
   "codemirror_mode": {
    "name": "ipython",
    "version": 3
   },
   "file_extension": ".py",
   "mimetype": "text/x-python",
   "name": "python",
   "nbconvert_exporter": "python",
   "pygments_lexer": "ipython3",
   "version": "3.13.2"
  }
 },
 "nbformat": 4,
 "nbformat_minor": 5
}
