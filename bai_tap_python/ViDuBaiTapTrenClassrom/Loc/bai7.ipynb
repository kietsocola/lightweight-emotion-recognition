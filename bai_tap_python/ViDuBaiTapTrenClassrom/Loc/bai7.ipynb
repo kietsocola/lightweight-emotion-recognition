{
 "cells": [
  {
   "cell_type": "markdown",
   "metadata": {
    "vscode": {
     "languageId": "markdown"
    }
   },
   "source": [
    "# DL00_LamQuenPyThon\n"
   ]
  },
  {
   "cell_type": "markdown",
   "metadata": {
    "vscode": {
     "languageId": "markdown"
    }
   },
   "source": [
    "# Tính chu vi và diện tích của hình tròn\n",
    "\n",
    "## Công thức:\n",
    "- **Chu vi**: C = 2πr  \n",
    "- **Diện tích**: A = πr²\n"
   ]
  },
  {
   "cell_type": "markdown",
   "metadata": {
    "vscode": {
     "languageId": "markdown"
    }
   },
   "source": [
    "## Bài làm\n"
   ]
  },
  {
   "cell_type": "markdown",
   "metadata": {},
   "source": [
    "### Import thư viện"
   ]
  },
  {
   "cell_type": "code",
   "execution_count": null,
   "metadata": {},
   "outputs": [],
   "source": [
    "import math"
   ]
  },
  {
   "cell_type": "markdown",
   "metadata": {},
   "source": [
    "### Hàm tính toán chu vi, diện tích hình tròn"
   ]
  },
  {
   "cell_type": "code",
   "execution_count": null,
   "metadata": {},
   "outputs": [],
   "source": [
    "def circle_properties(r):\n",
    "    \"\"\"\n",
    "    Tính chu vi và diện tích hình tròn với bán kính r.\n",
    "    \n",
    "    Tham số:\n",
    "        r (float): Bán kính của hình tròn (r ≥ 0)\n",
    "    \n",
    "    Trả về:\n",
    "        tuple: (chu_vi, dien_tich) với 2 số thập phân\n",
    "    \"\"\"\n",
    "    if r < 0:\n",
    "        raise ValueError(\"Bán kính không thể là số âm\")\n",
    "    \n",
    "    chu_vi = 2 * math.pi * r\n",
    "    dien_tich = math.pi * r ** 2\n",
    "    \n",
    "    return round(chu_vi, 2), round(dien_tich, 2)"
   ]
  },
  {
   "cell_type": "markdown",
   "metadata": {},
   "source": [
    "### Nhập bán kính từ người dùng trong Jupyter Notebook"
   ]
  },
  {
   "cell_type": "code",
   "execution_count": null,
   "metadata": {},
   "outputs": [],
   "source": [
    "r = float(input(\"Nhập bán kính r: \"))"
   ]
  },
  {
   "cell_type": "markdown",
   "metadata": {},
   "source": [
    "### Gọi hàm và hiển thị kết quả"
   ]
  },
  {
   "cell_type": "code",
   "execution_count": 17,
   "metadata": {},
   "outputs": [
    {
     "name": "stdout",
     "output_type": "stream",
     "text": [
      "Chu vi: 37.7\n",
      "Diện tích: 113.1\n"
     ]
    }
   ],
   "source": [
    "try:\n",
    "    cv, dt = circle_properties(r)\n",
    "    print(f\"Chu vi: {cv}\")\n",
    "    print(f\"Diện tích: {dt}\")\n",
    "except ValueError as e:\n",
    "    print(e)"
   ]
  },
  {
   "cell_type": "markdown",
   "metadata": {},
   "source": [
    "## Kết thúc"
   ]
  },
  {
   "cell_type": "code",
   "execution_count": null,
   "metadata": {},
   "outputs": [],
   "source": []
  }
 ],
 "metadata": {
  "kernelspec": {
   "display_name": "Python 3 (ipykernel)",
   "language": "python",
   "name": "python3"
  },
  "language_info": {
   "codemirror_mode": {
    "name": "ipython",
    "version": 3
   },
   "file_extension": ".py",
   "mimetype": "text/x-python",
   "name": "python",
   "nbconvert_exporter": "python",
   "pygments_lexer": "ipython3",
   "version": "3.13.2"
  }
 },
 "nbformat": 4,
 "nbformat_minor": 4
}
