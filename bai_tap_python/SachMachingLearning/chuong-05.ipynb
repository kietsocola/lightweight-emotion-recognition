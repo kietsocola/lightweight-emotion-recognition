{
 "cells": [
  {
   "cell_type": "markdown",
   "id": "8e7538ea-b08a-4d59-b884-09cc9b6f6305",
   "metadata": {},
   "source": [
    "# Chương 5: Hiểu Dữ Liệu Của Bạn Bằng Thống Kê Mô Tả"
   ]
  },
  {
   "cell_type": "markdown",
   "id": "ef18189f-b2e9-424d-9632-01912415b536",
   "metadata": {},
   "source": [
    "## Xem trước 20 dòng đầu của dữ liệu (Peek at Your Data)"
   ]
  },
  {
   "cell_type": "code",
   "execution_count": 5,
   "id": "e7199fd0-709f-4f2e-b90b-0b3d433efe8d",
   "metadata": {},
   "outputs": [
    {
     "name": "stdout",
     "output_type": "stream",
     "text": [
      "    preg  plas  pres  skin  test  mass   pedi  age  class\n",
      "0      6   148    72    35     0  33.6  0.627   50      1\n",
      "1      1    85    66    29     0  26.6  0.351   31      0\n",
      "2      8   183    64     0     0  23.3  0.672   32      1\n",
      "3      1    89    66    23    94  28.1  0.167   21      0\n",
      "4      0   137    40    35   168  43.1  2.288   33      1\n",
      "5      5   116    74     0     0  25.6  0.201   30      0\n",
      "6      3    78    50    32    88  31.0  0.248   26      1\n",
      "7     10   115     0     0     0  35.3  0.134   29      0\n",
      "8      2   197    70    45   543  30.5  0.158   53      1\n",
      "9      8   125    96     0     0   0.0  0.232   54      1\n",
      "10     4   110    92     0     0  37.6  0.191   30      0\n",
      "11    10   168    74     0     0  38.0  0.537   34      1\n",
      "12    10   139    80     0     0  27.1  1.441   57      0\n",
      "13     1   189    60    23   846  30.1  0.398   59      1\n",
      "14     5   166    72    19   175  25.8  0.587   51      1\n",
      "15     7   100     0     0     0  30.0  0.484   32      1\n",
      "16     0   118    84    47   230  45.8  0.551   31      1\n",
      "17     7   107    74     0     0  29.6  0.254   31      1\n",
      "18     1   103    30    38    83  43.3  0.183   33      0\n",
      "19     1   115    70    30    96  34.6  0.529   32      1\n"
     ]
    }
   ],
   "source": [
    "from pandas import read_csv\n",
    "filename = r'd:\\Workspace\\nckh\\DO_AN_PPNCKH\\bai_tap_python\\SachMachingLearning\\pima-indians-diabetes.csv'\n",
    "names = ['preg', 'plas', 'pres', 'skin', 'test', 'mass', 'pedi', 'age', 'class']\n",
    "data = read_csv(filename, names=names)\n",
    "peek = data.head(20)\n",
    "print(peek)"
   ]
  },
  {
   "cell_type": "markdown",
   "id": "4a4daf24-8a82-4db3-8cca-2e8a858cdbe5",
   "metadata": {},
   "source": [
    "## Kích thước của dữ liệu (Dimensions of Your Data)"
   ]
  },
  {
   "cell_type": "code",
   "execution_count": 7,
   "id": "3b2f274a-1a60-47cd-a8ed-61e0e4fddf22",
   "metadata": {},
   "outputs": [
    {
     "name": "stdout",
     "output_type": "stream",
     "text": [
      "(768, 9)\n"
     ]
    }
   ],
   "source": [
    "from pandas import read_csv\n",
    "filename = r'd:\\Workspace\\nckh\\DO_AN_PPNCKH\\bai_tap_python\\SachMachingLearning\\pima-indians-diabetes.csv'\n",
    "names = ['preg', 'plas', 'pres', 'skin', 'test', 'mass', 'pedi', 'age', 'class']\n",
    "data = read_csv(filename, names=names)\n",
    "shape = data.shape\n",
    "print(shape)"
   ]
  },
  {
   "cell_type": "markdown",
   "id": "3756916a-f3ad-41f4-a4fc-9f6ba7655e81",
   "metadata": {},
   "source": [
    "## Kiểu dữ liệu của từng thuộc tính (Data Types for Each Attribute)"
   ]
  },
  {
   "cell_type": "code",
   "execution_count": 9,
   "id": "087f8e14-233c-49f8-ba25-725ac0f8e1d7",
   "metadata": {},
   "outputs": [
    {
     "name": "stdout",
     "output_type": "stream",
     "text": [
      "preg       int64\n",
      "plas       int64\n",
      "pres       int64\n",
      "skin       int64\n",
      "test       int64\n",
      "mass     float64\n",
      "pedi     float64\n",
      "age        int64\n",
      "class      int64\n",
      "dtype: object\n"
     ]
    }
   ],
   "source": [
    "from pandas import read_csv\n",
    "filename = r'd:\\Workspace\\nckh\\DO_AN_PPNCKH\\bai_tap_python\\SachMachingLearning\\pima-indians-diabetes.csv'\n",
    "names = ['preg', 'plas', 'pres', 'skin', 'test', 'mass', 'pedi', 'age', 'class']\n",
    "data = read_csv(filename, names=names)\n",
    "types = data.dtypes\n",
    "print(types)"
   ]
  },
  {
   "cell_type": "markdown",
   "id": "44eb82bc-91b2-4e17-a4ab-a229090d5c86",
   "metadata": {},
   "source": [
    "## Thống kê mô tả dữ liệu (Statistical Summary)"
   ]
  },
  {
   "cell_type": "code",
   "execution_count": 11,
   "id": "5deff225-a3f3-4ba5-b4c9-950546fcdb25",
   "metadata": {},
   "outputs": [
    {
     "name": "stdout",
     "output_type": "stream",
     "text": [
      "         preg    plas    pres    skin    test    mass    pedi     age   class\n",
      "count 768.000 768.000 768.000 768.000 768.000 768.000 768.000 768.000 768.000\n",
      "mean    3.845 120.895  69.105  20.536  79.799  31.993   0.472  33.241   0.349\n",
      "std     3.370  31.973  19.356  15.952 115.244   7.884   0.331  11.760   0.477\n",
      "min     0.000   0.000   0.000   0.000   0.000   0.000   0.078  21.000   0.000\n",
      "25%     1.000  99.000  62.000   0.000   0.000  27.300   0.244  24.000   0.000\n",
      "50%     3.000 117.000  72.000  23.000  30.500  32.000   0.372  29.000   0.000\n",
      "75%     6.000 140.250  80.000  32.000 127.250  36.600   0.626  41.000   1.000\n",
      "max    17.000 199.000 122.000  99.000 846.000  67.100   2.420  81.000   1.000\n"
     ]
    }
   ],
   "source": [
    "from pandas import read_csv\n",
    "from pandas import set_option\n",
    "filename = r'd:\\Workspace\\nckh\\DO_AN_PPNCKH\\bai_tap_python\\SachMachingLearning\\pima-indians-diabetes.csv'\n",
    "names = ['preg', 'plas', 'pres', 'skin', 'test', 'mass', 'pedi', 'age', 'class']\n",
    "data = read_csv(filename, names=names)\n",
    "set_option('display.width', 100)\n",
    "set_option('display.float_format', '{:.3f}'.format)\n",
    "description = data.describe()\n",
    "print(description)"
   ]
  },
  {
   "cell_type": "markdown",
   "id": "89e98c9a-5592-4887-8fd0-6f5c07dfab79",
   "metadata": {},
   "source": [
    "## Phân phối nhãn lớp trong bài toán phân loại (Class Distribution)"
   ]
  },
  {
   "cell_type": "code",
   "execution_count": 13,
   "id": "536520e5-bf88-4bcf-96d1-f0349ce9ea2a",
   "metadata": {},
   "outputs": [
    {
     "name": "stdout",
     "output_type": "stream",
     "text": [
      "class\n",
      "0    500\n",
      "1    268\n",
      "dtype: int64\n"
     ]
    }
   ],
   "source": [
    "from pandas import read_csv\n",
    "filename = r'd:\\Workspace\\nckh\\DO_AN_PPNCKH\\bai_tap_python\\SachMachingLearning\\pima-indians-diabetes.csv'\n",
    "names = ['preg', 'plas', 'pres', 'skin', 'test', 'mass', 'pedi', 'age', 'class']\n",
    "data = read_csv(filename, names=names)\n",
    "class_counts = data.groupby('class').size()\n",
    "print(class_counts)"
   ]
  },
  {
   "cell_type": "markdown",
   "id": "1b7a4292-e83c-4c3d-acfa-6579a36c5d5c",
   "metadata": {},
   "source": [
    "## Ma trận tương quan giữa các thuộc tính (Pairwise Pearson Correlations)"
   ]
  },
  {
   "cell_type": "code",
   "execution_count": 15,
   "id": "a2db1d01-f8b5-4c8f-8fa8-69fd48690e12",
   "metadata": {},
   "outputs": [
    {
     "name": "stdout",
     "output_type": "stream",
     "text": [
      "        preg  plas  pres   skin   test  mass   pedi    age  class\n",
      "preg   1.000 0.129 0.141 -0.082 -0.074 0.018 -0.034  0.544  0.222\n",
      "plas   0.129 1.000 0.153  0.057  0.331 0.221  0.137  0.264  0.467\n",
      "pres   0.141 0.153 1.000  0.207  0.089 0.282  0.041  0.240  0.065\n",
      "skin  -0.082 0.057 0.207  1.000  0.437 0.393  0.184 -0.114  0.075\n",
      "test  -0.074 0.331 0.089  0.437  1.000 0.198  0.185 -0.042  0.131\n",
      "mass   0.018 0.221 0.282  0.393  0.198 1.000  0.141  0.036  0.293\n",
      "pedi  -0.034 0.137 0.041  0.184  0.185 0.141  1.000  0.034  0.174\n",
      "age    0.544 0.264 0.240 -0.114 -0.042 0.036  0.034  1.000  0.238\n",
      "class  0.222 0.467 0.065  0.075  0.131 0.293  0.174  0.238  1.000\n"
     ]
    }
   ],
   "source": [
    "from pandas import read_csv\n",
    "from pandas import set_option\n",
    "filename = r'd:\\Workspace\\nckh\\DO_AN_PPNCKH\\bai_tap_python\\SachMachingLearning\\pima-indians-diabetes.csv'\n",
    "names = ['preg', 'plas', 'pres', 'skin', 'test', 'mass', 'pedi', 'age', 'class']\n",
    "data = read_csv(filename, names=names)\n",
    "set_option('display.width', 100)\n",
    "set_option('display.float_format', '{:.3f}'.format)\n",
    "correlations = data.corr(method='pearson')\n",
    "print(correlations)"
   ]
  },
  {
   "cell_type": "markdown",
   "id": "7c18d715-3895-478b-850b-11e94d60e17a",
   "metadata": {},
   "source": [
    "## Độ lệch (Skewness) của phân phối từng thuộc tính (Skew for Each Attribute)"
   ]
  },
  {
   "cell_type": "code",
   "execution_count": 17,
   "id": "d990db67-42ac-425b-a1fb-f8fd7ef09c49",
   "metadata": {},
   "outputs": [
    {
     "name": "stdout",
     "output_type": "stream",
     "text": [
      "preg     0.902\n",
      "plas     0.174\n",
      "pres    -1.844\n",
      "skin     0.109\n",
      "test     2.272\n",
      "mass    -0.429\n",
      "pedi     1.920\n",
      "age      1.130\n",
      "class    0.635\n",
      "dtype: float64\n"
     ]
    }
   ],
   "source": [
    "from pandas import read_csv\n",
    "filename = r'd:\\Workspace\\nckh\\DO_AN_PPNCKH\\bai_tap_python\\SachMachingLearning\\pima-indians-diabetes.csv'\n",
    "names = ['preg', 'plas', 'pres', 'skin', 'test', 'mass', 'pedi', 'age', 'class']\n",
    "data = read_csv(filename, names=names)\n",
    "skew = data.skew()\n",
    "print(skew)"
   ]
  },
  {
   "cell_type": "markdown",
   "id": "29e27af0-7cb8-4f99-a134-7ad4b974ebe1",
   "metadata": {},
   "source": [
    "# Kết thúc"
   ]
  }
 ],
 "metadata": {
  "kernelspec": {
   "display_name": "Python [conda env:base] *",
   "language": "python",
   "name": "conda-base-py"
  },
  "language_info": {
   "codemirror_mode": {
    "name": "ipython",
    "version": 3
   },
   "file_extension": ".py",
   "mimetype": "text/x-python",
   "name": "python",
   "nbconvert_exporter": "python",
   "pygments_lexer": "ipython3",
   "version": "3.12.7"
  }
 },
 "nbformat": 4,
 "nbformat_minor": 5
}
