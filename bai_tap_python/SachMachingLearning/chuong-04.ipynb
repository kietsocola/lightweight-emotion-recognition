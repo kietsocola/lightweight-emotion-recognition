{
 "cells": [
  {
   "cell_type": "markdown",
   "id": "8e7538ea-b08a-4d59-b884-09cc9b6f6305",
   "metadata": {},
   "source": [
    "# Chương 4: Cách Tải Dữ Liệu Máy Học"
   ]
  },
  {
   "cell_type": "markdown",
   "id": "40a04e0d-b23e-4447-81db-43748f772e8c",
   "metadata": {},
   "source": [
    "## Tải tệp CSV bằng Thư viện Chuẩn của Python"
   ]
  },
  {
   "cell_type": "code",
   "execution_count": 12,
   "id": "4165e060-ec9e-4ea5-a655-8ed2e1fcbbab",
   "metadata": {},
   "outputs": [
    {
     "name": "stdout",
     "output_type": "stream",
     "text": [
      "(768, 9)\n"
     ]
    }
   ],
   "source": [
    "import csv\n",
    "import numpy\n",
    "filename = r'd:\\Workspace\\nckh\\DO_AN_PPNCKH\\bai_tap_python\\SachMachingLearning\\pima-indians-diabetes.csv'\n",
    "raw_data = open(filename, 'r', encoding='utf-8')\n",
    "reader = csv.reader(raw_data, delimiter=',', quoting=csv.QUOTE_NONE)\n",
    "x = list(reader)\n",
    "data = numpy.array(x).astype('float')\n",
    "print(data.shape)"
   ]
  },
  {
   "cell_type": "markdown",
   "id": "f5fe9e1b-b7be-4a19-8e05-d9d5240a69fc",
   "metadata": {},
   "source": [
    "## Tải tệp CSV bằng NumPy"
   ]
  },
  {
   "cell_type": "code",
   "execution_count": 4,
   "id": "601d1b02-5bd0-48b2-a794-b94a67dcf5e9",
   "metadata": {},
   "outputs": [
    {
     "name": "stdout",
     "output_type": "stream",
     "text": [
      "(768, 9)\n"
     ]
    }
   ],
   "source": [
    "from numpy import loadtxt\n",
    "filename = r'd:\\Workspace\\nckh\\DO_AN_PPNCKH\\bai_tap_python\\SachMachingLearning\\pima-indians-diabetes.csv'\n",
    "raw_data = open(filename, 'rb')\n",
    "data = loadtxt(raw_data, delimiter=\",\")\n",
    "print(data.shape)"
   ]
  },
  {
   "cell_type": "markdown",
   "id": "035e3a95-b20b-4cfb-9a91-2b16db783bbd",
   "metadata": {},
   "source": [
    "## Tải tệp CSV từ URL bằng NumPy"
   ]
  },
  {
   "cell_type": "code",
   "execution_count": 6,
   "id": "7f488583-f3eb-4637-90ed-72d4ddd64324",
   "metadata": {},
   "outputs": [
    {
     "name": "stdout",
     "output_type": "stream",
     "text": [
      "(150, 5)\n"
     ]
    }
   ],
   "source": [
    "from numpy import loadtxt\n",
    "from urllib.request import urlopen\n",
    "url = \"https://archive.ics.uci.edu/ml/machine-learning-databases/iris/iris.data\"\n",
    "raw_data = urlopen(url)\n",
    "dataset = loadtxt(raw_data, delimiter=\",\", dtype=str)  # dtype=str vì file có cả chữ\n",
    "print(dataset.shape)"
   ]
  },
  {
   "cell_type": "markdown",
   "id": "d1bcfcfd-5cf1-4a2f-ba0a-c3998f0cf52d",
   "metadata": {},
   "source": [
    "## Tải tệp CSV bằng Pandas"
   ]
  },
  {
   "cell_type": "code",
   "execution_count": 8,
   "id": "d96e71aa-b43f-4175-b475-2b8cc406a6b5",
   "metadata": {},
   "outputs": [
    {
     "name": "stdout",
     "output_type": "stream",
     "text": [
      "(768, 9)\n"
     ]
    }
   ],
   "source": [
    "from pandas import read_csv\n",
    "filename = r'd:\\Workspace\\nckh\\DO_AN_PPNCKH\\bai_tap_python\\SachMachingLearning\\pima-indians-diabetes.csv'\n",
    "names = ['preg', 'plas', 'pres', 'skin', 'test', 'mass', 'pedi', 'age', 'class']\n",
    "data = read_csv(filename, names=names)\n",
    "print(data.shape)"
   ]
  },
  {
   "cell_type": "markdown",
   "id": "8cad8b81-0e73-42f6-8bbf-bcafe66a7ecd",
   "metadata": {},
   "source": [
    "## Tải tệp CSV từ URL bằng Pandas"
   ]
  },
  {
   "cell_type": "code",
   "execution_count": 10,
   "id": "f05b26c2-fce0-4422-9bc1-4ec5b0959423",
   "metadata": {},
   "outputs": [
    {
     "name": "stdout",
     "output_type": "stream",
     "text": [
      "(150, 5)\n"
     ]
    }
   ],
   "source": [
    "from pandas import read_csv\n",
    "url = \"https://archive.ics.uci.edu/ml/machine-learning-databases/iris/iris.data\"\n",
    "names = ['preg', 'plas', 'pres', 'skin', 'test']\n",
    "data = read_csv(url, names=names)\n",
    "print(data.shape)"
   ]
  },
  {
   "cell_type": "markdown",
   "id": "29e27af0-7cb8-4f99-a134-7ad4b974ebe1",
   "metadata": {},
   "source": [
    "# Kết thúc"
   ]
  }
 ],
 "metadata": {
  "kernelspec": {
   "display_name": "Python [conda env:base] *",
   "language": "python",
   "name": "conda-base-py"
  },
  "language_info": {
   "codemirror_mode": {
    "name": "ipython",
    "version": 3
   },
   "file_extension": ".py",
   "mimetype": "text/x-python",
   "name": "python",
   "nbconvert_exporter": "python",
   "pygments_lexer": "ipython3",
   "version": "3.12.7"
  }
 },
 "nbformat": 4,
 "nbformat_minor": 5
}
