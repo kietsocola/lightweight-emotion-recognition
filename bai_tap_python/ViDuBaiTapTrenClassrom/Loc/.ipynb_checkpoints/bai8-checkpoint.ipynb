{
 "cells": [
  {
   "cell_type": "markdown",
   "metadata": {},
   "source": [
    "# DL00_LamQuenPyThon"
   ]
  },
  {
   "cell_type": "markdown",
   "metadata": {},
   "source": [
    "# ex4_scientific2\n"
   ]
  },
  {
   "cell_type": "markdown",
   "metadata": {},
   "source": [
    "## Nội dung bài\n",
    "Hiển thị 2 đồ thị sin(x), cos(x) trong khoảng $x \\in \\left[-\\pi, \\pi\\right]$"
   ]
  },
  {
   "cell_type": "markdown",
   "metadata": {},
   "source": [
    "## Bài làm"
   ]
  },
  {
   "cell_type": "markdown",
   "metadata": {},
   "source": [
    "### Import thư viện"
   ]
  },
  {
   "cell_type": "code",
   "execution_count": null,
   "metadata": {},
   "outputs": [],
   "source": [
    "import numpy as np\n",
    "import matplotlib.pyplot as plt"
   ]
  },
  {
   "cell_type": "markdown",
   "metadata": {},
   "source": [
    "### Sinh dữ liệu hàm số"
   ]
  },
  {
   "cell_type": "code",
   "execution_count": null,
   "metadata": {},
   "outputs": [],
   "source": [
    "X = np.linspace(-np.pi, np.pi, 256, endpoint=True) # generate x in [-pi, pi]\n",
    "C, S = np.cos(X), np.sin(X)\n",
    "\n",
    "print(f'+ X: |X|={len(X)}, x in [{np.min(X):.2f}, {np.max(X):.2f}], 10 samples: {X[0:10]}')\n",
    "print(f'+ Cos(X): |C|={len(C)}, C in [{np.min(C):.2f}, {np.max(C):.2f}], 10 samples: {C[0:10]}')\n",
    "print(f'+ Sin(X): |S|={len(S)}, S in [{np.min(S):.2f}, {np.max(S):.2f}], 10 samples: {S[0:10]}')"
   ]
  },
  {
   "cell_type": "markdown",
   "metadata": {},
   "source": [
    "### Hiển thị đồ thị"
   ]
  },
  {
   "cell_type": "code",
   "execution_count": null,
   "metadata": {},
   "outputs": [],
   "source": []
  }
 ],
 "metadata": {
  "kernelspec": {
   "display_name": "Python 3 (ipykernel)",
   "language": "python",
   "name": "python3"
  },
  "language_info": {
   "codemirror_mode": {
    "name": "ipython",
    "version": 3
   },
   "file_extension": ".py",
   "mimetype": "text/x-python",
   "name": "python",
   "nbconvert_exporter": "python",
   "pygments_lexer": "ipython3",
   "version": "3.13.2"
  }
 },
 "nbformat": 4,
 "nbformat_minor": 4
}
