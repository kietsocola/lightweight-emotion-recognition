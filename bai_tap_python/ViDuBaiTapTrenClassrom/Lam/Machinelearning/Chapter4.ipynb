{
 "cells": [
  {
   "cell_type": "markdown",
   "id": "7a6b141e",
   "metadata": {},
   "source": [
    "Chương 4: Cách Tải Dữ Liệu Học Máy\n",
    "\n",
    "Bạn phải có khả năng tải dữ liệu của mình trước khi bắt đầu dự án học máy. Định dạng phổ biến nhất cho dữ liệu học máy là các tệp CSV. Có nhiều cách để tải một tệp CSV trong Python. Trong bài học này, bạn sẽ học ba cách mà bạn có thể sử dụng để tải dữ liệu CSV của mình trong Python:\n",
    "\n",
    "- **Tải Tệp CSV với Thư Viện Chuẩn của Python.**\n",
    "- **Tải Tệp CSV với NumPy.**\n",
    "- **Tải Tệp CSV với Pandas.**"
   ]
  },
  {
   "cell_type": "markdown",
   "id": "a012be29",
   "metadata": {},
   "source": [
    "4.1 Những Điều Cần Xem Xét Khi Tải Dữ Liệu CSV"
   ]
  },
  {
   "cell_type": "markdown",
   "id": "292c516d",
   "metadata": {},
   "source": [
    "4.2 Bộ Dữ Liệu Người Da Đỏ Pima"
   ]
  },
  {
   "cell_type": "markdown",
   "id": "6ff28506",
   "metadata": {},
   "source": [
    "4.3 Tải Tệp CSV với Thư Viện Chuẩn của Python"
   ]
  },
  {
   "cell_type": "code",
   "execution_count": 6,
   "id": "ac9253b1",
   "metadata": {},
   "outputs": [
    {
     "name": "stdout",
     "output_type": "stream",
     "text": [
      "(768, 9)\n"
     ]
    }
   ],
   "source": [
    "import csv\n",
    "import numpy as np  \n",
    "\n",
    "filename = 'pima-indians-diabetes.data.csv'\n",
    "\n",
    "with open(filename, 'r', encoding='utf-8') as raw_data:\n",
    "    reader = csv.reader(raw_data, delimiter=',', quoting=csv.QUOTE_NONE)\n",
    "    \n",
    "    next(reader)  # Bỏ qua dòng tiêu đề\n",
    "    x = list(reader)\n",
    "\n",
    "data = np.array(x, dtype=float)\n",
    "\n",
    "print(data.shape)\n"
   ]
  },
  {
   "cell_type": "markdown",
   "id": "24922c8e",
   "metadata": {},
   "source": [
    "4.4 Tải Tệp CSV với NumPy"
   ]
  },
  {
   "cell_type": "code",
   "execution_count": 8,
   "id": "1b8c2ec4",
   "metadata": {},
   "outputs": [
    {
     "name": "stdout",
     "output_type": "stream",
     "text": [
      "(768, 9)\n"
     ]
    }
   ],
   "source": [
    "# Tải CSV sử dụng NumPy\n",
    "from numpy import loadtxt\n",
    "\n",
    "filename = 'pima-indians-diabetes.data.csv'\n",
    "raw_data = open(filename, 'rb')\n",
    "data = loadtxt(raw_data, delimiter=\",\", skiprows=1)  # Bỏ qua dòng đầu tiên (tiêu đề)\n",
    "print(data.shape)"
   ]
  },
  {
   "cell_type": "markdown",
   "id": "ad011147",
   "metadata": {},
   "source": [
    "4.5 Tải Tệp CSV với Pandas"
   ]
  },
  {
   "cell_type": "code",
   "execution_count": 10,
   "id": "fa1116c9",
   "metadata": {},
   "outputs": [
    {
     "name": "stdout",
     "output_type": "stream",
     "text": [
      "(769, 9)\n"
     ]
    }
   ],
   "source": [
    "# Tải CSV sử dụng Pandas\n",
    "from pandas import read_csv\n",
    "\n",
    "filename = 'pima-indians-diabetes.data.csv'\n",
    "names = ['preg', 'plas', 'pres', 'skin', 'test', 'mass', 'pedi', 'age', 'class']\n",
    "data = read_csv(filename, names=names)\n",
    "print(data.shape)"
   ]
  }
 ],
 "metadata": {
  "kernelspec": {
   "display_name": "Python 3",
   "language": "python",
   "name": "python3"
  },
  "language_info": {
   "codemirror_mode": {
    "name": "ipython",
    "version": 3
   },
   "file_extension": ".py",
   "mimetype": "text/x-python",
   "name": "python",
   "nbconvert_exporter": "python",
   "pygments_lexer": "ipython3",
   "version": "3.13.2"
  }
 },
 "nbformat": 4,
 "nbformat_minor": 5
}
