{
 "cells": [
  {
   "cell_type": "markdown",
   "id": "7162a4c6",
   "metadata": {},
   "source": [
    "# Introduction to TensorFlow"
   ]
  },
  {
   "cell_type": "markdown",
   "id": "f7710e81",
   "metadata": {},
   "source": [
    "## Linear Regression with TensorFlow"
   ]
  },
  {
   "cell_type": "code",
   "execution_count": 4,
   "id": "33e93444",
   "metadata": {},
   "outputs": [
    {
     "name": "stdout",
     "output_type": "stream",
     "text": [
      "Step    0: loss = 1.09793, W = [-1.1635779], b = [0.09999916]\n",
      "Step  500: loss = 0.00000, W = [0.09999996], b = [0.30000004]\n",
      "Step 1000: loss = 0.00000, W = [0.1], b = [0.3]\n",
      "Step 1500: loss = 0.00000, W = [0.1], b = [0.3]\n",
      "Step 2000: loss = 0.00000, W = [0.1], b = [0.3]\n",
      "Step 2500: loss = 0.00000, W = [0.1], b = [0.3]\n",
      "Step 3000: loss = 0.00000, W = [0.1], b = [0.3]\n",
      "Step 3500: loss = 0.00000, W = [0.1], b = [0.3]\n",
      "Step 4000: loss = 0.00000, W = [0.1], b = [0.3]\n",
      "Step 4500: loss = 0.00000, W = [0.1], b = [0.3]\n"
     ]
    }
   ],
   "source": [
    "import tensorflow as tf\n",
    "import numpy as np\n",
    "\n",
    "# Dữ liệu giả: y = 0.1 * x + 0.3\n",
    "x_data = np.random.rand(100).astype(np.float32)\n",
    "y_data = x_data * 0.1 + 0.3\n",
    "\n",
    "# Biến cần học\n",
    "W = tf.Variable(tf.random.normal([1]))\n",
    "b = tf.Variable(tf.zeros([1]))\n",
    "\n",
    "# Tối ưu hóa\n",
    "optimizer = tf.keras.optimizers.Adam(learning_rate=0.1)\n",
    "\n",
    "# Huấn luyện\n",
    "for step in range(5000):\n",
    "    with tf.GradientTape() as tape:\n",
    "        y_pred = W * x_data + b\n",
    "        loss = tf.reduce_mean(tf.square(y_pred - y_data))\n",
    "\n",
    "    gradients = tape.gradient(loss, [W, b])\n",
    "    optimizer.apply_gradients(zip(gradients, [W, b]))\n",
    "\n",
    "    if step % 500 == 0:\n",
    "        print(f\"Step {step:4d}: loss = {loss:.5f}, W = {W.numpy()}, b = {b.numpy()}\")"
   ]
  }
 ],
 "metadata": {
  "kernelspec": {
   "display_name": "Python 3",
   "language": "python",
   "name": "python3"
  },
  "language_info": {
   "codemirror_mode": {
    "name": "ipython",
    "version": 3
   },
   "file_extension": ".py",
   "mimetype": "text/x-python",
   "name": "python",
   "nbconvert_exporter": "python",
   "pygments_lexer": "ipython3",
   "version": "3.12.3"
  }
 },
 "nbformat": 4,
 "nbformat_minor": 5
}
