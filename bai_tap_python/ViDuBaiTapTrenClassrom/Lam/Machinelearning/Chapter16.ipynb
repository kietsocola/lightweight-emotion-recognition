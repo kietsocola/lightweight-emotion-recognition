{
 "cells": [
  {
   "cell_type": "markdown",
   "id": "7c8a976b",
   "metadata": {},
   "source": [
    "### Chương 16: Cải Thiện Hiệu Suất với Điều Chỉnh Thuật Toán\n",
    "\n",
    "Các mô hình học máy được tham số hóa để hành vi của chúng có thể được điều chỉnh cho một vấn đề cụ thể. Các mô hình có thể có nhiều tham số và việc tìm ra sự kết hợp tốt nhất của các tham số có thể được coi là một bài toán tìm kiếm. Trong chương này, bạn sẽ khám phá cách điều chỉnh các tham số của thuật toán học máy trong Python bằng cách sử dụng scikit-learn. Sau khi hoàn thành bài học này, bạn sẽ biết:\n",
    "\n",
    "- **Tầm quan trọng của việc điều chỉnh tham số thuật toán để cải thiện hiệu suất thuật toán.**\n",
    "- **Cách sử dụng chiến lược điều chỉnh tham số tìm kiếm lưới (grid search).**\n",
    "- Cách sử dụng chiến lược điều chỉnh tham số tìm kiếm ngẫu nhiên (random search)."
   ]
  },
  {
   "cell_type": "markdown",
   "id": "2cae2e93",
   "metadata": {},
   "source": [
    "16.1 Tham Số của Thuật Toán Học Máy"
   ]
  },
  {
   "cell_type": "markdown",
   "id": "b7a1df2a",
   "metadata": {},
   "source": [
    "16.2 Điều Chỉnh Tham Số Tìm Kiếm Lưới"
   ]
  },
  {
   "cell_type": "code",
   "execution_count": 1,
   "id": "67ac853d",
   "metadata": {},
   "outputs": [
    {
     "name": "stdout",
     "output_type": "stream",
     "text": [
      "0.2761084412929244\n",
      "1.0\n"
     ]
    }
   ],
   "source": [
    "import numpy as np\n",
    "import pandas as pd\n",
    "from sklearn.linear_model import Ridge\n",
    "from sklearn.model_selection import GridSearchCV\n",
    "\n",
    "# Đọc dữ liệu đúng cách\n",
    "filename = 'pima-indians-diabetes.data.csv'\n",
    "names = ['preg', 'plas', 'pres', 'skin', 'test', 'mass', 'pedi', 'age', 'class']\n",
    "dataframe = pd.read_csv(filename, names=names, header=None)\n",
    "\n",
    "# Kiểm tra dòng đầu tiên có phải là header không\n",
    "if dataframe.iloc[0, 0] == 'Pregnancies':  \n",
    "    dataframe = dataframe[1:]  # Xóa dòng tiêu đề bị lẫn\n",
    "\n",
    "# Xóa khoảng trắng và thay '?' bằng NaN, sau đó bỏ hàng bị lỗi\n",
    "dataframe = dataframe.replace('?', np.nan).dropna()\n",
    "\n",
    "# Chuyển đổi dữ liệu sang kiểu số\n",
    "dataframe = dataframe.astype(float)\n",
    "\n",
    "# Chuyển dữ liệu thành numpy array\n",
    "array = dataframe.values\n",
    "X = array[:, 0:8]  \n",
    "Y = array[:, 8]\n",
    "\n",
    "# Thiết lập lưới tham số\n",
    "alphas = np.array([1, 0.1, 0.01, 0.001, 0.0001, 0])\n",
    "param_grid = dict(alpha=alphas)\n",
    "model = Ridge()\n",
    "\n",
    "# Tìm kiếm tham số tốt nhất\n",
    "grid = GridSearchCV(estimator=model, param_grid=param_grid)\n",
    "grid.fit(X, Y)\n",
    "\n",
    "# In kết quả\n",
    "print( grid.best_score_)\n",
    "print( grid.best_estimator_.alpha)\n"
   ]
  },
  {
   "cell_type": "markdown",
   "id": "f43610be",
   "metadata": {},
   "source": [
    "16.3 Điều Chỉnh Tham Số Tìm Kiếm Ngẫu Nhiên"
   ]
  },
  {
   "cell_type": "code",
   "execution_count": 7,
   "id": "89fc10a8",
   "metadata": {},
   "outputs": [
    {
     "name": "stdout",
     "output_type": "stream",
     "text": [
      "0.27610755734028525\n",
      "0.9779895119966027\n"
     ]
    }
   ],
   "source": [
    "# Tìm Kiếm Ngẫu Nhiên cho Điều Chỉnh Thuật Toán\n",
    "import numpy\n",
    "from pandas import read_csv\n",
    "from scipy.stats import uniform\n",
    "from sklearn.linear_model import Ridge\n",
    "from sklearn.model_selection import RandomizedSearchCV\n",
    "\n",
    "filename = 'pima-indians-diabetes.data.csv'\n",
    "names = ['preg', 'plas', 'pres', 'skin', 'test', 'mass', 'pedi', 'age', 'class']\n",
    "dataframe = read_csv(filename, names=names)\n",
    "\n",
    "# Kiểm tra dòng đầu tiên có phải là header không\n",
    "if dataframe.iloc[0, 0] == 'Pregnancies':  \n",
    "    dataframe = dataframe[1:]  # Xóa dòng tiêu đề bị lẫn\n",
    "\n",
    "# Xóa khoảng trắng và thay '?' bằng NaN, sau đó bỏ hàng bị lỗi\n",
    "dataframe = dataframe.replace('?', np.nan).dropna()\n",
    "\n",
    "array = dataframe.values\n",
    "X = array[:, 0:8]\n",
    "Y = array[:, 8]\n",
    "\n",
    "param_grid = {'alpha': uniform()}\n",
    "model = Ridge()\n",
    "rsearch = RandomizedSearchCV(estimator=model, param_distributions=param_grid, n_iter=100, random_state=7)\n",
    "rsearch.fit(X, Y)\n",
    "\n",
    "print(rsearch.best_score_)\n",
    "print(rsearch.best_estimator_.alpha)"
   ]
  }
 ],
 "metadata": {
  "kernelspec": {
   "display_name": "Python 3",
   "language": "python",
   "name": "python3"
  },
  "language_info": {
   "codemirror_mode": {
    "name": "ipython",
    "version": 3
   },
   "file_extension": ".py",
   "mimetype": "text/x-python",
   "name": "python",
   "nbconvert_exporter": "python",
   "pygments_lexer": "ipython3",
   "version": "3.13.2"
  }
 },
 "nbformat": 4,
 "nbformat_minor": 5
}
