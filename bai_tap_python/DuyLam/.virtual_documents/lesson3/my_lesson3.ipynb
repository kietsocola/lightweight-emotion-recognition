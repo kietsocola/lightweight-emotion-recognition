%run bai-01.py


%run bai-02.py


%run bai-03.py



