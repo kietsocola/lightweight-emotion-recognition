%run ex1_calc.py


%run ex3_circle.py



