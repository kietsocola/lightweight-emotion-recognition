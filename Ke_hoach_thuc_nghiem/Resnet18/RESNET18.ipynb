{
  "cells": [
    {
      "cell_type": "code",
      "source": [
        "# link tải file fer2013.csv\n",
        "# https://www.kaggle.com/datasets/deadskull7/fer2013/data?select=fer2013.csv\n",
        "# Sau khi tải xong , hãy để im file zip và đẩy lên mydrive tron gg drive của bạn\n",
        "\n",
        "# lên gg colab  link : https://colab.research.google.com\n",
        "# thực hiện import file .ipynb này vào gg colab\n",
        "# Thực hiện chạy các đoạn code dưới để có thể có được tập train hoàn chỉnh với resnet18 trên tập fer2013"
      ],
      "metadata": {
        "id": "c0Lge6k-BbBj"
      },
      "execution_count": null,
      "outputs": []
    },
    {
      "cell_type": "markdown",
      "source": [
        "## 1.Chuẩn bị dữ liệu"
      ],
      "metadata": {
        "id": "cg0Uvt0fCDwK"
      }
    },
    {
      "cell_type": "code",
      "source": [
        "from google.colab import drive\n",
        "drive.mount('/content/drive')"
      ],
      "metadata": {
        "colab": {
          "base_uri": "https://localhost:8080/"
        },
        "id": "rsPeV1RfnER2",
        "outputId": "1e94cc12-6fa4-4c23-bad1-38e97c49d2d1"
      },
      "execution_count": 2,
      "outputs": [
        {
          "output_type": "stream",
          "name": "stdout",
          "text": [
            "Mounted at /content/drive\n"
          ]
        }
      ]
    },
    {
      "cell_type": "code",
      "source": [
        "import zipfile\n",
        "import os\n",
        "\n",
        "zip_path = '/content/drive/MyDrive/fer2013.csv.zip'  # thay bằng đường dẫn thật\n",
        "extract_path = '/content/drive/MyDrive/csv'  # thư mục để lưu file sau khi giải nén\n",
        "\n",
        "# Tạo thư mục nếu chưa tồn tại\n",
        "os.makedirs(extract_path, exist_ok=True)\n",
        "\n",
        "# Giải nén\n",
        "with zipfile.ZipFile(zip_path, 'r') as zip_ref:\n",
        "    zip_ref.extractall(extract_path)\n",
        "\n",
        "print(\"Đã giải nén thành công!\")\n"
      ],
      "metadata": {
        "colab": {
          "base_uri": "https://localhost:8080/"
        },
        "id": "7mmTsaOUnbGA",
        "outputId": "de4c16d1-24c2-4451-f789-620ddade5681"
      },
      "execution_count": 2,
      "outputs": [
        {
          "output_type": "stream",
          "name": "stdout",
          "text": [
            "Đã giải nén thành công!\n"
          ]
        }
      ]
    },
    {
      "cell_type": "code",
      "source": [
        "import requests\n",
        "\n",
        "# Liên kết tải xuống CSV\n",
        "url = \"https://www.kaggle.com/datasets/deadskull7/fer2013/data?select=fer2013.csv\"\n",
        "\n",
        "# Gửi yêu cầu tải tệp từ URL\n",
        "response = requests.get(url)\n",
        "\n",
        "# Kiểm tra xem yêu cầu có thành công không (status code 200 là thành công)\n",
        "if response.status_code == 200:\n",
        "    # Lưu tệp vào Google Colab\n",
        "    with open('/content/your_file.csv', 'wb') as file:\n",
        "        file.write(response.content)\n",
        "    print(\"Tệp đã được tải xuống thành công!\")\n",
        "else:\n",
        "    print(\"Có lỗi khi tải tệp!\")\n"
      ],
      "metadata": {
        "colab": {
          "base_uri": "https://localhost:8080/"
        },
        "id": "3eSB4igBAmYX",
        "outputId": "625e1bf9-f782-48b7-95ff-89b125fbdec7"
      },
      "execution_count": 22,
      "outputs": [
        {
          "output_type": "stream",
          "name": "stdout",
          "text": [
            "Tệp đã được tải xuống thành công!\n"
          ]
        }
      ]
    },
    {
      "cell_type": "code",
      "source": [
        "import pandas as pd\n",
        "import numpy as np\n",
        "import os\n",
        "from PIL import Image, ImageFilter\n",
        "\n",
        "# ⚙️ Cấu hình\n",
        "csv_path = '/content/drive/MyDrive/csv/fer2013.csv'\n",
        "output_dir = 'FER2013_Images'\n",
        "\n",
        "# Nhãn tương ứng với emotion\n",
        "emotion_labels = {\n",
        "    0: 'Angry',\n",
        "    1: 'Disgust',\n",
        "    2: 'Fear',\n",
        "    3: 'Happy',\n",
        "    4: 'Sad',\n",
        "    5: 'Surprise',\n",
        "    6: 'Neutral'\n",
        "}\n",
        "\n",
        "# 📥 Đọc file CSV\n",
        "df = pd.read_csv(csv_path)\n",
        "\n",
        "# 📂 Tạo thư mục output nếu chưa có\n",
        "for usage in df['Usage'].unique():\n",
        "    for label in emotion_labels.values():\n",
        "        os.makedirs(os.path.join(output_dir, usage, label), exist_ok=True)\n",
        "\n",
        "# 🔄 Duyệt từng dòng và lưu ảnh\n",
        "for i, row in df.iterrows():\n",
        "    emotion = int(row['emotion'])\n",
        "    pixels = list(map(int, row['pixels'].split()))\n",
        "    usage = row['Usage']  # Training, PublicTest, PrivateTest\n",
        "\n",
        "    # Chuyển thành ảnh 48x48\n",
        "    image = np.array(pixels, dtype=np.uint8).reshape(48, 48)\n",
        "    img = Image.fromarray(image)\n",
        "    img = img.convert(\"RGB\")  # để dùng ResNet cần ảnh RGB\n",
        "\n",
        "    # Resize ảnh lên 224x224\n",
        "    img_resized = img.resize((224, 224), resample=Image.BICUBIC)\n",
        "\n",
        "    # Làm nét ảnh (Sharpening)\n",
        "    sharpener = ImageFilter.UnsharpMask(radius=2, percent=150, threshold=3)\n",
        "    img_sharpened = img_resized.filter(sharpener)\n",
        "\n",
        "    # Tên file ảnh\n",
        "    label_name = emotion_labels[emotion]\n",
        "    file_name = f\"{i}.jpg\"\n",
        "    save_path = os.path.join(output_dir, usage, label_name, file_name)\n",
        "\n",
        "    img_sharpened.save(save_path)\n",
        "\n",
        "print(\"✅ Hoàn tất tạo ảnh từ CSV, resize ảnh lên 224x224 và làm nét ảnh!\")\n"
      ],
      "metadata": {
        "colab": {
          "base_uri": "https://localhost:8080/"
        },
        "id": "1_DEArDWnpO3",
        "outputId": "17e8e9fb-bec4-48bb-cb7d-56cd53a1cf96"
      },
      "execution_count": 3,
      "outputs": [
        {
          "output_type": "stream",
          "name": "stdout",
          "text": [
            "✅ Hoàn tất tạo ảnh từ CSV, resize ảnh lên 224x224 và làm nét ảnh!\n"
          ]
        }
      ]
    },
    {
      "cell_type": "markdown",
      "source": [
        "## 2.Chuẩn bị thư viện"
      ],
      "metadata": {
        "id": "xC_9iOYmCMnJ"
      }
    },
    {
      "cell_type": "code",
      "source": [
        "import torch\n",
        "import torch.nn as nn\n",
        "import torch.optim as optim\n",
        "from torchvision import models, transforms, datasets\n",
        "from torch.utils.data import DataLoader, random_split\n",
        "from torchvision.models import ResNet18_Weights\n",
        "import copy\n",
        "from sklearn.metrics import classification_report, confusion_matrix , accuracy_score\n",
        "import seaborn as sns\n",
        "import matplotlib.pyplot as plt\n",
        "import numpy as np\n",
        "\n"
      ],
      "metadata": {
        "id": "l-i4iwUfowOP"
      },
      "execution_count": 18,
      "outputs": []
    },
    {
      "cell_type": "markdown",
      "source": [
        "## 3.Chuẩn bị tiền xử lí với các tập train , val , test"
      ],
      "metadata": {
        "id": "jhTrqiWKCVhz"
      }
    },
    {
      "cell_type": "code",
      "source": [
        "# 📦 Các cấu hình\n",
        "IMG_SIZE = 224\n",
        "BATCH_SIZE = 32\n",
        "\n",
        "# ✅ Cập nhật lại đường dẫn đúng với cấu trúc thư mục của bạn\n",
        "train_path = 'FER2013_Images/Training'\n",
        "val_path = 'FER2013_Images/PrivateTest'\n",
        "test_path = 'FER2013_Images/PublicTest'\n",
        "\n",
        "# 📚 Các transform\n",
        "train_transform = transforms.Compose([\n",
        "    transforms.Resize((IMG_SIZE, IMG_SIZE)),\n",
        "    transforms.RandomHorizontalFlip(),\n",
        "    transforms.RandomRotation(20),\n",
        "    transforms.RandomAffine(0, shear=15, scale=(0.8,1.2)),\n",
        "    transforms.ColorJitter(brightness=0.2, contrast=0.2),\n",
        "    transforms.ToTensor()\n",
        "])\n",
        "\n",
        "val_test_transform = transforms.Compose([\n",
        "    transforms.Resize((IMG_SIZE, IMG_SIZE)),\n",
        "    transforms.ToTensor()\n",
        "])\n",
        "\n",
        "# 📚 Load dataset\n",
        "train_dataset = datasets.ImageFolder(root=train_path, transform=train_transform)\n",
        "val_dataset = datasets.ImageFolder(root=val_path, transform=val_test_transform)\n",
        "test_dataset = datasets.ImageFolder(root=test_path, transform=val_test_transform)\n",
        "\n",
        "# 🚀 Tạo DataLoader\n",
        "train_loader = DataLoader(train_dataset, batch_size=BATCH_SIZE, shuffle=True)\n",
        "val_loader = DataLoader(val_dataset, batch_size=BATCH_SIZE, shuffle=False)\n",
        "test_loader = DataLoader(test_dataset, batch_size=1, shuffle=False)\n",
        "\n",
        "# 🧮 In số lượng ảnh trong từng tập\n",
        "print(f\"Số lượng ảnh trong tập huấn luyện: {len(train_dataset)}\")\n",
        "print(f\"Số lượng ảnh trong tập validation: {len(val_dataset)}\")\n",
        "print(f\"Số lượng ảnh trong tập test: {len(test_dataset)}\")\n"
      ],
      "metadata": {
        "colab": {
          "base_uri": "https://localhost:8080/"
        },
        "id": "H2iviYw_o5fG",
        "outputId": "32c98aa5-666c-4864-87d9-8aff81469d6a"
      },
      "execution_count": 11,
      "outputs": [
        {
          "output_type": "stream",
          "name": "stdout",
          "text": [
            "Số lượng ảnh trong tập huấn luyện: 28709\n",
            "Số lượng ảnh trong tập validation: 3589\n",
            "Số lượng ảnh trong tập test: 3589\n"
          ]
        }
      ]
    },
    {
      "cell_type": "markdown",
      "source": [
        "## 4.Khởi tạo mô hình Resnet18\n",
        "\n",
        "Mô hình đã đước train trước , ta chỉ việc sửa lại lớp fc cuối cùng để phù hợp với số lớp trong FER2013"
      ],
      "metadata": {
        "id": "kzPXjoA_CcmL"
      }
    },
    {
      "cell_type": "code",
      "source": [
        "# Khởi tạo mô hình ResNet18 với trọng số đã được huấn luyện trên ImageNet\n",
        "model = models.resnet18(weights=ResNet18_Weights.IMAGENET1K_V1)\n",
        "\n",
        "# Sửa lại lớp fully connected cuối cùng để phù hợp với số lớp trong FER2013 (7 lớp)\n",
        "model.fc = nn.Linear(model.fc.in_features, 7)\n",
        "\n",
        "# Chuyển mô hình sang GPU (nếu có GPU)\n",
        "device = torch.device('cuda' if torch.cuda.is_available() else 'cpu')\n",
        "model = model.to(device)\n",
        "print(device)\n"
      ],
      "metadata": {
        "colab": {
          "base_uri": "https://localhost:8080/"
        },
        "id": "Lji3DS3-p_rm",
        "outputId": "c99c41d9-c09d-4407-e8b1-1132abe10475"
      },
      "execution_count": 12,
      "outputs": [
        {
          "output_type": "stream",
          "name": "stdout",
          "text": [
            "cuda\n"
          ]
        }
      ]
    },
    {
      "cell_type": "code",
      "source": [
        "# Loss function (CrossEntropy cho phân loại đa lớp)\n",
        "criterion = nn.CrossEntropyLoss()\n",
        "\n",
        "# Optimizer (Adam optimizer)\n",
        "optimizer = optim.Adam(model.parameters(), lr=0.001)\n"
      ],
      "metadata": {
        "id": "b54BZ8pGqGu-"
      },
      "execution_count": 13,
      "outputs": []
    },
    {
      "cell_type": "markdown",
      "source": [
        "## 5.Huấn luyện mô hình trên tập train , val\n",
        "\n"
      ],
      "metadata": {
        "id": "gbMv7y4WCuAM"
      }
    },
    {
      "cell_type": "code",
      "source": [
        "train_losses, val_losses = [], []\n",
        "train_accuracies, val_accuracies = [], []\n",
        "\n",
        "NUM_EPOCHS = 10\n",
        "best_val_acc = 0.0\n",
        "best_model_wts = copy.deepcopy(model.state_dict())\n",
        "class_names = train_dataset.classes  # Tên các lớp\n",
        "\n",
        "for epoch in range(NUM_EPOCHS):\n",
        "    # ----- Train -----\n",
        "    model.train()\n",
        "    running_loss = 0.0\n",
        "    correct_train = 0\n",
        "    total_train = 0\n",
        "\n",
        "    for inputs, labels in train_loader:\n",
        "        inputs, labels = inputs.to(device), labels.to(device)\n",
        "\n",
        "        optimizer.zero_grad()\n",
        "        outputs = model(inputs)\n",
        "        loss = criterion(outputs, labels)\n",
        "        loss.backward()\n",
        "        optimizer.step()\n",
        "\n",
        "        running_loss += loss.item()\n",
        "        _, preds = torch.max(outputs, 1)\n",
        "        correct_train += (preds == labels).sum().item()\n",
        "        total_train += labels.size(0)\n",
        "\n",
        "    train_loss = running_loss / len(train_loader)\n",
        "    train_acc = correct_train / total_train\n",
        "    train_losses.append(train_loss)\n",
        "    train_accuracies.append(train_acc)\n",
        "\n",
        "    # ----- Validation -----\n",
        "    model.eval()\n",
        "    val_loss = 0.0\n",
        "    correct_val = 0\n",
        "    total_val = 0\n",
        "    all_preds = []\n",
        "    all_labels = []\n",
        "\n",
        "    with torch.no_grad():\n",
        "        for inputs, labels in val_loader:\n",
        "            inputs, labels = inputs.to(device), labels.to(device)\n",
        "\n",
        "            outputs = model(inputs)\n",
        "            loss = criterion(outputs, labels)\n",
        "\n",
        "            val_loss += loss.item()\n",
        "            _, preds = torch.max(outputs, 1)\n",
        "            correct_val += (preds == labels).sum().item()\n",
        "            total_val += labels.size(0)\n",
        "\n",
        "            all_preds.extend(preds.cpu().numpy())\n",
        "            all_labels.extend(labels.cpu().numpy())\n",
        "\n",
        "    val_loss /= len(val_loader)\n",
        "    val_acc = correct_val / total_val\n",
        "    val_losses.append(val_loss)\n",
        "    val_accuracies.append(val_acc)\n",
        "\n",
        "    # 🧠 Kiểm tra và lưu mô hình tốt nhất\n",
        "    if val_acc > best_val_acc:\n",
        "        best_val_acc = val_acc\n",
        "        best_model_wts = copy.deepcopy(model.state_dict())\n",
        "        print(f\"📌 Epoch {epoch+1}: Cập nhật mô hình tốt nhất với val_acc = {best_val_acc:.4f}\")\n",
        "\n",
        "    print(f\"Epoch [{epoch+1}/{NUM_EPOCHS}] - \"\n",
        "          f\"Train Loss: {train_loss:.4f}, Train Acc: {train_acc:.4f} - \"\n",
        "          f\"Val Loss: {val_loss:.4f}, Val Acc: {val_acc:.4f}\")"
      ],
      "metadata": {
        "colab": {
          "base_uri": "https://localhost:8080/"
        },
        "id": "II8gEm52qJqd",
        "outputId": "67f942ac-8218-459d-b4cb-268e1d55b143"
      },
      "execution_count": 16,
      "outputs": [
        {
          "output_type": "stream",
          "name": "stdout",
          "text": [
            "📌 Epoch 1: Cập nhật mô hình tốt nhất với val_acc = 0.5637\n",
            "Epoch [1/10] - Train Loss: 1.2432, Train Acc: 0.5278 - Val Loss: 1.1390, Val Acc: 0.5637\n",
            "Epoch [2/10] - Train Loss: 1.1453, Train Acc: 0.5660 - Val Loss: 1.1531, Val Acc: 0.5620\n",
            "📌 Epoch 3: Cập nhật mô hình tốt nhất với val_acc = 0.6085\n",
            "Epoch [3/10] - Train Loss: 1.0868, Train Acc: 0.5905 - Val Loss: 1.0843, Val Acc: 0.6085\n",
            "Epoch [4/10] - Train Loss: 1.0513, Train Acc: 0.6044 - Val Loss: 1.0301, Val Acc: 0.6010\n",
            "📌 Epoch 5: Cập nhật mô hình tốt nhất với val_acc = 0.6330\n",
            "Epoch [5/10] - Train Loss: 1.0124, Train Acc: 0.6173 - Val Loss: 0.9953, Val Acc: 0.6330\n",
            "📌 Epoch 6: Cập nhật mô hình tốt nhất với val_acc = 0.6392\n",
            "Epoch [6/10] - Train Loss: 0.9841, Train Acc: 0.6337 - Val Loss: 0.9589, Val Acc: 0.6392\n",
            "📌 Epoch 7: Cập nhật mô hình tốt nhất với val_acc = 0.6576\n",
            "Epoch [7/10] - Train Loss: 0.9616, Train Acc: 0.6403 - Val Loss: 0.9296, Val Acc: 0.6576\n",
            "📌 Epoch 8: Cập nhật mô hình tốt nhất với val_acc = 0.6656\n",
            "Epoch [8/10] - Train Loss: 0.9290, Train Acc: 0.6503 - Val Loss: 0.9136, Val Acc: 0.6656\n",
            "Epoch [9/10] - Train Loss: 0.9063, Train Acc: 0.6608 - Val Loss: 0.9048, Val Acc: 0.6631\n",
            "📌 Epoch 10: Cập nhật mô hình tốt nhất với val_acc = 0.6701\n",
            "Epoch [10/10] - Train Loss: 0.8831, Train Acc: 0.6658 - Val Loss: 0.9205, Val Acc: 0.6701\n"
          ]
        }
      ]
    },
    {
      "cell_type": "markdown",
      "source": [
        "## 6. Chạy mô hình tốt nhất trên tập test\n",
        "\n",
        "cho ra các minh chứng :\n",
        "- confusion matrix\n",
        "- classification report\n",
        "- accuracy score"
      ],
      "metadata": {
        "id": "5OC_IFxbCyjJ"
      }
    },
    {
      "cell_type": "code",
      "source": [
        "import seaborn as sns\n",
        "import matplotlib.pyplot as plt\n",
        "from sklearn.metrics import confusion_matrix, classification_report, accuracy_score\n",
        "\n",
        "# Load lại trọng số mô hình tốt nhất\n",
        "model.load_state_dict(best_model_wts)\n",
        "model.eval()\n",
        "\n",
        "all_preds = []\n",
        "all_labels = []\n",
        "\n",
        "with torch.no_grad():\n",
        "    for inputs, labels in test_loader:\n",
        "        inputs = inputs.to(device)\n",
        "        outputs = model(inputs)\n",
        "        _, preds = torch.max(outputs, 1)\n",
        "\n",
        "        all_preds.extend(preds.cpu().numpy())\n",
        "        all_labels.extend(labels.numpy())\n",
        "\n",
        "# 🎯 Accuracy tổng thể\n",
        "test_acc = accuracy_score(all_labels, all_preds)\n",
        "print(f\"🎯 Độ chính xác trên tập test: {test_acc:.4f}\")\n",
        "\n",
        "# 📋 Classification report\n",
        "print(\"\\n📋 Classification Report:\")\n",
        "print(classification_report(all_labels, all_preds, target_names=test_dataset.classes))\n",
        "\n",
        "# 📊 Ma trận nhầm lẫn\n",
        "conf_mat = confusion_matrix(all_labels, all_preds)\n",
        "\n",
        "# Tính tỷ lệ phần trăm trên từng nhãn\n",
        "conf_mat_percentage = conf_mat.astype('float') / conf_mat.sum(axis=1)[:, np.newaxis] * 100\n",
        "\n",
        "plt.figure(figsize=(8, 6))\n",
        "sns.heatmap(conf_mat_percentage, annot=True, fmt=\".2f\", cmap=\"Blues\",\n",
        "            xticklabels=test_dataset.classes, yticklabels=test_dataset.classes)\n",
        "plt.xlabel(\"Dự đoán\")\n",
        "plt.ylabel(\"Thực tế\")\n",
        "plt.title(\"📊 Ma trận nhầm lẫn tỷ lệ phần trăm trên tập test\")\n",
        "plt.show()\n"
      ],
      "metadata": {
        "colab": {
          "base_uri": "https://localhost:8080/",
          "height": 896
        },
        "id": "ejmptLxK7P-i",
        "outputId": "b3cee1cc-fe48-4cfa-fcc4-080729dc2d75"
      },
      "execution_count": 20,
      "outputs": [
        {
          "output_type": "stream",
          "name": "stdout",
          "text": [
            "🎯 Độ chính xác trên tập test: 0.6606\n",
            "\n",
            "📋 Classification Report:\n",
            "              precision    recall  f1-score   support\n",
            "\n",
            "       Angry       0.61      0.57      0.59       467\n",
            "     Disgust       0.61      0.34      0.44        56\n",
            "        Fear       0.53      0.41      0.46       496\n",
            "       Happy       0.83      0.89      0.86       895\n",
            "     Neutral       0.55      0.70      0.62       607\n",
            "         Sad       0.57      0.52      0.54       653\n",
            "    Surprise       0.78      0.78      0.78       415\n",
            "\n",
            "    accuracy                           0.66      3589\n",
            "   macro avg       0.64      0.60      0.61      3589\n",
            "weighted avg       0.66      0.66      0.65      3589\n",
            "\n"
          ]
        },
        {
          "output_type": "stream",
          "name": "stderr",
          "text": [
            "/usr/local/lib/python3.11/dist-packages/IPython/core/pylabtools.py:151: UserWarning: Glyph 128202 (\\N{BAR CHART}) missing from font(s) DejaVu Sans.\n",
            "  fig.canvas.print_figure(bytes_io, **kw)\n"
          ]
        },
        {
          "output_type": "display_data",
          "data": {
            "text/plain": [
              "<Figure size 800x600 with 2 Axes>"
            ],
            "image/png": "[encoded data removed]"
          },
          "metadata": {}
        }
      ]
    },
    {
      "cell_type": "markdown",
      "source": [
        "## 7. Lưu lại mô hình tốt nhất"
      ],
      "metadata": {
        "id": "x8C4T-2UDOoC"
      }
    },
    {
      "cell_type": "code",
      "source": [
        "# 🔒 Lưu mô hình tốt nhất\n",
        "model.load_state_dict(best_model_wts)\n",
        "torch.save(model.state_dict(), \"best_fer2013_model.pth\")\n",
        "print(\"✅ Đã lưu mô hình tốt nhất vào file: best_fer2013_model.pth\")"
      ],
      "metadata": {
        "colab": {
          "base_uri": "https://localhost:8080/"
        },
        "id": "m7uorznBzow3",
        "outputId": "cbe665e8-44cc-4630-c290-746af841f493"
      },
      "execution_count": 21,
      "outputs": [
        {
          "output_type": "stream",
          "name": "stdout",
          "text": [
            "✅ Đã lưu mô hình tốt nhất vào file: best_fer2013_model.pth\n"
          ]
        }
      ]
    },
    {
      "cell_type": "markdown",
      "source": [
        "## 8.Kích thước mô hình"
      ],
      "metadata": {
        "id": "KAmU8DLiFkTD"
      }
    },
    {
      "cell_type": "code",
      "source": [
        "file_path = \"best_fer2013_model.pth\"\n",
        "file_size = os.path.getsize(file_path)  # tính bằng byte\n",
        "print(f\"Kích thước mô hình: {file_size / (1024 * 1024):.2f} MB\")"
      ],
      "metadata": {
        "id": "nV1fgyN5Fnax",
        "outputId": "75e8b7e2-57ed-49a3-f059-912f9a7b444d",
        "colab": {
          "base_uri": "https://localhost:8080/"
        }
      },
      "execution_count": 23,
      "outputs": [
        {
          "output_type": "stream",
          "name": "stdout",
          "text": [
            "Kích thước mô hình: 42.73 MB\n"
          ]
        }
      ]
    },
    {
      "cell_type": "markdown",
      "source": [
        "## 9.Thời gian suy luận trung bình 1 ảnh"
      ],
      "metadata": {
        "id": "yDsr2xQZF49Z"
      }
    },
    {
      "cell_type": "code",
      "source": [
        "import time\n",
        "\n",
        "model.eval()\n",
        "num_images = 0\n",
        "total_time = 0.0\n",
        "\n",
        "with torch.no_grad():\n",
        "    for inputs, labels in test_loader:\n",
        "        inputs = inputs.to(device)\n",
        "\n",
        "        start_time = time.time()\n",
        "        outputs = model(inputs)\n",
        "        end_time = time.time()\n",
        "\n",
        "        total_time += (end_time - start_time)\n",
        "        num_images += inputs.size(0)  # số ảnh trong batch\n",
        "\n",
        "avg_inference_time = total_time / num_images\n",
        "print(f\"⏱️ Thời gian suy luận trung bình: {avg_inference_time * 1000:.2f} ms/ảnh\")\n"
      ],
      "metadata": {
        "id": "0khycbQ3F8oj",
        "outputId": "aa91b76c-f402-43f8-8ef6-338eb8c93bc4",
        "colab": {
          "base_uri": "https://localhost:8080/"
        }
      },
      "execution_count": 25,
      "outputs": [
        {
          "output_type": "stream",
          "name": "stdout",
          "text": [
            "⏱️ Thời gian suy luận trung bình: 2.83 ms/ảnh\n"
          ]
        }
      ]
    }
  ],
  "metadata": {
    "colab": {
      "name": "Chào mừng bạn đến với Colab",
      "provenance": [],
      "gpuType": "T4"
    },
    "kernelspec": {
      "display_name": "Python 3",
      "name": "python3"
    },
    "accelerator": "GPU"
  },
  "nbformat": 4,
  "nbformat_minor": 0
}