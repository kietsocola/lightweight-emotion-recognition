{
 "cells": [
  {
   "cell_type": "code",
   "execution_count": 76,
   "id": "aa913292",
   "metadata": {},
   "outputs": [],
   "source": [
    "# Load libraries\n",
    "import numpy\n",
    "from numpy import arange\n",
    "from matplotlib import pyplot\n",
    "import pandas as pd\n",
    "from pandas import read_csv\n",
    "from pandas import set_option\n",
    "from sklearn.preprocessing import StandardScaler\n",
    "from sklearn.model_selection import train_test_split\n",
    "from sklearn.model_selection import KFold\n",
    "from sklearn.model_selection import cross_val_score\n",
    "from sklearn.model_selection import GridSearchCV\n",
    "from sklearn.linear_model import LinearRegression\n",
    "from sklearn.linear_model import Lasso\n",
    "from sklearn.linear_model import ElasticNet\n",
    "from sklearn.tree import DecisionTreeRegressor\n",
    "from sklearn.neighbors import KNeighborsRegressor\n",
    "from sklearn.svm import SVR\n",
    "from sklearn.pipeline import Pipeline\n",
    "from sklearn.ensemble import RandomForestRegressor\n",
    "from sklearn.ensemble import GradientBoostingRegressor\n",
    "from sklearn.ensemble import ExtraTreesRegressor\n",
    "from sklearn.ensemble import AdaBoostRegressor\n",
    "from sklearn.metrics import mean_squared_error"
   ]
  },
  {
   "cell_type": "code",
   "execution_count": 77,
   "id": "30f4c70d",
   "metadata": {},
   "outputs": [
    {
     "name": "stderr",
     "output_type": "stream",
     "text": [
      "C:\\Users\\USER\\AppData\\Local\\Temp\\ipykernel_14684\\36036531.py:4: FutureWarning: The 'delim_whitespace' keyword in pd.read_csv is deprecated and will be removed in a future version. Use ``sep='\\s+'`` instead\n",
      "  dataset = read_csv(filename, delim_whitespace=True, names=names)\n"
     ]
    }
   ],
   "source": [
    "filename = 'housing.csv'\n",
    "names = ['CRIM', 'ZN', 'INDUS', 'CHAS', 'NOX', 'RM', 'AGE', 'DIS', 'RAD', 'TAX', 'PTRATIO',\n",
    "'B', 'LSTAT', 'MEDV']\n",
    "dataset = read_csv(filename, delim_whitespace=True, names=names)"
   ]
  },
  {
   "cell_type": "code",
   "execution_count": 78,
   "id": "332871d8",
   "metadata": {},
   "outputs": [
    {
     "name": "stdout",
     "output_type": "stream",
     "text": [
      "(10001, 14)\n",
      "CRIM       object\n",
      "ZN         object\n",
      "INDUS      object\n",
      "CHAS       object\n",
      "NOX        object\n",
      "RM         object\n",
      "AGE        object\n",
      "DIS        object\n",
      "RAD        object\n",
      "TAX        object\n",
      "PTRATIO    object\n",
      "B          object\n",
      "LSTAT      object\n",
      "MEDV       object\n",
      "dtype: object\n"
     ]
    }
   ],
   "source": [
    "# shape\n",
    "print(dataset.shape)\n",
    "# types\n",
    "print(dataset.dtypes)"
   ]
  },
  {
   "cell_type": "code",
   "execution_count": 79,
   "id": "6e774ee4",
   "metadata": {},
   "outputs": [
    {
     "name": "stdout",
     "output_type": "stream",
     "text": [
      "                                                         CRIM           ZN  \\\n",
      "Avg.                                                     Area  Income,Avg.   \n",
      "79545.45857,5.682861322,7.009188143,4.09,23086....    Michael        Ferry   \n",
      "Laurabury,                                                 NE  37010-5101\"   \n",
      "79248.64245,6.002899808,6.730821019,3.09,40173....    Johnson        Views   \n",
      "Lake                                                Kathleen,           CA   \n",
      "61287.06718,5.86588984,8.51272743,5.13,36882.15...  Elizabeth    Stravenue   \n",
      "Danieltown,                                                WI  06482-3489\"   \n",
      "63345.24005,7.188236095,5.586728665,3.26,34310....    Barnett          NaN   \n",
      "FPO                                                        AP       44820\"   \n",
      "59982.19723,5.040554523,7.839387785,4.23,26354....    Raymond          NaN   \n",
      "FPO                                                        AE       09386\"   \n",
      "80175.75416,4.988407758,6.104512439,4.04,26748....   Jennifer      Islands   \n",
      "Tracyport,                                                 KS       16077\"   \n",
      "64698.46343,6.025335907,8.147759585,3.41,60828....     Daniel       Shoals   \n",
      "Nguyenburgh,                                               CO       20247\"   \n",
      "78394.33928,6.989779748,6.620477995,2.42,36516....      Joyce      Viaduct   \n",
      "Lake                                                 William,           TN   \n",
      "59927.66081,5.36212557,6.393120981,2.3,29387.39...    Gilbert          NaN   \n",
      "FPO                                                        AA       20957\"   \n",
      "81885.92718,4.42367179,8.167688003,6.1,40149.96...       9446          Box   \n",
      "\n",
      "                                                          INDUS   CHAS  \\\n",
      "Avg.                                                       Area  House   \n",
      "79545.45857,5.682861322,7.009188143,4.09,23086....         Apt.    674   \n",
      "Laurabury,                                                  NaN    NaN   \n",
      "79248.64245,6.002899808,6.730821019,3.09,40173....        Suite    079   \n",
      "Lake                                                     48958\"    NaN   \n",
      "61287.06718,5.86588984,8.51272743,5.13,36882.15...          NaN    NaN   \n",
      "Danieltown,                                                 NaN    NaN   \n",
      "63345.24005,7.188236095,5.586728665,3.26,34310....          NaN    NaN   \n",
      "FPO                                                         NaN    NaN   \n",
      "59982.19723,5.040554523,7.839387785,4.23,26354....          NaN    NaN   \n",
      "FPO                                                         NaN    NaN   \n",
      "80175.75416,4.988407758,6.104512439,4.04,26748....         Apt.    443   \n",
      "Tracyport,                                                  NaN    NaN   \n",
      "64698.46343,6.025335907,8.147759585,3.41,60828....        Suite    442   \n",
      "Nguyenburgh,                                                NaN    NaN   \n",
      "78394.33928,6.989779748,6.620477995,2.42,36516....          NaN    NaN   \n",
      "Lake                                                17778-6483\"    NaN   \n",
      "59927.66081,5.36212557,6.393120981,2.3,29387.39...          NaN    NaN   \n",
      "FPO                                                         NaN    NaN   \n",
      "81885.92718,4.42367179,8.167688003,6.1,40149.96...         0958    NaN   \n",
      "\n",
      "                                                         NOX    RM     AGE  \\\n",
      "Avg.                                                Age,Avg.  Area  Number   \n",
      "79545.45857,5.682861322,7.009188143,4.09,23086....       NaN   NaN     NaN   \n",
      "Laurabury,                                               NaN   NaN     NaN   \n",
      "79248.64245,6.002899808,6.730821019,3.09,40173....       NaN   NaN     NaN   \n",
      "Lake                                                     NaN   NaN     NaN   \n",
      "61287.06718,5.86588984,8.51272743,5.13,36882.15...       NaN   NaN     NaN   \n",
      "Danieltown,                                              NaN   NaN     NaN   \n",
      "63345.24005,7.188236095,5.586728665,3.26,34310....       NaN   NaN     NaN   \n",
      "FPO                                                      NaN   NaN     NaN   \n",
      "59982.19723,5.040554523,7.839387785,4.23,26354....       NaN   NaN     NaN   \n",
      "FPO                                                      NaN   NaN     NaN   \n",
      "80175.75416,4.988407758,6.104512439,4.04,26748....       NaN   NaN     NaN   \n",
      "Tracyport,                                               NaN   NaN     NaN   \n",
      "64698.46343,6.025335907,8.147759585,3.41,60828....       NaN   NaN     NaN   \n",
      "Nguyenburgh,                                             NaN   NaN     NaN   \n",
      "78394.33928,6.989779748,6.620477995,2.42,36516....       NaN   NaN     NaN   \n",
      "Lake                                                     NaN   NaN     NaN   \n",
      "59927.66081,5.36212557,6.393120981,2.3,29387.39...       NaN   NaN     NaN   \n",
      "FPO                                                      NaN   NaN     NaN   \n",
      "81885.92718,4.42367179,8.167688003,6.1,40149.96...       NaN   NaN     NaN   \n",
      "\n",
      "                                                    DIS         RAD   TAX  \\\n",
      "Avg.                                                 of  Rooms,Avg.  Area   \n",
      "79545.45857,5.682861322,7.009188143,4.09,23086....  NaN         NaN   NaN   \n",
      "Laurabury,                                          NaN         NaN   NaN   \n",
      "79248.64245,6.002899808,6.730821019,3.09,40173....  NaN         NaN   NaN   \n",
      "Lake                                                NaN         NaN   NaN   \n",
      "61287.06718,5.86588984,8.51272743,5.13,36882.15...  NaN         NaN   NaN   \n",
      "Danieltown,                                         NaN         NaN   NaN   \n",
      "63345.24005,7.188236095,5.586728665,3.26,34310....  NaN         NaN   NaN   \n",
      "FPO                                                 NaN         NaN   NaN   \n",
      "59982.19723,5.040554523,7.839387785,4.23,26354....  NaN         NaN   NaN   \n",
      "FPO                                                 NaN         NaN   NaN   \n",
      "80175.75416,4.988407758,6.104512439,4.04,26748....  NaN         NaN   NaN   \n",
      "Tracyport,                                          NaN         NaN   NaN   \n",
      "64698.46343,6.025335907,8.147759585,3.41,60828....  NaN         NaN   NaN   \n",
      "Nguyenburgh,                                        NaN         NaN   NaN   \n",
      "78394.33928,6.989779748,6.620477995,2.42,36516....  NaN         NaN   NaN   \n",
      "Lake                                                NaN         NaN   NaN   \n",
      "59927.66081,5.36212557,6.393120981,2.3,29387.39...  NaN         NaN   NaN   \n",
      "FPO                                                 NaN         NaN   NaN   \n",
      "81885.92718,4.42367179,8.167688003,6.1,40149.96...  NaN         NaN   NaN   \n",
      "\n",
      "                                                   PTRATIO    B  \\\n",
      "Avg.                                                Number   of   \n",
      "79545.45857,5.682861322,7.009188143,4.09,23086....     NaN  NaN   \n",
      "Laurabury,                                             NaN  NaN   \n",
      "79248.64245,6.002899808,6.730821019,3.09,40173....     NaN  NaN   \n",
      "Lake                                                   NaN  NaN   \n",
      "61287.06718,5.86588984,8.51272743,5.13,36882.15...     NaN  NaN   \n",
      "Danieltown,                                            NaN  NaN   \n",
      "63345.24005,7.188236095,5.586728665,3.26,34310....     NaN  NaN   \n",
      "FPO                                                    NaN  NaN   \n",
      "59982.19723,5.040554523,7.839387785,4.23,26354....     NaN  NaN   \n",
      "FPO                                                    NaN  NaN   \n",
      "80175.75416,4.988407758,6.104512439,4.04,26748....     NaN  NaN   \n",
      "Tracyport,                                             NaN  NaN   \n",
      "64698.46343,6.025335907,8.147759585,3.41,60828....     NaN  NaN   \n",
      "Nguyenburgh,                                           NaN  NaN   \n",
      "78394.33928,6.989779748,6.620477995,2.42,36516....     NaN  NaN   \n",
      "Lake                                                   NaN  NaN   \n",
      "59927.66081,5.36212557,6.393120981,2.3,29387.39...     NaN  NaN   \n",
      "FPO                                                    NaN  NaN   \n",
      "81885.92718,4.42367179,8.167688003,6.1,40149.96...     NaN  NaN   \n",
      "\n",
      "                                                            LSTAT  \\\n",
      "Avg.                                                Bedrooms,Area   \n",
      "79545.45857,5.682861322,7.009188143,4.09,23086....            NaN   \n",
      "Laurabury,                                                    NaN   \n",
      "79248.64245,6.002899808,6.730821019,3.09,40173....            NaN   \n",
      "Lake                                                          NaN   \n",
      "61287.06718,5.86588984,8.51272743,5.13,36882.15...            NaN   \n",
      "Danieltown,                                                   NaN   \n",
      "63345.24005,7.188236095,5.586728665,3.26,34310....            NaN   \n",
      "FPO                                                           NaN   \n",
      "59982.19723,5.040554523,7.839387785,4.23,26354....            NaN   \n",
      "FPO                                                           NaN   \n",
      "80175.75416,4.988407758,6.104512439,4.04,26748....            NaN   \n",
      "Tracyport,                                                    NaN   \n",
      "64698.46343,6.025335907,8.147759585,3.41,60828....            NaN   \n",
      "Nguyenburgh,                                                  NaN   \n",
      "78394.33928,6.989779748,6.620477995,2.42,36516....            NaN   \n",
      "Lake                                                          NaN   \n",
      "59927.66081,5.36212557,6.393120981,2.3,29387.39...            NaN   \n",
      "FPO                                                           NaN   \n",
      "81885.92718,4.42367179,8.167688003,6.1,40149.96...            NaN   \n",
      "\n",
      "                                                                        MEDV  \n",
      "Avg.                                                Population,Price,Address  \n",
      "79545.45857,5.682861322,7.009188143,4.09,23086....                       NaN  \n",
      "Laurabury,                                                               NaN  \n",
      "79248.64245,6.002899808,6.730821019,3.09,40173....                       NaN  \n",
      "Lake                                                                     NaN  \n",
      "61287.06718,5.86588984,8.51272743,5.13,36882.15...                       NaN  \n",
      "Danieltown,                                                              NaN  \n",
      "63345.24005,7.188236095,5.586728665,3.26,34310....                       NaN  \n",
      "FPO                                                                      NaN  \n",
      "59982.19723,5.040554523,7.839387785,4.23,26354....                       NaN  \n",
      "FPO                                                                      NaN  \n",
      "80175.75416,4.988407758,6.104512439,4.04,26748....                       NaN  \n",
      "Tracyport,                                                               NaN  \n",
      "64698.46343,6.025335907,8.147759585,3.41,60828....                       NaN  \n",
      "Nguyenburgh,                                                             NaN  \n",
      "78394.33928,6.989779748,6.620477995,2.42,36516....                       NaN  \n",
      "Lake                                                                     NaN  \n",
      "59927.66081,5.36212557,6.393120981,2.3,29387.39...                       NaN  \n",
      "FPO                                                                      NaN  \n",
      "81885.92718,4.42367179,8.167688003,6.1,40149.96...                       NaN  \n"
     ]
    }
   ],
   "source": [
    "# head\n",
    "print(dataset.head(20))"
   ]
  },
  {
   "cell_type": "markdown",
   "id": "761915bc",
   "metadata": {},
   "source": [
    "### Tóm tắt sự phân bố của từng thuộc tính"
   ]
  },
  {
   "cell_type": "code",
   "execution_count": 80,
   "id": "c137a9b4",
   "metadata": {},
   "outputs": [
    {
     "name": "stdout",
     "output_type": "stream",
     "text": [
      "         CRIM    ZN  INDUS  CHAS       NOX    RM     AGE DIS         RAD  \\\n",
      "count   10001  9816   4810  2254         1     1       1   1           1   \n",
      "unique   2915  3016   2547   898         1     1       1   1           1   \n",
      "top        AA   Box  Suite   386  Age,Avg.  Area  Number  of  Rooms,Avg.   \n",
      "freq      177   329   1160     8         1     1       1   1           1   \n",
      "\n",
      "         TAX PTRATIO   B          LSTAT                      MEDV  \n",
      "count      1       1   1              1                         1  \n",
      "unique     1       1   1              1                         1  \n",
      "top     Area  Number  of  Bedrooms,Area  Population,Price,Address  \n",
      "freq       1       1   1              1                         1  \n"
     ]
    }
   ],
   "source": [
    "set_option('display.precision', 1)\n",
    "print(dataset.describe())"
   ]
  },
  {
   "cell_type": "markdown",
   "id": "ab469685",
   "metadata": {},
   "source": [
    "### Biểu đồ mật độ để làm chúng mịn hơn một chút"
   ]
  },
  {
   "cell_type": "code",
   "execution_count": 81,
   "id": "109ee6d3",
   "metadata": {},
   "outputs": [
    {
     "name": "stdout",
     "output_type": "stream",
     "text": [
      "CRIM     float64\n",
      "INDUS    float64\n",
      "CHAS     float64\n",
      "dtype: object\n"
     ]
    },
    {
     "data": {
      "image/png": "[encoded data removed]",
      "text/plain": [
       "<Figure size 640x480 with 16 Axes>"
      ]
     },
     "metadata": {},
     "output_type": "display_data"
    }
   ],
   "source": [
    "dataset_numeric = dataset.apply(pd.to_numeric, errors='coerce')\n",
    "\n",
    "# Bỏ các cột mà toàn bộ giá trị bị NaN sau khi chuyển\n",
    "dataset_numeric = dataset_numeric.dropna(axis=1, how='all')\n",
    "\n",
    "# In lại kiểu dữ liệu để xác nhận\n",
    "print(dataset_numeric.dtypes)\n",
    "\n",
    "# Vẽ biểu đồ density nếu có cột số\n",
    "if not dataset_numeric.empty:\n",
    "    dataset_numeric.plot(kind='density', subplots=True, layout=(4,4), sharex=False, legend=False, fontsize=1)\n",
    "    pyplot.show()\n",
    "else:\n",
    "    print(\"Không có cột số hợp lệ để vẽ biểu đồ density.\")"
   ]
  },
  {
   "cell_type": "markdown",
   "id": "1293c2ae",
   "metadata": {},
   "source": [
    "### Xem xét dữ liệu với các biểu đồ hộp và râu của từng thuộc tính\n",
    "- Điều này giúp chỉ ra độ lệch trong nhiều bản phân phối đến mức dữ liệu trông giống như giá trị ngoại lệ"
   ]
  },
  {
   "cell_type": "code",
   "execution_count": 82,
   "id": "26434ce5",
   "metadata": {},
   "outputs": [
    {
     "data": {
      "image/png": "[encoded data removed]",
      "text/plain": [
       "<Figure size 640x480 with 16 Axes>"
      ]
     },
     "metadata": {},
     "output_type": "display_data"
    }
   ],
   "source": [
    "dataset_numeric.plot(kind='box', subplots=True, layout=(4,4), sharex=False, sharey=False,\n",
    "fontsize=8)\n",
    "pyplot.show()"
   ]
  },
  {
   "cell_type": "markdown",
   "id": "747d2077",
   "metadata": {},
   "source": [
    "### Đánh giá thuật toán: Đường cơ sở\n",
    "- Chúng tôi không biết thuật toán nào sẽ hiệu quả với bài toán này.\n",
    "- Chúng tôi sẽ đánh giá các thuật toán bằng cách sử dụng số liệu Lỗi bình phương trung bình (MSE). MSE sẽ đưa ra ý tưởng chung về mức độ sai lầm của tất cả các dự đoán (0 là hoàn hảo)."
   ]
  }
 ],
 "metadata": {
  "kernelspec": {
   "display_name": "Python 3",
   "language": "python",
   "name": "python3"
  },
  "language_info": {
   "codemirror_mode": {
    "name": "ipython",
    "version": 3
   },
   "file_extension": ".py",
   "mimetype": "text/x-python",
   "name": "python",
   "nbconvert_exporter": "python",
   "pygments_lexer": "ipython3",
   "version": "3.12.2"
  }
 },
 "nbformat": 4,
 "nbformat_minor": 5
}
