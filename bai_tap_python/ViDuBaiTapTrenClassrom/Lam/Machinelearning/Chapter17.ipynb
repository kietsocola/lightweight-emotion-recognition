{
 "cells": [
  {
   "cell_type": "markdown",
   "id": "a9d459c9",
   "metadata": {},
   "source": [
    "# Chương 17: Lưu và Tải Mô Hình Học Máy\n",
    "\n",
    "Tìm ra một mô hình học máy chính xác không phải là điểm kết thúc của dự án. Trong chương này, bạn sẽ khám phá cách lưu và tải mô hình học máy của bạn trong Python sử dụng scikit-learn. Điều này cho phép bạn lưu mô hình của mình vào tệp và sau đó tải nó lại để thực hiện dự đoán. Sau khi hoàn thành bài học này, bạn sẽ biết:\n",
    "\n",
    "1. Tầm quan trọng của việc tuần tự hóa (serializing) mô hình để tái sử dụng.\n",
    "2. Cách sử dụng pickle để tuần tự hóa và khử tuần tự hóa các mô hình học máy.\n",
    "3. Cách sử dụng Joblib để tuần tự hóa và khử tuần tự hóa các mô hình học máy.\n",
    "\n",
    "Hãy bắt đầu.\n",
    "\n",
    "## 17.1 Hoàn thiện Mô Hình của Bạn với Pickle\n",
    "\n",
    "\n"
   ]
  },
  {
   "cell_type": "code",
   "execution_count": null,
   "id": "fbbec045",
   "metadata": {},
   "outputs": [
    {
     "name": "stdout",
     "output_type": "stream",
     "text": [
      "0.7834645669291339\n"
     ]
    }
   ],
   "source": [
    "# Save Model Using Pickle\n",
    "from pandas import read_csv\n",
    "from sklearn.model_selection import train_test_split\n",
    "from sklearn.linear_model import LogisticRegression\n",
    "from sklearn.preprocessing import StandardScaler\n",
    "from pickle import dump\n",
    "from pickle import load\n",
    "import numpy as np\n",
    "\n",
    "# Đọc dữ liệu\n",
    "filename = 'pima-indians-diabetes.data.csv'\n",
    "names = ['preg', 'plas', 'pres', 'skin', 'test', 'mass', 'pedi', 'age', 'class']\n",
    "dataframe = read_csv(filename, names=names, header=None)\n",
    "\n",
    "# Kiểm tra dòng đầu tiên có phải là header không\n",
    "if dataframe.iloc[0, 0] == 'Pregnancies':\n",
    "    dataframe = dataframe[1:]  # Xóa dòng tiêu đề bị lẫn nếu có\n",
    "\n",
    "# Xóa khoảng trắng và thay '?' bằng NaN, sau đó bỏ hàng bị lỗi\n",
    "dataframe = dataframe.replace('?', np.nan).dropna()\n",
    "\n",
    "dataframe = dataframe.astype(float)\n",
    "array = dataframe.values\n",
    "X = array[:, 0:8]\n",
    "Y = array[:, 8]\n",
    "\n",
    "# Tiền xử lí chuẩn hoá dữ liệu\n",
    "scaler = StandardScaler()\n",
    "X = scaler.fit_transform(X)  \n",
    "\n",
    "# Chia tập dữ liệu\n",
    "X_train, X_test, Y_train, Y_test = train_test_split(X, Y, test_size=0.33, random_state=7)\n",
    "\n",
    "# Huấn luyện mô hình với max_iter tăng để tránh lỗi hội tụ\n",
    "model = LogisticRegression(max_iter=500)\n",
    "model.fit(X_train, Y_train)\n",
    "\n",
    "# Lưu mô hình vào đĩa\n",
    "filename = 'finalized_model.sav'\n",
    "dump(model, open(filename, 'wb'))\n",
    "\n",
    "# Tải mô hình từ đĩa và đánh giá\n",
    "loaded_model = load(open(filename, 'rb'))\n",
    "result = loaded_model.score(X_test, Y_test)\n",
    "print(result)"
   ]
  },
  {
   "cell_type": "markdown",
   "id": "d8287309",
   "metadata": {},
   "source": [
    "## 17.2 Hoàn thiện Mô Hình của Bạn với Joblib"
   ]
  },
  {
   "cell_type": "code",
   "execution_count": 1,
   "id": "c53b6c17",
   "metadata": {},
   "outputs": [
    {
     "name": "stdout",
     "output_type": "stream",
     "text": [
      "0.7874015748031497\n"
     ]
    }
   ],
   "source": [
    "# Save Model Using joblib\n",
    "from pandas import read_csv\n",
    "from sklearn.model_selection import train_test_split\n",
    "from sklearn.linear_model import LogisticRegression\n",
    "from  joblib import dump\n",
    "from joblib import load\n",
    "import numpy as np\n",
    "filename = 'pima-indians-diabetes.data.csv'\n",
    "names = ['preg', 'plas', 'pres', 'skin', 'test', 'mass', 'pedi', 'age', 'class']\n",
    "dataframe = read_csv(filename, names=names)\n",
    "\n",
    "# Kiểm tra dòng đầu tiên có phải là header không\n",
    "if dataframe.iloc[0, 0] == 'Pregnancies':\n",
    "    dataframe = dataframe[1:]  # Xóa dòng tiêu đề bị lẫn nếu có\n",
    "\n",
    "# Xóa khoảng trắng và thay '?' bằng NaN, sau đó bỏ hàng bị lỗi\n",
    "dataframe = dataframe.replace('?', np.nan).dropna()\n",
    "\n",
    "dataframe = dataframe.astype(float)\n",
    "\n",
    "array = dataframe.values\n",
    "X = array[:,0:8]\n",
    "Y = array[:,8]\n",
    "X_train, X_test, Y_train, Y_test = train_test_split(X, Y, test_size=0.33, random_state=7)\n",
    "# Fit the model on 33%\n",
    "model = LogisticRegression(max_iter=500)\n",
    "model.fit(X_train, Y_train)\n",
    "# save the model to disk\n",
    "filename = 'finalized_model.sav'\n",
    "dump(model, filename)\n",
    "# some time later...\n",
    "# load the model from disk\n",
    "loaded_model = load(filename)\n",
    "result = loaded_model.score(X_test, Y_test)\n",
    "print(result)"
   ]
  }
 ],
 "metadata": {
  "kernelspec": {
   "display_name": "Python 3",
   "language": "python",
   "name": "python3"
  },
  "language_info": {
   "codemirror_mode": {
    "name": "ipython",
    "version": 3
   },
   "file_extension": ".py",
   "mimetype": "text/x-python",
   "name": "python",
   "nbconvert_exporter": "python",
   "pygments_lexer": "ipython3",
   "version": "3.13.2"
  }
 },
 "nbformat": 4,
 "nbformat_minor": 5
}
