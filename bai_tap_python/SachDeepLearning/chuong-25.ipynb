{
 "cells": [
  {
   "cell_type": "markdown",
   "id": "829be710",
   "metadata": {},
   "source": [
    "## Chuong 25\n",
    "- Xây dựng mô hình CNN đơn giản\n",
    "- Chi tiết kiến trúc:\n",
    "Conv2D (32 filters, 5x5 kernel): Lớp tích chập trích xuất đặc trưng từ ảnh đầu vào.\n",
    "MaxPooling2D(): Giảm kích thước ảnh đặc trưng và tăng tính khái quát.\n",
    "Dropout(0.2): Giảm overfitting bằng cách vô hiệu hóa ngẫu nhiên 20% số neuron trong quá trình huấn luyện.\n",
    "Flatten: Biến ảnh đặc trưng 2D thành vector 1D.\n",
    "Dense(128, relu): Lớp fully-connected ẩn.\n",
    "Dense(10, softmax): Lớp đầu ra với 10 nhãn tương ứng với 10 chữ số (0–9).\n",
    "\n",
    "📚 Dataset: MNIST (Modified National Institute of Standards and Technology)\n",
    "Gồm: 70.000 ảnh grayscale 28x28 pixels các chữ số viết tay từ 0 đến 9.\n",
    "\n",
    "60.000 ảnh huấn luyện (training set)\n",
    "\n",
    "10.000 ảnh kiểm tra (test set)\n",
    "\n",
    "Dữ liệu ảnh: 1 kênh (grayscale), kích thước 28x28.\n",
    "\n",
    "Dữ liệu nhãn (label): Các số từ 0 đến 9.\n",
    "\n",
    "✅ Ứng dụng thực tế:\n",
    "Bài toán phân loại ảnh đơn giản.\n",
    "\n",
    "Bài học nền tảng về xử lý ảnh, nhận diện chữ số, kiến trúc CNN.\n",
    "\n",
    "Là bài tập phổ biến trong học máy và deep learning nhập môn."
   ]
  },
  {
   "cell_type": "code",
   "execution_count": 1,
   "id": "02ef14d7",
   "metadata": {},
   "outputs": [
    {
     "name": "stdout",
     "output_type": "stream",
     "text": [
      "Downloading data from https://storage.googleapis.com/tensorflow/tf-keras-datasets/mnist.npz\n",
      "\u001b[1m11490434/11490434\u001b[0m \u001b[32m━━━━━━━━━━━━━━━━━━━━\u001b[0m\u001b[37m\u001b[0m \u001b[1m3s\u001b[0m 0us/step\n"
     ]
    },
    {
     "name": "stderr",
     "output_type": "stream",
     "text": [
      "c:\\Users\\USER\\AppData\\Local\\Programs\\Python\\Python312\\Lib\\site-packages\\keras\\src\\layers\\convolutional\\base_conv.py:107: UserWarning: Do not pass an `input_shape`/`input_dim` argument to a layer. When using Sequential models, prefer using an `Input(shape)` object as the first layer in the model instead.\n",
      "  super().__init__(activity_regularizer=activity_regularizer, **kwargs)\n"
     ]
    },
    {
     "name": "stdout",
     "output_type": "stream",
     "text": [
      "Epoch 1/10\n",
      "\u001b[1m300/300\u001b[0m \u001b[32m━━━━━━━━━━━━━━━━━━━━\u001b[0m\u001b[37m\u001b[0m \u001b[1m11s\u001b[0m 34ms/step - accuracy: 0.8651 - loss: 0.4799 - val_accuracy: 0.9780 - val_loss: 0.0746\n",
      "Epoch 2/10\n",
      "\u001b[1m300/300\u001b[0m \u001b[32m━━━━━━━━━━━━━━━━━━━━\u001b[0m\u001b[37m\u001b[0m \u001b[1m12s\u001b[0m 39ms/step - accuracy: 0.9775 - loss: 0.0778 - val_accuracy: 0.9835 - val_loss: 0.0504\n",
      "Epoch 3/10\n",
      "\u001b[1m300/300\u001b[0m \u001b[32m━━━━━━━━━━━━━━━━━━━━\u001b[0m\u001b[37m\u001b[0m \u001b[1m12s\u001b[0m 39ms/step - accuracy: 0.9843 - loss: 0.0527 - val_accuracy: 0.9867 - val_loss: 0.0426\n",
      "Epoch 4/10\n",
      "\u001b[1m300/300\u001b[0m \u001b[32m━━━━━━━━━━━━━━━━━━━━\u001b[0m\u001b[37m\u001b[0m \u001b[1m11s\u001b[0m 38ms/step - accuracy: 0.9881 - loss: 0.0396 - val_accuracy: 0.9890 - val_loss: 0.0349\n",
      "Epoch 5/10\n",
      "\u001b[1m300/300\u001b[0m \u001b[32m━━━━━━━━━━━━━━━━━━━━\u001b[0m\u001b[37m\u001b[0m \u001b[1m11s\u001b[0m 35ms/step - accuracy: 0.9902 - loss: 0.0329 - val_accuracy: 0.9887 - val_loss: 0.0351\n",
      "Epoch 6/10\n",
      "\u001b[1m300/300\u001b[0m \u001b[32m━━━━━━━━━━━━━━━━━━━━\u001b[0m\u001b[37m\u001b[0m \u001b[1m11s\u001b[0m 36ms/step - accuracy: 0.9920 - loss: 0.0262 - val_accuracy: 0.9870 - val_loss: 0.0362\n",
      "Epoch 7/10\n",
      "\u001b[1m300/300\u001b[0m \u001b[32m━━━━━━━━━━━━━━━━━━━━\u001b[0m\u001b[37m\u001b[0m \u001b[1m11s\u001b[0m 36ms/step - accuracy: 0.9925 - loss: 0.0232 - val_accuracy: 0.9902 - val_loss: 0.0292\n",
      "Epoch 8/10\n",
      "\u001b[1m300/300\u001b[0m \u001b[32m━━━━━━━━━━━━━━━━━━━━\u001b[0m\u001b[37m\u001b[0m \u001b[1m11s\u001b[0m 38ms/step - accuracy: 0.9938 - loss: 0.0192 - val_accuracy: 0.9898 - val_loss: 0.0325\n",
      "Epoch 9/10\n",
      "\u001b[1m300/300\u001b[0m \u001b[32m━━━━━━━━━━━━━━━━━━━━\u001b[0m\u001b[37m\u001b[0m \u001b[1m11s\u001b[0m 37ms/step - accuracy: 0.9950 - loss: 0.0153 - val_accuracy: 0.9904 - val_loss: 0.0309\n",
      "Epoch 10/10\n",
      "\u001b[1m300/300\u001b[0m \u001b[32m━━━━━━━━━━━━━━━━━━━━\u001b[0m\u001b[37m\u001b[0m \u001b[1m11s\u001b[0m 36ms/step - accuracy: 0.9958 - loss: 0.0138 - val_accuracy: 0.9907 - val_loss: 0.0306\n",
      "CNN Error: 0.93%\n"
     ]
    }
   ],
   "source": [
    "# Simple CNN for the MNIST Dataset\n",
    "from tensorflow.keras.datasets import mnist\n",
    "from tensorflow.keras.models import Sequential\n",
    "from tensorflow.keras.layers import Dense\n",
    "from tensorflow.keras.layers import Dropout\n",
    "from tensorflow.keras.layers import Flatten\n",
    "from tensorflow.keras.layers import Conv2D\n",
    "from tensorflow.keras.layers import MaxPooling2D\n",
    "from tensorflow.keras.utils import to_categorical\n",
    "# load data\n",
    "(X_train, y_train), (X_test, y_test) = mnist.load_data()\n",
    "# reshape to be [samples][width][height][channels]\n",
    "X_train = X_train.reshape((X_train.shape[0], 28, 28, 1)).astype('float32')\n",
    "X_test = X_test.reshape((X_test.shape[0], 28, 28, 1)).astype('float32')\n",
    "# normalize inputs from 0-255 to 0-1\n",
    "X_train = X_train / 255\n",
    "X_test = X_test / 255\n",
    "# one-hot encode outputs\n",
    "y_train = to_categorical(y_train)\n",
    "y_test = to_categorical(y_test)\n",
    "num_classes = y_test.shape[1]\n",
    "# define a simple CNN model\n",
    "def baseline_model():\n",
    "    # create model\n",
    "    model = Sequential()\n",
    "    model.add(Conv2D(32, (5, 5), input_shape=(28, 28, 1), activation='relu'))\n",
    "    model.add(MaxPooling2D())\n",
    "    model.add(Dropout(0.2))\n",
    "    model.add(Flatten())\n",
    "    model.add(Dense(128, activation='relu'))\n",
    "    model.add(Dense(num_classes, activation='softmax'))\n",
    "    # Compile model\n",
    "    model.compile(loss='categorical_crossentropy', optimizer='adam', metrics=['accuracy'])\n",
    "    return model\n",
    "# build the model\n",
    "model = baseline_model()\n",
    "# Fit the model\n",
    "model.fit(X_train, y_train, validation_data=(X_test, y_test), epochs=10, batch_size=200)\n",
    "# Final evaluation of the model\n",
    "scores = model.evaluate(X_test, y_test, verbose=0)\n",
    "print(\"CNN Error: %.2f%%\" % (100-scores[1]*100))"
   ]
  },
  {
   "cell_type": "markdown",
   "id": "8fe06fa9",
   "metadata": {},
   "source": [
    "📊 Kết quả huấn luyện mô hình CNN\n",
    "⚙️ Thông số huấn luyện:\n",
    "Số epoch: 10\n",
    "Batch size: 200\n",
    "Hàm mất mát: Categorical Crossentropy\n",
    "Bộ tối ưu hóa: Adam\n",
    "\n",
    "⚙️ Kiến trúc mô hình:\n",
    "Conv2D(32 filters, 5x5) + ReLU\n",
    "MaxPooling2D()\n",
    "Dropout(0.2)\n",
    "Flatten\n",
    "Dense(128) + ReLU\n",
    "Dense(10) + Softmax"
   ]
  }
 ],
 "metadata": {
  "kernelspec": {
   "display_name": "Python 3",
   "language": "python",
   "name": "python3"
  },
  "language_info": {
   "codemirror_mode": {
    "name": "ipython",
    "version": 3
   },
   "file_extension": ".py",
   "mimetype": "text/x-python",
   "name": "python",
   "nbconvert_exporter": "python",
   "pygments_lexer": "ipython3",
   "version": "3.12.2"
  }
 },
 "nbformat": 4,
 "nbformat_minor": 5
}
