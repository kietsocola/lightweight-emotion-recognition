











import numpy as np
import matplotlib.pyplot as plt
from IPython import display # hiển thị rich output





%time
#generate randomly the center (x,y) of circle, color, area
N = 50
x = np.random.rand(N)
y = np.random.rand(N)
colors= np.random.rand(N)
area = np.pi * (15* np.random.rand(N)) ** 2 # 0 to 15 point radii


# Mã kiểm tra dữ liệu
print (f'+x: len={len(x):d}, [{min(x):.2f}, {max(x):.2f}]: 10 samples [{x[0:10]}]')
print(f'+ y: len={len(y):d}, [{min(y):.2f}, {max(y):.2f}]: 10 samples [{y[0:10]}]')
print (f'+ colors: len={len(colors):d}, [{min(colors):.2f}, {max(colors):.2f}]: 10 samples [{colors[0:10]}]')
print (f'+ area: len={len(area):d}, [{min(area):.2f}, {max(area):.2f}]: 10 samples [{area [0:10]}]')





%matplotlib inline
plt.scatter(x, y, s=area, c=colors, alpha=0.5) 
plt.show()



