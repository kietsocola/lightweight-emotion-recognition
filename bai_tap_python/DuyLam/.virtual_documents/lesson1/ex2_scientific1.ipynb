ex2_scientific1.ipynb
