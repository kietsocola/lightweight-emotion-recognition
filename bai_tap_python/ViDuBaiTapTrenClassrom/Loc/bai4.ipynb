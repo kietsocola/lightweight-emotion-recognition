{
 "cells": [
  {
   "cell_type": "markdown",
   "id": "cccfe9cb-4a92-474c-9f6d-395ec9ae8ac0",
   "metadata": {},
   "source": [
    "# DL00_LamQuenPyThon"
   ]
  },
  {
   "cell_type": "markdown",
   "id": "cad306aa-7a38-4ff1-962e-0625e7f711f8",
   "metadata": {},
   "source": [
    "## Nội dung bài\n",
    "Tính toán đơn giản a + b"
   ]
  },
  {
   "cell_type": "code",
   "execution_count": null,
   "id": "599d50df-ce5b-4719-94ba-bc842efd86f5",
   "metadata": {},
   "outputs": [],
   "source": [
    "print(\"Calculator Basic\")"
   ]
  },
  {
   "cell_type": "code",
   "execution_count": null,
   "id": "7fff4948-9771-4580-bc52-9b40a2bae07e",
   "metadata": {},
   "outputs": [
    {
     "ename": "",
     "evalue": "",
     "output_type": "error",
     "traceback": [
      "\u001b[1;31mRunning cells with 'Python 3.10.12' requires the ipykernel package.\n",
      "\u001b[1;31mRun the following command to install 'ipykernel' into the Python environment. \n",
      "\u001b[1;31mCommand: 'c:/msys64/ucrt64/bin/python.exe -m pip install ipykernel -U --user --force-reinstall'"
     ]
    }
   ],
   "source": [
    "a = int(input(\"Moi ban nhap so a: \"))\n",
    "b = int(input(\"Moi ban nhap so b: \"))\n",
    "c = a + b\n",
    "print(\"c = %d + %d = %d\" % (a, b, c))"
   ]
  },
  {
   "cell_type": "markdown",
   "id": "cb88e943-1148-41ff-a356-1dcfbf6f522e",
   "metadata": {},
   "source": [
    "## Kết thúc"
   ]
  }
 ],
 "metadata": {
  "kernelspec": {
   "display_name": "Python 3",
   "language": "python",
   "name": "python3"
  },
  "language_info": {
   "codemirror_mode": {
    "name": "ipython",
    "version": 3
   },
   "file_extension": ".py",
   "mimetype": "text/x-python",
   "name": "python",
   "nbconvert_exporter": "python",
   "pygments_lexer": "ipython3",
   "version": "3.10.12"
  }
 },
 "nbformat": 4,
 "nbformat_minor": 5
}
