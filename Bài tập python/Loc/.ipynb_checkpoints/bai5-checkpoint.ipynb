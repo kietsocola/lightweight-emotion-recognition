{
 "cells": [
  {
   "cell_type": "markdown",
   "id": "cccfe9cb-4a92-474c-9f6d-395ec9ae8ac0",
   "metadata": {},
   "source": [
    "# DL00_LamQuenPyThon"
   ]
  },
  {
   "cell_type": "markdown",
   "id": "35622d37-b0a2-499c-b3a5-db0ac95381a3",
   "metadata": {},
   "source": [
    "# Tính toán khoa học"
   ]
  },
  {
   "cell_type": "markdown",
   "id": "cad306aa-7a38-4ff1-962e-0625e7f711f8",
   "metadata": {},
   "source": [
    "## Nội dung bài\n",
    "Hiển thị ngẫu nhiên $N=50$ hình tròn:  \n",
    "+ Tâm $c_i = (x_i,y_i)$ ngẫu nhiên với $x_i, y_i \\in \\left[0, 1 \\right]$  \n",
    "+ Màu sắc $color_i$ ngẫu nhiên với $color_i \\in \\left[0, 1 \\right]$  \n",
    "+ Diện tích $area_i = \\pi * r_i^2$ với sinh ngẫu nhiên $r_i \\in \\left[0, 1 \\right]$  "
   ]
  },
  {
   "cell_type": "markdown",
   "id": "85d00058-e526-4a49-89c8-31732babffe0",
   "metadata": {},
   "source": [
    "## Bài làm"
   ]
  },
  {
   "cell_type": "markdown",
   "id": "9a98213a-3e73-4c33-94bc-b66c56ced320",
   "metadata": {},
   "source": [
    "### Import thư viện"
   ]
  },
  {
   "cell_type": "code",
   "execution_count": null,
   "id": "c38e81ca-6117-4120-b958-8085db9b8462",
   "metadata": {},
   "outputs": [
    {
     "ename": "",
     "evalue": "",
     "output_type": "error",
     "traceback": [
      "\u001b[1;31mRunning cells with 'Python 3.13.2' requires the ipykernel package.\n",
      "\u001b[1;31mRun the following command to install 'ipykernel' into the Python environment. \n",
      "\u001b[1;31mCommand: '/opt/homebrew/bin/python3 -m pip install ipykernel -U --user --force-reinstall'"
     ]
    }
   ],
   "source": [
    "!pip3 install numpy\n",
    "!pip3 install matplotlib"
   ]
  },
  {
   "cell_type": "code",
   "execution_count": null,
   "id": "80fc3beb-943e-4ecb-8931-07550ff8a81e",
   "metadata": {},
   "outputs": [],
   "source": [
    "import sys\n",
    "import numpy as np\n",
    "import matplotlib.pylot as plt\n",
    "from Ipython import display"
   ]
  },
  {
   "cell_type": "markdown",
   "id": "65b900a2-b54d-48df-814a-2e5f5320b768",
   "metadata": {},
   "source": [
    "### Sinh ngẫu nhiên hình tròn "
   ]
  },
  {
   "cell_type": "code",
   "execution_count": null,
   "id": "c6ccccc4-ee7b-4788-9c2b-3096b55294a1",
   "metadata": {},
   "outputs": [],
   "source": [
    "%time\n",
    "N = 50\n",
    "x = np.random.rand(N)\n",
    "y = np.random.rand(N)\n",
    "colors = np.random.rand(N)\n",
    "area = np.pi * (15 * np.random.rand(N)) ** 2"
   ]
  },
  {
   "cell_type": "markdown",
   "id": "281590e1-32bc-4557-9fbe-6d6f5d0bb727",
   "metadata": {},
   "source": [
    "### Hiển thị đồ thị "
   ]
  },
  {
   "cell_type": "code",
   "execution_count": null,
   "id": "253ea70c-7ff4-4e46-bde2-647e073da283",
   "metadata": {},
   "outputs": [],
   "source": [
    "# Mã kiểm tra dữ liệu\n",
    "print(f'+ x: len={len(x):d}, [{min(x):.2f}, {max(x):.2f}]: 10 samples [{x[0:10]}]')\n",
    "print(f'+ y: len={len(y):d}, [{min(y):.2f}, {max(y):.2f}]: 10 samples [{y[0:10]}]')\n",
    "print(f'+ colors: len={len(colors):d}, [{min(colors):.2f}, {max(colors):.2f}]: 10 samples [{colors[0:10]}]')\n",
    "print(f'+ area: len={len(area):d}, [{min(area):.2f}, {max(area):.2f}]: 10 samples [{area[0:10]}]')"
   ]
  },
  {
   "cell_type": "code",
   "execution_count": null,
   "id": "26f8e65c-eb40-4d41-be11-e5b2ad92199e",
   "metadata": {},
   "outputs": [],
   "source": [
    "%matplotlib inline\n",
    "plt.scatter(x,y, s = area, c = colors, alpha = 0.5)\n",
    "plt.show()"
   ]
  },
  {
   "cell_type": "markdown",
   "id": "cb88e943-1148-41ff-a356-1dcfbf6f522e",
   "metadata": {},
   "source": [
    "# Kết thúc"
   ]
  },
  {
   "cell_type": "code",
   "execution_count": null,
   "id": "3fb23ac3-51ee-441a-a928-2efc9c0e145d",
   "metadata": {},
   "outputs": [],
   "source": []
  }
 ],
 "metadata": {
  "kernelspec": {
   "display_name": "Python 3",
   "language": "python",
   "name": "python3"
  },
  "language_info": {
   "codemirror_mode": {
    "name": "ipython",
    "version": 3
   },
   "file_extension": ".py",
   "mimetype": "text/x-python",
   "name": "python",
   "nbconvert_exporter": "python",
   "pygments_lexer": "ipython3",
   "version": "3.13.2"
  }
 },
 "nbformat": 4,
 "nbformat_minor": 5
}
