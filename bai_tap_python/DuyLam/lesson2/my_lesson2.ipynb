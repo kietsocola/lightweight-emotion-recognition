{
 "cells": [
  {
   "cell_type": "code",
   "execution_count": 6,
   "id": "a89ba65b-a069-4ca0-960d-4700799cd08d",
   "metadata": {},
   "outputs": [
    {
     "name": "stdin",
     "output_type": "stream",
     "text": [
      "Moi ban nhap vao gia tri cua bien so x:  2\n"
     ]
    },
    {
     "name": "stdout",
     "output_type": "stream",
     "text": [
      "Gia tri cua ham so f(2.0) =  2.77.\n"
     ]
    }
   ],
   "source": [
    "%run bai-01.py"
   ]
  },
  {
   "cell_type": "code",
   "execution_count": 15,
   "id": "11819d4e-1e86-4fb9-a408-cfd0b430e936",
   "metadata": {},
   "outputs": [
    {
     "name": "stdin",
     "output_type": "stream",
     "text": [
      "Nhap vao tong so giay:  123\n"
     ]
    },
    {
     "name": "stdout",
     "output_type": "stream",
     "text": [
      "123 giay co dang 0:2:3\n"
     ]
    }
   ],
   "source": [
    "%run bai-02.py"
   ]
  },
  {
   "cell_type": "code",
   "execution_count": 25,
   "id": "1096c095-adbf-4e4b-9092-c6483fa3a949",
   "metadata": {},
   "outputs": [
    {
     "name": "stdin",
     "output_type": "stream",
     "text": [
      "Mời bạn nhập hệ số a:  12\n",
      "Mời bạn nhập hệ số b:  1\n"
     ]
    },
    {
     "name": "stdout",
     "output_type": "stream",
     "text": [
      "Phương trình 12x + 1 = 0 có 1 nghiệm x = -0.08.\n"
     ]
    }
   ],
   "source": [
    "%run bai-03.py"
   ]
  },
  {
   "cell_type": "code",
   "execution_count": 30,
   "id": "6a605178-cbfa-43d9-88ad-4af2d69f7bfe",
   "metadata": {},
   "outputs": [
    {
     "name": "stdin",
     "output_type": "stream",
     "text": [
      "Mời bạn nhập chuỗi ký số s:  one\n"
     ]
    },
    {
     "name": "stdout",
     "output_type": "stream",
     "text": [
      "Chuỗi vừa nhập hợp lệ!\n",
      "\"one\" biểu diễn cho số \"1\" và ứng với tiếng Việt \"một\"\n"
     ]
    }
   ],
   "source": [
    "%run bai-04.py"
   ]
  },
  {
   "cell_type": "code",
   "execution_count": 35,
   "id": "a832f961-7b92-4c96-a5e3-5c6e6c208bb0",
   "metadata": {},
   "outputs": [
    {
     "name": "stdin",
     "output_type": "stream",
     "text": [
      "Mời bạn nhập số nguyên n:  2\n"
     ]
    },
    {
     "name": "stdout",
     "output_type": "stream",
     "text": [
      "Tổng các số chẵn từ 1 đến 2 là 2.\n"
     ]
    }
   ],
   "source": [
    "%run bai-05.py"
   ]
  },
  {
   "cell_type": "code",
   "execution_count": 40,
   "id": "d2e58899-f781-4774-a8f3-6053cc3ab435",
   "metadata": {},
   "outputs": [
    {
     "name": "stdin",
     "output_type": "stream",
     "text": [
      "Mời bạn nhập số nguyên n:  97\n"
     ]
    },
    {
     "name": "stdout",
     "output_type": "stream",
     "text": [
      "97 là số nguyên tố.\n"
     ]
    }
   ],
   "source": [
    "%run bai-06.py"
   ]
  },
  {
   "cell_type": "code",
   "execution_count": 43,
   "id": "904a8f97-fd23-4340-87f0-b1cc876f6498",
   "metadata": {},
   "outputs": [
    {
     "name": "stdin",
     "output_type": "stream",
     "text": [
      "Mời bạn nhập hệ số a, b, c:  1 3 5\n"
     ]
    },
    {
     "name": "stdout",
     "output_type": "stream",
     "text": [
      "Phương trình bậc 2 1x^2 + 3x + 5 = 0 vô nghiệm!\n"
     ]
    }
   ],
   "source": [
    "%run bai-07.py"
   ]
  },
  {
   "cell_type": "code",
   "execution_count": 46,
   "id": "ee0eb623-2c14-4e20-8315-9c7be00cac28",
   "metadata": {},
   "outputs": [
    {
     "name": "stdin",
     "output_type": "stream",
     "text": [
      "Moi ban nhap mang (cach nhau khoang trang):  2 6 5 1 2 3\n"
     ]
    },
    {
     "name": "stdout",
     "output_type": "stream",
     "text": [
      "Mang co 6 phan tu: 2 6 5 1 2 3\n",
      "Mảng ngẫu nhiên: [0, 9, 0, -9, -3, 1, -3, -4, 7, 4, 8, 10, 5, 1, 7, -6, -2, -9, -5, -10, -7, -8, 10, -7, -6, -4, -10, -1, 10, 0]\n",
      "Tổng: -22, Số chẵn: 16, Số lẻ: 14\n",
      "Chan: [0, 0, -4, 4, 8, 10, -6, -2, -10, -8, 10, -6, -4, -10, 10, 0]\n",
      "Le: [9, -9, -3, 1, -3, 7, 5, 1, 7, -9, -5, -7, -7, -1]\n"
     ]
    }
   ],
   "source": [
    "%run bai-08.py"
   ]
  },
  {
   "cell_type": "code",
   "execution_count": 49,
   "id": "1618a8ca-ff6c-4109-b593-29a5a0a26f18",
   "metadata": {},
   "outputs": [
    {
     "name": "stdout",
     "output_type": "stream",
     "text": [
      "['A', 'C', 'F', 'G', 'H', 'T']\n",
      "{'A': 2, 'G': 1, 'C': 2, 'F': 2, 'T': 1, 'H': 1}\n"
     ]
    }
   ],
   "source": [
    "%run bai-09.py"
   ]
  }
 ],
 "metadata": {
  "kernelspec": {
   "display_name": "Python [conda env:base] *",
   "language": "python",
   "name": "conda-base-py"
  },
  "language_info": {
   "codemirror_mode": {
    "name": "ipython",
    "version": 3
   },
   "file_extension": ".py",
   "mimetype": "text/x-python",
   "name": "python",
   "nbconvert_exporter": "python",
   "pygments_lexer": "ipython3",
   "version": "3.12.7"
  }
 },
 "nbformat": 4,
 "nbformat_minor": 5
}
